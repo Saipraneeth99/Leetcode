{
  "nbformat": 4,
  "nbformat_minor": 0,
  "metadata": {
    "colab": {
      "provenance": [],
      "authorship_tag": "ABX9TyNrID7FB04hfeq1TWyFMZWH",
      "include_colab_link": true
    },
    "kernelspec": {
      "name": "python3",
      "display_name": "Python 3"
    },
    "language_info": {
      "name": "python"
    }
  },
  "cells": [
    {
      "cell_type": "markdown",
      "metadata": {
        "id": "view-in-github",
        "colab_type": "text"
      },
      "source": [
        "<a href=\"https://colab.research.google.com/github/Saipraneeth99/Leetcode/blob/main/week2/TIQ_math.ipynb\" target=\"_parent\"><img src=\"https://colab.research.google.com/assets/colab-badge.svg\" alt=\"Open In Colab\"/></a>"
      ]
    },
    {
      "cell_type": "markdown",
      "source": [
        "## 412. [Fizz Buzz](https://leetcode.com/problems/fizz-buzz/description/)\n",
        "\n",
        "### Problem Description\n",
        "Write a function that returns a string array from 1 to n, following these rules:\n",
        "- For multiples of three, add \"Fizz\" instead of the number,\n",
        "- For multiples of five, add \"Buzz\",\n",
        "- For numbers which are multiples of both three and five, add \"FizzBuzz\",\n",
        "- For numbers that are neither, add the number itself as a string.\n",
        "\n",
        "### Expected Input and Output\n",
        "\n",
        "- **Input**: `n = 3`\n",
        "- **Output**: `[\"1\", \"2\", \"Fizz\"]`\n",
        "\n",
        "- **Input**: `n = 5`\n",
        "- **Output**: `[\"1\", \"2\", \"Fizz\", \"4\", \"Buzz\"]`\n",
        "\n",
        "### Conceptual Logic\n",
        "Iterate from 1 to `n`, checking divisibility by 3 and 5 for each number. Concatenate \"Fizz\", \"Buzz\", or both to the result string based on divisibility, defaulting to the number itself if neither condition is met.\n",
        "\n",
        "### Why This Approach?\n",
        "This approach straightforwardly addresses the problem's conditions with direct checks for divisibility, making it intuitive and efficient for the specified task. It leverages basic modular arithmetic to differentiate cases and builds the answer progressively.\n",
        "\n",
        "### Time and Space Complexity\n",
        "- **Time Complexity**: O(n), where `n` is the input number, as the solution iterates through each number from 1 to `n`.\n",
        "- **Space Complexity**: O(n), to store the result strings for each number from 1 to `n`.\n",
        "\n",
        "### Approach Name\n",
        "The \"Modular Arithmetic & Conditional Concatenation\" approach, reflecting the use of modulus operations and string concatenation based on conditional checks.\n",
        "\n"
      ],
      "metadata": {
        "id": "YkgYI_CwjDyO"
      }
    },
    {
      "cell_type": "code",
      "source": [
        "\n",
        "class Solution:\n",
        "    def fizzBuzz(self, n):\n",
        "        ans = []\n",
        "        for num in range(1, n + 1):\n",
        "            divisible_by_3 = (num % 3 == 0)\n",
        "            divisible_by_5 = (num % 5 == 0)\n",
        "            num_ans_str = \"\"\n",
        "            if divisible_by_3:\n",
        "                num_ans_str += \"Fizz\"\n",
        "            if divisible_by_5:\n",
        "                num_ans_str += \"Buzz\"\n",
        "            if not num_ans_str:\n",
        "                num_ans_str = str(num)\n",
        "            ans.append(num_ans_str)\n",
        "        return ans\n",
        "\n",
        "solution = Solution()\n",
        "\n",
        "# Test case 1\n",
        "print(solution.fizzBuzz(3))  # Output: [\"1\", \"2\", \"Fizz\"]\n",
        "\n",
        "# Test case 2\n",
        "print(solution.fizzBuzz(5))  # Output: [\"1\", \"2\", \"Fizz\", \"4\", \"Buzz\"]\n"
      ],
      "metadata": {
        "colab": {
          "base_uri": "https://localhost:8080/"
        },
        "id": "v3Yr-1rfjJQY",
        "outputId": "2034c543-ddb5-4569-df94-1b9e9b8e73be"
      },
      "execution_count": 2,
      "outputs": [
        {
          "output_type": "stream",
          "name": "stdout",
          "text": [
            "['1', '2', 'Fizz']\n",
            "['1', '2', 'Fizz', '4', 'Buzz']\n"
          ]
        }
      ]
    },
    {
      "cell_type": "markdown",
      "source": [
        "## 204. [Count Primes](https://leetcode.com/problems/count-primes/)\n",
        "\n",
        "### Problem Description\n",
        "Given an integer `n`, return the number of prime numbers that are strictly less than `n`.\n",
        "\n",
        "### Expected Input and Output\n",
        "- **Input**: `n = 10`\n",
        "- **Output**: `4` (There are 4 prime numbers less than 10: 2, 3, 5, 7.)\n",
        "\n",
        "- **Input**: `n = 0`\n",
        "- **Output**: `0`\n",
        "\n",
        "- **Input**: `n = 1`\n",
        "- **Output**: `0`\n",
        "\n",
        "### Conceptual Logic\n",
        "The solution employs the Sieve of Eratosthenes algorithm to efficiently find all prime numbers less than `n`. It initializes a list to track prime numbers, iteratively marks multiples of each prime number as non-prime, and counts the remaining primes.\n",
        "\n",
        "### Why This Approach?\n",
        "The Sieve of Eratosthenes is a highly efficient way to generate a list of primes and is particularly suitable for finding all primes smaller than a certain number `n` due to its O(n log log n) time complexity, which is faster than checking each number individually.\n",
        "\n",
        "### Time and Space Complexity\n",
        "- **Time Complexity**: O(n log log n), which is the time complexity of the Sieve of Eratosthenes algorithm due to the iterative process of eliminating multiples of primes.\n",
        "- **Space Complexity**: O(n), for storing the boolean array that tracks whether each number up to `n` is prime.\n",
        "\n",
        "### Approach Name\n",
        "The \"Sieve of Eratosthenes\" method accurately describes this approach, focusing on its mechanism for identifying prime numbers.\n",
        "\n"
      ],
      "metadata": {
        "id": "Q37fGadcjD16"
      }
    },
    {
      "cell_type": "code",
      "source": [
        "\n",
        "class Solution:\n",
        "    def countPrimes(self, n):\n",
        "        if n <= 2:\n",
        "            return 0\n",
        "        isPrime = [False, False] + [True] * (n - 2)  # Initialize list to track primes\n",
        "        for i in range(2, int(n**0.5) + 1):  # Corrected to n**0.5 for the square root\n",
        "            if isPrime[i]:\n",
        "                for j in range(i*i, n, i):\n",
        "                    isPrime[j] = False\n",
        "        return sum(isPrime)\n",
        "\n",
        "# Example usage\n",
        "solution = Solution()\n",
        "\n",
        "# Test case 1\n",
        "print(solution.countPrimes(10))  # Output: 4\n",
        "\n",
        "# Test case 2\n",
        "print(solution.countPrimes(0))  # Output: 0\n",
        "\n",
        "# Test case 3\n",
        "print(solution.countPrimes(1))  # Output: 0\n"
      ],
      "metadata": {
        "colab": {
          "base_uri": "https://localhost:8080/"
        },
        "id": "cM5NpmIqjUya",
        "outputId": "1759f008-f9bb-459c-f378-4e1f8704dfa0"
      },
      "execution_count": 3,
      "outputs": [
        {
          "output_type": "stream",
          "name": "stdout",
          "text": [
            "4\n",
            "0\n",
            "0\n"
          ]
        }
      ]
    },
    {
      "cell_type": "code",
      "source": [],
      "metadata": {
        "id": "VAVxmo2hjWcv"
      },
      "execution_count": null,
      "outputs": []
    },
    {
      "cell_type": "markdown",
      "source": [
        "## 326. [Power of Three](https://leetcode.com/problems/power-of-three/description/)\n",
        "\n",
        "### Problem Description\n",
        "Determine if a given integer `n` is a power of three. That is, check if `n` can be expressed as \\(3^x\\) for some integer \\(x\\).\n",
        "\n",
        "### Expected Input and Output\n",
        "- **Input**: `n = 27`\n",
        "- **Output**: `true` (Explanation: \\(27 = 3^3\\))\n",
        "\n",
        "- **Input**: `n = 0`\n",
        "- **Output**: `false` (Explanation: There is no \\(x\\) where \\(3^x = 0\\))\n",
        "\n",
        "### Conceptual Logic\n",
        "To verify if `n` is a power of three, continuously divide `n` by 3 as long as `n` is divisible by 3. If the final result is 1, `n` is a power of three; otherwise, it is not.\n",
        "\n",
        "### Why This Approach?\n",
        "Iteratively dividing `n` by 3 and checking divisibility is a straightforward and efficient way to determine if `n` is a power of three. This approach directly leverages the definition of what it means for a number to be a power of three, requiring no additional space and minimal computation.\n",
        "\n",
        "### Time and Space Complexity\n",
        "- **Time Complexity**: O(log₃n), as the algorithm divides `n` by 3 in each iteration until it reaches 1 or a non-divisible number.\n",
        "- **Space Complexity**: O(1), since the algorithm uses a constant amount of space.\n",
        "\n",
        "### Approach Name\n",
        "\"Iterative Division\" succinctly describes the method of iteratively dividing the number by 3 to determine if it is a power of three.\n",
        "\n"
      ],
      "metadata": {
        "id": "KF1tVImpjbog"
      }
    },
    {
      "cell_type": "code",
      "source": [
        "\n",
        "class Solution:\n",
        "    def isPowerOfThree(self, n: int) -> bool:\n",
        "        if n < 1:\n",
        "            return False\n",
        "        while n % 3 == 0:\n",
        "            n /= 3\n",
        "        return n == 1\n",
        "\n",
        "# Test cases\n",
        "solution = Solution()\n",
        "\n",
        "# Test case 1\n",
        "print(solution.isPowerOfThree(27))  # Output: true\n",
        "\n",
        "# Test case 2\n",
        "print(solution.isPowerOfThree(0))  # Output: false\n",
        "\n",
        "# Test case 3\n",
        "print(solution.isPowerOfThree(9))  # Output: true\n"
      ],
      "metadata": {
        "colab": {
          "base_uri": "https://localhost:8080/"
        },
        "id": "jNo8eq-ujd-f",
        "outputId": "7718fdaf-d753-4879-979b-4da9dcbae2c5"
      },
      "execution_count": 4,
      "outputs": [
        {
          "output_type": "stream",
          "name": "stdout",
          "text": [
            "True\n",
            "False\n",
            "True\n"
          ]
        }
      ]
    },
    {
      "cell_type": "markdown",
      "source": [
        "## 13. [Roman to Integer](https://leetcode.com/problems/roman-to-integer/description/)\n",
        "\n",
        "### Problem Description\n",
        "Convert a Roman numeral to an integer. Roman numerals are made up of seven symbols with their values as follows: I (1), V (5), X (10), L (50), C (100), D (500), and M (1000). The numerals are typically written from largest to smallest, and if a smaller numeral appears before a larger one, it is subtracted.\n",
        "\n",
        "### Expected Input and Output\n",
        "- **Input**: `s = \"III\"`\n",
        "- **Output**: `3`\n",
        "\n",
        "- **Input**: `s = \"LVIII\"`\n",
        "- **Output**: `58`\n",
        "\n",
        "- **Input**: `s = \"MCMXCIV\"`\n",
        "- **Output**: `1994`\n",
        "\n",
        "### Conceptual Logic\n",
        "The solution iterates through the given Roman numeral string, converting each symbol to its corresponding integer value. When a numeral that represents a smaller value precedes a numeral of a larger value, the smaller value is subtracted from the result to account for the Roman numeral subtraction rule.\n",
        "\n",
        "### Why This Approach?\n",
        "This approach directly maps each Roman numeral to its integer value and leverages the order and subtraction rules of Roman numerals to compute the integer value accurately and efficiently.\n",
        "\n",
        "### Time and Space Complexity\n",
        "- **Time Complexity**: O(n), where `n` is the length of the Roman numeral string. Each character is visited once.\n",
        "- **Space Complexity**: O(1), as the space required does not scale with the input size, only requiring a fixed-size hash table for the numeral mappings.\n",
        "\n",
        "### Approach Name\n",
        "\"Sequential Parsing with Subtraction Handling\" describes this method, emphasizing the sequential processing of characters and the specific handling of Roman numeral subtraction cases.\n",
        "\n"
      ],
      "metadata": {
        "id": "2oVcNiOpjhnG"
      }
    },
    {
      "cell_type": "code",
      "source": [
        "\n",
        "class Solution:\n",
        "    def romanToInt(self, s: str) -> int:\n",
        "        roman_numerals = {\n",
        "            \"I\": 1, \"V\": 5, \"X\": 10, \"L\": 50,\n",
        "            \"C\": 100, \"D\": 500, \"M\": 1000\n",
        "        }\n",
        "        result = 0\n",
        "        for i in range(len(s)):\n",
        "            if i > 0 and roman_numerals[s[i]] > roman_numerals[s[i - 1]]:\n",
        "                result += roman_numerals[s[i]] - 2 * roman_numerals[s[i - 1]]\n",
        "            else:\n",
        "                result += roman_numerals[s[i]]\n",
        "        return result\n",
        "\n",
        "# Test cases\n",
        "solution = Solution()\n",
        "print(solution.romanToInt(\"III\"))  # Output: 3\n",
        "print(solution.romanToInt(\"LVIII\"))  # Output: 58\n",
        "print(solution.romanToInt(\"MCMXCIV\"))  # Output: 1994\n"
      ],
      "metadata": {
        "colab": {
          "base_uri": "https://localhost:8080/"
        },
        "id": "PynSJuKqjfcF",
        "outputId": "0edebf92-5a5e-423d-ab84-9f79ac6ffffd"
      },
      "execution_count": 5,
      "outputs": [
        {
          "output_type": "stream",
          "name": "stdout",
          "text": [
            "3\n",
            "58\n",
            "1994\n"
          ]
        }
      ]
    },
    {
      "cell_type": "code",
      "source": [],
      "metadata": {
        "id": "-0e3iHmtjkwM"
      },
      "execution_count": null,
      "outputs": []
    }
  ]
}