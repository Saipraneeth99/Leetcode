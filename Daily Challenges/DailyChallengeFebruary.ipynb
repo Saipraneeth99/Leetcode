{
  "nbformat": 4,
  "nbformat_minor": 0,
  "metadata": {
    "colab": {
      "provenance": [],
      "include_colab_link": true
    },
    "kernelspec": {
      "name": "python3",
      "display_name": "Python 3"
    },
    "language_info": {
      "name": "python"
    }
  },
  "cells": [
    {
      "cell_type": "markdown",
      "metadata": {
        "id": "view-in-github",
        "colab_type": "text"
      },
      "source": [
        "<a href=\"https://colab.research.google.com/github/Saipraneeth99/Leetcode/blob/main/Daily%20Challenges/DailyChallengeFebruary.ipynb\" target=\"_parent\"><img src=\"https://colab.research.google.com/assets/colab-badge.svg\" alt=\"Open In Colab\"/></a>"
      ]
    },
    {
      "cell_type": "code",
      "execution_count": null,
      "metadata": {
        "id": "Q_GMZ40tvcT1"
      },
      "outputs": [],
      "source": []
    },
    {
      "cell_type": "markdown",
      "source": [],
      "metadata": {
        "id": "8pp6grU96Sqr"
      }
    },
    {
      "cell_type": "markdown",
      "source": [
        "## 2966. [Divide Array Into Arrays With Max Difference](https://leetcode.com/problems/divide-array-into-arrays-with-max-difference/description/)\n",
        "\n",
        "### Conceptual Logic\n",
        "This method seeks to divide a sorted array into subarrays of size 3 such that the maximum difference between any two elements in each subarray is less than or equal to a given threshold `k`. If this condition can't be met for any subarray, an empty array is returned.\n",
        "\n",
        "### Why This Approach?\n",
        "The approach makes use of the sorted property of arrays to ensure that the maximum difference is checked only between the first and last elements of each potential subarray. This is efficient because sorting guarantees that these are the minimum and maximum values of the subarray.\n",
        "\n",
        "### Time and Space Complexity\n",
        "- **Time Complexity**: O(n), assuming the sort operation has already been done, where n is the number of elements in the array. The iteration through the array adds a linear term.\n",
        "- **Space Complexity**: O(n), where n is the number of elements in `nums`. This is for storing the `solution`, which in the worst case, will contain all elements of `nums` divided into subarrays.\n",
        "\n",
        "### Approach Name\n",
        "The algorithm used here could be described as a \"Sorted Array Partitioning\" approach since it involves partitioning a sorted array into valid subarrays based on a given difference condition.\n"
      ],
      "metadata": {
        "id": "clfGytQl1ZGt"
      }
    },
    {
      "cell_type": "code",
      "source": [
        "\n",
        "class Solution:\n",
        "    def divideArray(self, nums, k):\n",
        "        nums.sort()\n",
        "        solution = []\n",
        "        for i in range(0, len(nums), 3):\n",
        "            if (nums[i + 2] - nums[i]) > k:\n",
        "                return []\n",
        "            else:\n",
        "                solution.append(nums[i:i + 3])\n",
        "        return solution\n",
        "\n",
        "# Test cases\n",
        "solution = Solution()\n",
        "\n",
        "# Test case 1\n",
        "nums1 = [1, 3, 4, 8, 7, 9, 3, 5, 1]\n",
        "k1 = 2\n",
        "# Expected output: [[1, 1, 3], [3, 4, 5], [7, 8, 9]]\n",
        "result1 = solution.divideArray(nums1, k1)\n",
        "\n",
        "# Test case 2\n",
        "nums2 = [1, 2, 3, 4, 5, 6, 7, 8, 9]\n",
        "k2 = 10\n",
        "# Expected output: [[1, 2, 3], [4, 5, 6], [7, 8, 9]] since k is large enough to accommodate any differences\n",
        "result2 = solution.divideArray(nums2, k2)\n",
        "\n",
        "result1, result2\n"
      ],
      "metadata": {
        "colab": {
          "base_uri": "https://localhost:8080/"
        },
        "id": "doEo4zN91bn3",
        "outputId": "2fd55d2c-f19f-410d-c9e7-16d4d9c57fcd"
      },
      "execution_count": null,
      "outputs": [
        {
          "output_type": "execute_result",
          "data": {
            "text/plain": [
              "([[1, 1, 3], [3, 4, 5], [7, 8, 9]], [[1, 2, 3], [4, 5, 6], [7, 8, 9]])"
            ]
          },
          "metadata": {},
          "execution_count": 1
        }
      ]
    },
    {
      "cell_type": "markdown",
      "source": [
        "## 1291. [Sequential Digits](https://leetcode.com/problems/sequential-digits/description/)\n",
        "\n",
        "### Conceptual Logic\n",
        "The algorithm generates numbers with sequential digits that fall within a specified range. It forms these by selecting continuous subsequences of a string of sequential digits '123456789', fitting them within the given range.\n",
        "\n",
        "### Why This Approach?\n",
        "This method is akin to a sliding window that 'slides' over a string of sequential digits, taking substrings of increasing lengths, and checks if they lie within the specified range. It efficiently uses the inherent orderliness of the string to create the sequential numbers.\n",
        "\n",
        "### Time and Space Complexity\n",
        "- **Time Complexity**: O(1), because the number of sequential digit combinations is constant and does not scale with the input size.\n",
        "- **Space Complexity**: O(1), since the maximum size of the output list is limited by the number of sequential digit combinations available, which is also constant.\n",
        "\n",
        "### Approach Name\n",
        "The approach is reminiscent of a \"Sliding Window\" technique over a string, where the window size increases from the minimum length of a number within the range to the maximum length, inclusively. Each window 'slide' yields a potential sequential digit number to be checked against the range.\n"
      ],
      "metadata": {
        "id": "vHW0D5S43YAP"
      }
    },
    {
      "cell_type": "code",
      "source": [
        "\n",
        "class Solution:\n",
        "    def sequentialDigits(self, low, high):\n",
        "        sample = '123456789'\n",
        "        solution = []\n",
        "        for length in range(len(str(low)), len(str(high)) + 1):\n",
        "            for start in range(10 - length):\n",
        "                num = int(sample[start:start + length])\n",
        "                if low <= num <= high:\n",
        "                    solution.append(num)\n",
        "        return solution\n",
        "\n",
        "# Test cases\n",
        "solution = Solution()\n",
        "\n",
        "# Test case 1\n",
        "low1 = 100\n",
        "high1 = 300\n",
        "# Expected output: [123, 234]\n",
        "result1 = solution.sequentialDigits(low1, high1)\n",
        "\n",
        "# Test case 2\n",
        "low2 = 1000\n",
        "high2 = 13000\n",
        "# Expected output: [1234, 2345, 3456, 4567, 5678, 6789, 12345]\n",
        "result2 = solution.sequentialDigits(low2, high2)\n",
        "\n",
        "result1, result2\n"
      ],
      "metadata": {
        "colab": {
          "base_uri": "https://localhost:8080/"
        },
        "id": "69oK-K391fYC",
        "outputId": "ed10f976-95aa-429d-9a17-95fce2912473"
      },
      "execution_count": null,
      "outputs": [
        {
          "output_type": "execute_result",
          "data": {
            "text/plain": [
              "([123, 234], [1234, 2345, 3456, 4567, 5678, 6789, 12345])"
            ]
          },
          "metadata": {},
          "execution_count": 2
        }
      ]
    },
    {
      "cell_type": "markdown",
      "source": [
        "## 1043. [Partition Array for Maximum Sum](https://leetcode.com/problems/partition-array-for-maximum-sum/description/)\n",
        "\n",
        "### Conceptual Logic\n",
        "This solution finds the maximum sum obtainable by partitioning the array into subarrays of length at most `k`, where the sum of each partition is calculated as the maximum element in that partition multiplied by the partition's length. It uses dynamic programming to keep track of the maximum sum that can be achieved up to each index by considering all possible partition lengths up to `k`.\n",
        "\n",
        "### Why This Approach?\n",
        "Dynamic programming is particularly suited for this problem because it involves making decisions that depend on the results of previous decisions. By breaking the problem into smaller subproblems (finding the maximum sum up to each index), it ensures that each subproblem is solved optimally, leading to an overall optimal solution.\n",
        "\n",
        "### Time and Space Complexity\n",
        "- **Time Complexity**: O(nk), where n is the length of the array and k is the maximum partition size. For each element, the solution iterates through up to k previous elements to find the best partition.\n",
        "- **Space Complexity**: O(n), for storing the DP array that tracks the maximum sum that can be obtained up to each index in the array.\n",
        "\n",
        "### Approach Name\n",
        "The algorithm employs a \"Dynamic Programming with Partitioning\" approach, as it involves partitioning the array into segments and dynamically calculating the maximum sum that can be obtained.\n"
      ],
      "metadata": {
        "id": "ePbKD2T1b5XV"
      }
    },
    {
      "cell_type": "code",
      "source": [
        "\n",
        "class Solution:\n",
        "    def maxSumAfterPartitioning(self, arr, k):\n",
        "        n = len(arr)\n",
        "        dp = [0] * n\n",
        "\n",
        "        for i in range(n):\n",
        "            max_value = 0\n",
        "            for j in range(1, min(k, i + 1) + 1):\n",
        "                max_value = max(max_value, arr[i - j + 1])\n",
        "\n",
        "                if i>=j:\n",
        "                    dp[i] = max(dp[i],dp[i-j] + max_value * j)\n",
        "                else:\n",
        "                    dp[i] = max(dp[i], max_value * j)\n",
        "\n",
        "        return dp[-1]\n",
        "\n",
        "# Test cases\n",
        "solution = Solution()\n",
        "\n",
        "# Test case 1\n",
        "arr1 = [1,15,7,9,2,5,10]\n",
        "k1 = 3\n",
        "# Expected output: 84\n",
        "result1 = solution.maxSumAfterPartitioning(arr1, k1)\n",
        "\n",
        "# Test case 2\n",
        "arr2 = [1,4,1,5,7,3,6,1,9,9,3]\n",
        "k2 = 4\n",
        "# Expected output: 83\n",
        "result2 = solution.maxSumAfterPartitioning(arr2, k2)\n",
        "\n",
        "result1, result2\n"
      ],
      "metadata": {
        "id": "TsGsOnFKb-Vd",
        "outputId": "45f86b4b-4dfb-4582-f82b-156cd92c523e",
        "colab": {
          "base_uri": "https://localhost:8080/"
        }
      },
      "execution_count": null,
      "outputs": [
        {
          "output_type": "execute_result",
          "data": {
            "text/plain": [
              "(84, 83)"
            ]
          },
          "metadata": {},
          "execution_count": 4
        }
      ]
    },
    {
      "cell_type": "markdown",
      "source": [
        "## 76. [Minimum Window Substring](https://leetcode.com/problems/minimum-window-substring/description/)\n",
        "\n",
        "### Conceptual Logic\n",
        "This solution finds the smallest substring of `s` that contains all the characters in `t` using a sliding window technique. It expands the window by moving the right pointer to include characters and contracts it by moving the left pointer to exclude characters, tracking the frequency of characters required from `t` in the current window.\n",
        "\n",
        "### Why This Approach?\n",
        "The sliding window technique is efficient for this problem because it allows for dynamic resizing of the search space based on the presence of required characters. It incrementally checks for the minimum length substring that satisfies the conditions without re-examining each substring from scratch.\n",
        "\n",
        "### Time and Space Complexity\n",
        "- **Time Complexity**: O(S+T), where S and T are the lengths of strings `s` and `t`, respectively. In the worst case, the algorithm might end up visiting each character in `s` twice, once by moving the right pointer and once by moving the left pointer.\n",
        "- **Space Complexity**: O(S+T) for the hash maps, which store the frequency of characters in `t` and the frequency of characters in the current window of `s`.\n",
        "\n",
        "### Approach Name\n",
        "This algorithm uses the \"Optimized Sliding Window\" approach with character frequency maps for dynamic window resizing based on the matching criteria of characters between `s` and `t`.\n"
      ],
      "metadata": {
        "id": "eg6E2HPfY2CW"
      }
    },
    {
      "cell_type": "code",
      "source": [
        "\n",
        "from collections import Counter\n",
        "\n",
        "class Solution:\n",
        "    def minWindow(self, s, t):\n",
        "        if not t or not s:\n",
        "            return \"\"\n",
        "\n",
        "        dict_t = Counter(t)\n",
        "        required = len(dict_t)\n",
        "\n",
        "        l, r = 0, 0\n",
        "        formed = 0\n",
        "        window_counts = {}\n",
        "\n",
        "        ans = float(\"inf\"), None, None\n",
        "\n",
        "        while r < len(s):\n",
        "            character = s[r]\n",
        "            window_counts[character] = window_counts.get(character, 0) + 1\n",
        "\n",
        "            if character in dict_t and window_counts[character] == dict_t[character]:\n",
        "                formed += 1\n",
        "\n",
        "            while l <= r and formed == required:\n",
        "                character = s[l]\n",
        "\n",
        "                if r - l + 1 < ans[0]:\n",
        "                    ans = (r - l + 1, l, r)\n",
        "\n",
        "                window_counts[character] -= 1\n",
        "                if character in dict_t and window_counts[character] < dict_t[character]:\n",
        "                    formed -= 1\n",
        "\n",
        "                l += 1\n",
        "\n",
        "            r += 1\n",
        "\n",
        "        return \"\" if ans[0] == float(\"inf\") else s[ans[1]:ans[2]+1]\n",
        "\n",
        "# Test cases\n",
        "solution = Solution()\n",
        "\n",
        "# Test case 1\n",
        "s1 = \"ADOBECODEBANC\"\n",
        "t1 = \"ABC\"\n",
        "# Expected output: \"BANC\"\n",
        "result1 = solution.minWindow(s1, t1)\n",
        "\n",
        "# Test case 2\n",
        "s2 = \"a\"\n",
        "t2 = \"a\"\n",
        "# Expected output: \"a\"\n",
        "result2 = solution.minWindow(s2, t2)\n",
        "\n",
        "result1, result2\n"
      ],
      "metadata": {
        "id": "dq-UIf2n3cIr",
        "colab": {
          "base_uri": "https://localhost:8080/"
        },
        "outputId": "234beb6e-cde0-4ce9-9d8d-f2c87919eeb9"
      },
      "execution_count": null,
      "outputs": [
        {
          "output_type": "execute_result",
          "data": {
            "text/plain": [
              "('BANC', 'a')"
            ]
          },
          "metadata": {},
          "execution_count": 1
        }
      ]
    },
    {
      "cell_type": "markdown",
      "source": [
        "## 387. [First Unique Character in a String](https://leetcode.com/problems/first-unique-character-in-a-string/description/)\n",
        "\n",
        "### Conceptual Logic\n",
        "This method identifies the index of the first non-repeating character in a given string by leveraging a frequency count of all characters. It iterates through the string, using the precomputed frequency count to find the first character that appears only once.\n",
        "\n",
        "### Why This Approach?\n",
        "Using a frequency count (via `collections.Counter`) is efficient for determining the uniqueness of characters across the entire string in a single pass. Subsequent iteration to find the first unique character ensures that the solution respects the string's original order.\n",
        "\n",
        "### Time and Space Complexity\n",
        "- **Time Complexity**: O(n), where n is the length of the string `s`. The algorithm requires two passes through the string: one for counting frequencies and one for identifying the first unique character.\n",
        "- **Space Complexity**: O(1), assuming the character set is fixed (e.g., ASCII or Unicode). The counter may have at most an entry for each distinct character, which is constant for a fixed character set.\n",
        "\n",
        "### Approach Name\n",
        "This algorithm employs a \"Frequency Count and Search\" strategy, combining efficient character frequency analysis with sequential search to find the first unique character.\n"
      ],
      "metadata": {
        "id": "g0A8EcM69i3j"
      }
    },
    {
      "cell_type": "code",
      "source": [
        "\n",
        "from collections import Counter\n",
        "\n",
        "class Solution:\n",
        "    def firstUniqChar(self, s):\n",
        "        # Count character frequencies\n",
        "        count = Counter(s)\n",
        "\n",
        "        # Find the first character that appears only once\n",
        "        for index, value in enumerate(s):\n",
        "            if count[value] == 1:\n",
        "                return index\n",
        "        return -1\n",
        "\n",
        "# Test cases\n",
        "solution = Solution()\n",
        "\n",
        "# Test case 1: A string with a unique character at the beginning\n",
        "s1 = \"leetcode\"\n",
        "# Expected output: 0\n",
        "result1 = solution.firstUniqChar(s1)\n",
        "\n",
        "# Test case 2: A string with a unique character in the middle\n",
        "s2 = \"loveleetcode\"\n",
        "# Expected output: 2\n",
        "result2 = solution.firstUniqChar(s2)\n",
        "\n",
        "result1, result2\n"
      ],
      "metadata": {
        "id": "0eUl_6ykY7QB",
        "outputId": "6d2e383f-daf5-411d-9f0f-9c2d8614b60c",
        "colab": {
          "base_uri": "https://localhost:8080/"
        }
      },
      "execution_count": null,
      "outputs": [
        {
          "output_type": "execute_result",
          "data": {
            "text/plain": [
              "(0, 2)"
            ]
          },
          "metadata": {},
          "execution_count": 1
        }
      ]
    },
    {
      "cell_type": "code",
      "source": [],
      "metadata": {
        "id": "k0jrZ8Pk9nxE"
      },
      "execution_count": null,
      "outputs": []
    },
    {
      "cell_type": "markdown",
      "source": [
        "## 49. [Group Anagrams](https://leetcode.com/problems/group-anagrams/)\n",
        "\n",
        "### Problem Description\n",
        "Given an array of strings `strs`, group the anagrams together. You can return the answer in any order. An Anagram is a word or phrase formed by rearranging the letters of a different word or phrase, typically using all the original letters exactly once.\n",
        "\n",
        "### Expected Input and Output\n",
        "- **Input**: `strs = [\"eat\",\"tea\",\"tan\",\"ate\",\"nat\",\"bat\"]`\n",
        "- **Output**: `[[\"bat\"],[\"nat\",\"tan\"],[\"ate\",\"eat\",\"tea\"]]`\n",
        "\n",
        "- **Input**: `strs = [\"\"]`\n",
        "- **Output**: `[[\"\"]]`\n",
        "\n",
        "- **Input**: `strs = [\"a\"]`\n",
        "- **Output**: `[[\"a\"]]`\n",
        "\n",
        "### Conceptual Logic\n",
        "The solution employs a hash map to group anagrams by their sorted character sequences. Each string in the input list is sorted alphabetically, and this sorted string serves as a key in the hash map. The original strings are added to the list corresponding to their sorted key, effectively grouping anagrams together.\n",
        "\n",
        "### Why This Approach?\n",
        "Using a hash map with sorted strings as keys ensures that anagrams, which have identical sorted representations, are grouped together efficiently. This approach leverages the property that anagrams will always result in the same string when sorted, providing an effective classification criterion.\n",
        "\n",
        "### Time and Space Complexity\n",
        "- **Time Complexity**: O(NKlogK), where `N` is the number of strings in the input list, and `K` is the maximum length of a string in `strs`. Sorting each string takes O(KlogK) time, and this is done for each of the `N` strings.\n",
        "- **Space Complexity**: O(NK), to store the output structure which contains `N` strings of maximum length `K`.\n",
        "\n",
        "### Approach Name\n",
        "\"Sorting and Hashing\" aptly describes the method of sorting strings to hash anagrams together.\n",
        "\n"
      ],
      "metadata": {
        "id": "M9DDNgse6TxZ"
      }
    },
    {
      "cell_type": "code",
      "source": [
        "\n",
        "import collections\n",
        "\n",
        "class Solution:\n",
        "    def groupAnagrams(self, strs):\n",
        "        test = collections.defaultdict(list)\n",
        "        for word in strs:\n",
        "            temp = ''.join(sorted(word))\n",
        "            test[temp].append(word)\n",
        "        return list(test.values())\n",
        "\n",
        "# Test cases\n",
        "solution = Solution()\n",
        "\n",
        "# Test case 1\n",
        "print(solution.groupAnagrams([\"eat\", \"tea\", \"tan\", \"ate\", \"nat\", \"bat\"]))\n",
        "# Output: [[\"bat\"], [\"nat\", \"tan\"], [\"ate\", \"eat\", \"tea\"]]\n",
        "\n",
        "# Test case 2\n",
        "print(solution.groupAnagrams([\"\"]))\n",
        "# Output: [[\"\"]]\n",
        "\n",
        "# Test case 3\n",
        "print(solution.groupAnagrams([\"a\"]))\n",
        "# Output: [[\"a\"]]\n"
      ],
      "metadata": {
        "id": "qem67C_86XqC",
        "outputId": "586538c4-7531-455c-b8b7-8a0cfb874afb",
        "colab": {
          "base_uri": "https://localhost:8080/"
        }
      },
      "execution_count": 1,
      "outputs": [
        {
          "output_type": "stream",
          "name": "stdout",
          "text": [
            "[['eat', 'tea', 'ate'], ['tan', 'nat'], ['bat']]\n",
            "[['']]\n",
            "[['a']]\n"
          ]
        }
      ]
    },
    {
      "cell_type": "markdown",
      "source": [
        "## 451. [Sort Characters By Frequency](https://leetcode.com/problems/sort-characters-by-frequency/)\n",
        "\n",
        "### Problem Description\n",
        "Given a string `s`, the task is to sort it in decreasing order based on the frequency of the characters. The frequency of a character is the number of times it appears in the string. You are to return the sorted string, and if multiple answers are possible, any one of them is acceptable.\n",
        "\n",
        "### Expected Input and Output\n",
        "- **Input**: `s = \"tree\"`\n",
        "- **Output**: `\"eert\"` (Explanation: 'e' appears twice while 'r' and 't' both appear once. So 'e' must appear before both 'r' and 't'. \"eetr\" is also a valid answer.)\n",
        "\n",
        "- **Input**: `s = \"cccaaa\"`\n",
        "- **Output**: `\"aaaccc\"` (Explanation: Both 'c' and 'a' appear three times, so \"cccaaa\" and \"aaaccc\" are valid answers. \"cacaca\" is incorrect as the same characters must be together.)\n",
        "\n",
        "- **Input**: `s = \"Aabb\"`\n",
        "- **Output**: `\"bbAa\"` (Explanation: \"bbaA\" is also a valid answer, but \"Aabb\" is incorrect. Note that 'A' and 'a' are treated as two different characters.)\n",
        "\n",
        "### Conceptual Logic\n",
        "To sort the string by the frequency of its characters, a frequency count of each character is first determined using a counter. The counter's `.most_common()` method then provides the characters sorted by their frequency in descending order. The final string is reconstructed by repeating each character by its count.\n",
        "\n",
        "### Why This Approach?\n",
        "Using a counter to track character frequencies and the `.most_common()` method for sorting ensures an efficient solution to the problem. This approach directly leverages built-in Python functionalities for concise and readable code.\n",
        "\n",
        "### Time and Space Complexity\n",
        "- **Time Complexity**: O(n log n), primarily due to the sorting operation on the character frequencies, where `n` is the length of the string.\n",
        "- **Space Complexity**: O(n), for storing the character frequencies and constructing the output string.\n",
        "\n",
        "### Approach Name\n",
        "The \"Frequency Count and Sort\" method accurately describes the process of counting character frequencies, sorting based on those frequencies, and then constructing the sorted string.\n"
      ],
      "metadata": {
        "id": "mxhvDvJL69IK"
      }
    },
    {
      "cell_type": "code",
      "source": [
        "\n",
        "import collections\n",
        "\n",
        "class Solution:\n",
        "    def frequencySort(self, s: str) -> str:\n",
        "        # Count the frequency of each character\n",
        "        charFrequency = collections.Counter(s)\n",
        "\n",
        "        # Construct the sorted string based on character frequencies\n",
        "        sortedString = ''.join([char * count for char, count in charFrequency.most_common()])\n",
        "\n",
        "        return sortedString\n",
        "\n",
        "# Test cases\n",
        "solution = Solution()\n",
        "\n",
        "# Test case 1\n",
        "print(solution.frequencySort(\"tree\"))  # Output: \"eert\" or \"eetr\"\n",
        "\n",
        "# Test case 2\n",
        "print(solution.frequencySort(\"cccaaa\"))  # Output: \"cccaaa\" or \"aaaccc\"\n",
        "\n",
        "# Test case 3\n",
        "print(solution.frequencySort(\"Aabb\"))  # Output: \"bbAa\" or \"bbaA\"\n"
      ],
      "metadata": {
        "id": "qxktDc6L6ZzK",
        "outputId": "c4c27f24-8259-4d57-c52b-f0a6bd62e0fb",
        "colab": {
          "base_uri": "https://localhost:8080/"
        }
      },
      "execution_count": 2,
      "outputs": [
        {
          "output_type": "stream",
          "name": "stdout",
          "text": [
            "eetr\n",
            "cccaaa\n",
            "bbAa\n"
          ]
        }
      ]
    },
    {
      "cell_type": "markdown",
      "source": [
        "## 279. [Perfect Squares](https://leetcode.com/problems/perfect-squares/)\n",
        "\n",
        "### Problem Description\n",
        "Given an integer `n`, find the minimum number of perfect square numbers (numbers that are the square of an integer) that sum to `n`.\n",
        "\n",
        "### Expected Input and Output\n",
        "- **Input**: `n = 12`\n",
        "- **Output**: `3` (Explanation: 12 = 4 + 4 + 4.)\n",
        "\n",
        "- **Input**: `n = 13`\n",
        "- **Output**: `2` (Explanation: 13 = 4 + 9.)\n",
        "\n",
        "### Conceptual Logic\n",
        "The solution utilizes dynamic programming to find the minimum number of perfect squares that sum to `n`. It builds up an array `dp` where `dp[i]` represents the least number of perfect square numbers that sum to `i`. For each `i`, it iterates through all smaller perfect square numbers to find the minimum count.\n",
        "\n",
        "### Why This Approach?\n",
        "Dynamic programming is effective for this problem as it breaks down the problem into smaller subproblems, each of which computes the minimum number of perfect squares that sum to smaller values of `n`. This bottom-up approach ensures that all possible combinations are considered to find the optimal solution.\n",
        "\n",
        "### Time and Space Complexity\n",
        "- **Time Complexity**: O(n * sqrt(n)), as for each `i` up to `n`, the solution iterates through all perfect squares up to `i`.\n",
        "- **Space Complexity**: O(n), due to the storage requirements of the `dp` array which has a length of `n + 1`.\n",
        "\n",
        "### Approach Name\n",
        "\"Dynamic Programming with Precomputed Perfect Squares\" encapsulates the strategy of precalculating perfect squares and applying dynamic programming to compute the result.\n"
      ],
      "metadata": {
        "id": "Yc7i9MWK7HFK"
      }
    },
    {
      "cell_type": "code",
      "source": [
        "\n",
        "class Solution:\n",
        "    def numSquares(self, n: int) -> int:\n",
        "        dp = [float('inf')] * (n + 1)\n",
        "        dp[0] = 0\n",
        "\n",
        "        perfect_squares = [i * i for i in range(1, int(n**0.5) + 1)]\n",
        "\n",
        "        for i in range(1, n + 1):\n",
        "            for sq in perfect_squares:\n",
        "                if i >= sq:\n",
        "                    dp[i] = min(dp[i], dp[i - sq] + 1)\n",
        "                else:\n",
        "                    break\n",
        "        return dp[n]\n",
        "\n",
        "# Test cases\n",
        "solution = Solution()\n",
        "\n",
        "# Test case 1\n",
        "print(solution.numSquares(12))  # Output: 3\n",
        "\n",
        "# Test case 2\n",
        "print(solution.numSquares(13))  # Output: 2\n"
      ],
      "metadata": {
        "id": "4tSnxq-t7Bes",
        "outputId": "1b7d6851-983e-43eb-b50e-fa4e6ea616b0",
        "colab": {
          "base_uri": "https://localhost:8080/"
        }
      },
      "execution_count": 3,
      "outputs": [
        {
          "output_type": "stream",
          "name": "stdout",
          "text": [
            "3\n",
            "2\n"
          ]
        }
      ]
    },
    {
      "cell_type": "markdown",
      "source": [
        "## 368. [Largest Divisible Subset](https://leetcode.com/problems/largest-divisible-subset/)\n",
        "\n",
        "### Problem Description\n",
        "Given a set of distinct positive integers `nums`, return the largest subset `answer` such that every pair `(answer[i], answer[j])` of elements in this subset satisfies either `answer[i] % answer[j] == 0` or `answer[j] % answer[i] == 0`. If there are multiple solutions, return any of them.\n",
        "\n",
        "### Expected Input and Output\n",
        "- **Input**: `nums = [1,2,3]`\n",
        "- **Output**: `[1,2]` (Explanation: `[1,3]` is also accepted.)\n",
        "\n",
        "- **Input**: `nums = [1,2,4,8]`\n",
        "- **Output**: `[1,2,4,8]`\n",
        "\n",
        "### Conceptual Logic\n",
        "The solution involves sorting `nums` and then using dynamic programming to track the size of the largest divisible subset that includes each element in `nums`. For each element `nums[i]`, it checks against all previous elements `nums[j]` to find a divisible pair and update the subset size and parent index accordingly. Finally, it reconstructs the subset from the dynamic programming tables.\n",
        "\n",
        "### Why This Approach?\n",
        "Dynamic programming is adept at solving this problem because it allows the solution to build upon previously computed results for smaller subsets, thereby efficiently identifying the largest divisible subset. Sorting the array ensures that if `nums[j]` divides `nums[i]`, then `nums[j]` divides all elements of the subset ending with `nums[i]`.\n",
        "\n",
        "### Time and Space Complexity\n",
        "- **Time Complexity**: O(n^2), where `n` is the number of elements in `nums`. The nested loops contribute to the quadratic time complexity.\n",
        "- **Space Complexity**: O(n), for storing the dynamic programming arrays `dp` and `parent`, as well as the final subset.\n",
        "\n",
        "### Approach Name\n",
        "The \"Dynamic Programming with Sorting\" strategy succinctly captures the essence of sorting the array and using dynamic programming to determine the largest divisible subset.\n"
      ],
      "metadata": {
        "id": "w2wyGcLmDbT4"
      }
    },
    {
      "cell_type": "code",
      "source": [
        "\n",
        "class Solution:\n",
        "    def largestDivisibleSubset(self, nums):\n",
        "        nums.sort()\n",
        "        n = len(nums)\n",
        "        dp = [1] * n  # To store the max subset size\n",
        "        parent = [-1] * n\n",
        "        max_size, max_size_index = 1, 0\n",
        "\n",
        "        # Populate dp and parent arrays\n",
        "        for i in range(1, n):\n",
        "            for j in range(i):\n",
        "                if nums[i] % nums[j] == 0 and dp[i] < dp[j] + 1:\n",
        "                    dp[i] = dp[j] + 1\n",
        "                    parent[i] = j\n",
        "                    if max_size < dp[i]:\n",
        "                        max_size, max_size_index = dp[i], i\n",
        "\n",
        "        # Reconstruct the subset\n",
        "        subset = []\n",
        "        while max_size_index != -1:\n",
        "            subset.append(nums[max_size_index])\n",
        "            max_size_index = parent[max_size_index]\n",
        "        return subset[::-1]  # Reverse to maintain the sorted order\n",
        "\n",
        "# Test cases\n",
        "solution = Solution()\n",
        "\n",
        "# Test case 1\n",
        "print(solution.largestDivisibleSubset([1,2,3]))  # Output: [1,2] or [1,3]\n",
        "\n",
        "# Test case 2\n",
        "print(solution.largestDivisibleSubset([1,2,4,8]))  # Output: [1,2,4,8]\n"
      ],
      "metadata": {
        "id": "p8tsPMIn77w9",
        "outputId": "dd0080c0-d354-41ab-cf34-5e3ea5fc05d2",
        "colab": {
          "base_uri": "https://localhost:8080/"
        }
      },
      "execution_count": 4,
      "outputs": [
        {
          "output_type": "stream",
          "name": "stdout",
          "text": [
            "[1, 2]\n",
            "[1, 2, 4, 8]\n"
          ]
        }
      ]
    },
    {
      "cell_type": "markdown",
      "source": [
        "## 647. [Palindromic Substrings](https://leetcode.com/problems/palindromic-substrings/)\n",
        "\n",
        "### Problem Description\n",
        "Given a string `s`, return the number of palindromic substrings in it. A string is a palindrome if it reads the same backward as forward, and a substring is a contiguous sequence of characters within the string.\n",
        "\n",
        "### Expected Input and Output\n",
        "- **Input**: `s = \"abc\"`\n",
        "- **Output**: `3` (Explanation: Three palindromic strings: \"a\", \"b\", \"c\".)\n",
        "\n",
        "- **Input**: `s = \"aaa\"`\n",
        "- **Output**: `6` (Explanation: Six palindromic strings: \"a\", \"a\", \"a\", \"aa\", \"aa\", \"aaa\".)\n",
        "\n",
        "### Conceptual Logic\n",
        "The solution iterates through all possible centers for palindromes in the string `s`, including between characters (to account for even-length palindromes), and expands outward from each center to count palindromes. This approach ensures that all potential palindromic substrings are considered.\n",
        "\n",
        "### Why This Approach?\n",
        "Expanding around possible centers allows for checking all palindromic substrings efficiently, leveraging the symmetry of palindromes. This method is direct and requires no additional data structures, making it space-efficient while maintaining optimal time complexity.\n",
        "\n",
        "### Time and Space Complexity\n",
        "- **Time Complexity**: O(n^2), where `n` is the length of the string. Each of the `2n - 1` potential centers might expand to check for palindromes, leading to a quadratic time complexity.\n",
        "- **Space Complexity**: O(1), as the solution uses a constant amount of space beyond the input string.\n",
        "\n",
        "### Approach Name\n",
        "\"Center Expansion for Palindrome Counting\" accurately describes the strategy of expanding around each character and the spaces between them to identify and count palindromic substrings.\n",
        "\n"
      ],
      "metadata": {
        "id": "2rM5ZQiyDhKA"
      }
    },
    {
      "cell_type": "code",
      "source": [
        "\n",
        "class Solution:\n",
        "    def countSubstrings(self, s: str) -> int:\n",
        "        n = len(s)\n",
        "        count = 0\n",
        "        for center in range(2 * n - 1):\n",
        "            left = center // 2\n",
        "            right = left + center % 2\n",
        "\n",
        "            while left >= 0 and right < n and s[left] == s[right]:\n",
        "                count += 1\n",
        "                left -= 1\n",
        "                right += 1\n",
        "        return count\n",
        "\n",
        "# Test cases\n",
        "solution = Solution()\n",
        "\n",
        "# Test case 1\n",
        "print(solution.countSubstrings(\"abc\"))  # Output: 3\n",
        "\n",
        "# Test case 2\n",
        "print(solution.countSubstrings(\"aaa\"))  # Output: 6\n"
      ],
      "metadata": {
        "id": "tfLiB5pzDgOZ",
        "outputId": "c7b6ac61-3427-4b68-e92c-e9c0c656a8b6",
        "colab": {
          "base_uri": "https://localhost:8080/"
        }
      },
      "execution_count": 5,
      "outputs": [
        {
          "output_type": "stream",
          "name": "stdout",
          "text": [
            "3\n",
            "6\n"
          ]
        }
      ]
    },
    {
      "cell_type": "markdown",
      "source": [
        "## 169. [Majority Element](https://leetcode.com/problems/majority-element/)\n",
        "\n",
        "### Problem Description\n",
        "Given an array `nums` of size `n`, return the majority element. The majority element is defined as the element that appears more than ⌊n / 2⌋ times. It's guaranteed that the majority element always exists in the array.\n",
        "\n",
        "### Expected Input and Output\n",
        "- **Input**: `nums = [3,2,3]`\n",
        "- **Output**: `3`\n",
        "\n",
        "- **Input**: `nums = [2,2,1,1,1,2,2]`\n",
        "- **Output**: `2`\n",
        "\n",
        "### Conceptual Logic\n",
        "The solution utilizes a frequency counter to tally the occurrences of each element in the array. The majority element is identified as the key in the counter with the maximum value, as it appears more than ⌊n / 2⌋ times.\n",
        "\n",
        "### Why This Approach?\n",
        "Utilizing a frequency counter (`collections.Counter`) offers a straightforward and efficient method to track and query the occurrences of each element. Given the problem's guarantee that a majority element exists, selecting the element with the highest frequency directly leads to the correct answer.\n",
        "\n",
        "### Time and Space Complexity\n",
        "- **Time Complexity**: O(n), where `n` is the length of the array `nums`. The entire array is traversed once to populate the frequency counter.\n",
        "- **Space Complexity**: O(n), for storing the frequency of each unique element in the array. In the worst case, the array contains n distinct elements.\n",
        "\n",
        "### Approach Name\n",
        "\"Frequency Counting with Maximum Query\" succinctly captures the essence of counting element occurrences and then querying for the maximum to find the majority element.\n",
        "\n"
      ],
      "metadata": {
        "id": "ycpPMO1ED-Bh"
      }
    },
    {
      "cell_type": "code",
      "source": [
        "\n",
        "import collections\n",
        "\n",
        "class Solution:\n",
        "    def majorityElement(self, nums):\n",
        "        counter = collections.Counter(nums)\n",
        "        # Find the key with the maximum value in the counter\n",
        "        return max(counter.keys(), key=counter.get)\n",
        "\n",
        "# Test cases\n",
        "solution = Solution()\n",
        "\n",
        "# Test case 1\n",
        "print(solution.majorityElement([3,2,3]))  # Output: 3\n",
        "\n",
        "# Test case 2\n",
        "print(solution.majorityElement([2,2,1,1,1,2,2]))  # Output: 2\n"
      ],
      "metadata": {
        "id": "GUAj9fchD7_O",
        "outputId": "ba9b3cbb-5b56-4486-85e5-cab4c03797a4",
        "colab": {
          "base_uri": "https://localhost:8080/"
        }
      },
      "execution_count": 6,
      "outputs": [
        {
          "output_type": "stream",
          "name": "stdout",
          "text": [
            "3\n",
            "2\n"
          ]
        }
      ]
    },
    {
      "cell_type": "markdown",
      "source": [
        "## 2108. [Find First Palindromic String in the Array](https://leetcode.com/problems/find-first-palindromic-string-in-the-array/description/)\n",
        "\n",
        "### Problem Description\n",
        "Given an array of strings `words`, return the first palindromic string in the array. If there is no such string, return an empty string `\"\"`. A string is palindromic if it reads the same forward and backward.\n",
        "\n",
        "### Expected Input and Output\n",
        "- **Input**: `words = [\"abc\",\"car\",\"ada\",\"racecar\",\"cool\"]`\n",
        "- **Output**: `\"ada\"` (Explanation: The first string that is palindromic is \"ada\". Note that \"racecar\" is also palindromic, but it is not the first.)\n",
        "\n",
        "- **Input**: `words = [\"notapalindrome\",\"racecar\"]`\n",
        "- **Output**: `\"racecar\"` (Explanation: The first and only string that is palindromic is \"racecar\".)\n",
        "\n",
        "- **Input**: `words = [\"def\",\"ghi\"]`\n",
        "- **Output**: `\"\"` (Explanation: There are no palindromic strings, so the empty string is returned.)\n",
        "\n",
        "### Conceptual Logic\n",
        "Iterate through the array of strings, checking each string to determine if it is a palindrome by comparing it to its reverse. Return the first string that satisfies this condition.\n",
        "\n",
        "### Why This Approach?\n",
        "This direct method efficiently identifies the first palindromic string by leveraging Python's string slicing for straightforward reverse comparison. This approach minimizes computation by returning immediately upon finding the first palindrome, ensuring optimal performance for this scenario.\n",
        "\n",
        "### Time and Space Complexity\n",
        "- **Time Complexity**: O(n * k), where `n` is the number of strings in the array and `k` is the average length of these strings. Each string comparison takes O(k) time.\n",
        "- **Space Complexity**: O(1), as the solution uses a constant amount of space, only iterating through the given array without using additional data structures for storage.\n",
        "\n",
        "### Approach Name\n",
        "\"First Palindrome Search via Reverse Comparison\" captures the essence of the approach, highlighting the search for the initial palindrome through reverse string comparison.\n"
      ],
      "metadata": {
        "id": "ExOYw9DwFH5g"
      }
    },
    {
      "cell_type": "code",
      "source": [
        "\n",
        "class Solution:\n",
        "    def firstPalindrome(self, words):\n",
        "        # Iterate through each word in the array\n",
        "        for word in words:\n",
        "            # Check if the word is a palindrome\n",
        "            if word == word[::-1]:\n",
        "                return word\n",
        "        # Return an empty string if no palindrome is found\n",
        "        return ''\n",
        "\n",
        "# Test cases\n",
        "solution = Solution()\n",
        "\n",
        "# Test case 1\n",
        "print(solution.firstPalindrome([\"abc\", \"car\", \"ada\", \"racecar\", \"cool\"]))  # Output: \"ada\"\n",
        "\n",
        "# Test case 2\n",
        "print(solution.firstPalindrome([\"notapalindrome\", \"racecar\"]))  # Output: \"racecar\"\n",
        "\n",
        "# Test case 3\n",
        "print(solution.firstPalindrome([\"def\", \"ghi\"]))  # Output: \"\"\n"
      ],
      "metadata": {
        "id": "O5Gcr9YdEkhS",
        "outputId": "e3aa54eb-b10a-4f10-ac0e-c5512fd1e78f",
        "colab": {
          "base_uri": "https://localhost:8080/"
        }
      },
      "execution_count": 7,
      "outputs": [
        {
          "output_type": "stream",
          "name": "stdout",
          "text": [
            "ada\n",
            "racecar\n",
            "\n"
          ]
        }
      ]
    },
    {
      "cell_type": "markdown",
      "source": [
        "## 2149. [Rearrange Array Elements by Sign](https://leetcode.com/problems/rearrange-array-elements-by-sign/description/)\n",
        "\n",
        "### Problem Description\n",
        "Given a 0-indexed integer array `nums` of even length, consisting of an equal number of positive and negative integers, the task is to rearrange the array so that:\n",
        "- Every consecutive pair of integers have opposite signs.\n",
        "- The order of integers with the same sign as they appear in `nums` is preserved.\n",
        "- The rearranged array begins with a positive integer.\n",
        "\n",
        "The goal is to return the modified array that satisfies these conditions.\n",
        "\n",
        "### Expected Input and Output\n",
        "- **Input**: `nums = [3,1,-2,-5,2,-4]`\n",
        "- **Output**: `[3,-2,1,-5,2,-4]` (Explanation: The arrangement preserves the order of positive and negative integers while ensuring opposite signs for every consecutive pair.)\n",
        "\n",
        "- **Input**: `nums = [-1,1]`\n",
        "- **Output**: `[1,-1]` (Explanation: The only possible arrangement satisfying the conditions with one positive and one negative integer.)\n",
        "\n",
        "### Conceptual Logic\n",
        "Separate the positive and negative integers into two arrays (or use two pointers in a single pass) and then merge them into a new array by alternating positive and negative integers, starting with a positive integer.\n",
        "\n",
        "### Why This Approach?\n",
        "This method directly addresses the problem's requirements by separately handling positive and negative integers and then merging them in the required alternating sign order. It ensures that the relative order of numbers with the same sign is preserved and that every consecutive pair of numbers have opposite signs.\n",
        "\n",
        "### Time and Space Complexity\n",
        "- **Time Complexity**: O(n), where `n` is the length of the `nums` array. The entire array is traversed once to separate positive and negative numbers and then once more to merge them.\n",
        "- **Space Complexity**: O(n), for storing the rearranged array. The space used for sorting and merging operations is proportional to the input array's size.\n",
        "\n",
        "### Approach Name\n",
        "\"Alternating Merge by Sign\" succinctly describes the strategy of merging positive and negative integers in alternating order to fulfill the specified conditions.\n",
        "\n"
      ],
      "metadata": {
        "id": "Nqf5XfuiFtdC"
      }
    },
    {
      "cell_type": "code",
      "source": [
        "\n",
        "class Solution:\n",
        "    def rearrangeArray(self, nums):\n",
        "        ans = [0] * len(nums)\n",
        "        p1, p2 = 0, 1  # Pointers for placing positive and negative numbers\n",
        "\n",
        "        for num in nums:\n",
        "            if num > 0:\n",
        "                ans[p1] = num\n",
        "                p1 += 2\n",
        "            else:\n",
        "                ans[p2] = num\n",
        "                p2 += 2\n",
        "        return ans\n",
        "\n",
        "# Test cases\n",
        "solution = Solution()\n",
        "\n",
        "# Test case 1\n",
        "print(solution.rearrangeArray([3,1,-2,-5,2,-4]))  # Output: [3,-2,1,-5,2,-4]\n",
        "\n",
        "# Test case 2\n",
        "print(solution.rearrangeArray([-1,1]))  # Output: [1,-1]\n"
      ],
      "metadata": {
        "id": "RZLaAX8cFMdM",
        "outputId": "3b5bcfdb-7afc-4c13-eabd-8969f972f920",
        "colab": {
          "base_uri": "https://localhost:8080/"
        }
      },
      "execution_count": 8,
      "outputs": [
        {
          "output_type": "stream",
          "name": "stdout",
          "text": [
            "[3, -2, 1, -5, 2, -4]\n",
            "[1, -1]\n"
          ]
        }
      ]
    },
    {
      "cell_type": "markdown",
      "source": [
        "## 2971. Find Polygon With the Largest Perimeter\n",
        "\n",
        "### Problem Description\n",
        "Given an array `nums` of positive integers, the task is to find the largest possible perimeter of a polygon that can be formed from `nums`. A polygon is valid if its longest side is smaller than the sum of its other sides. If it's not possible to form such a polygon, return `-1`.\n",
        "\n",
        "### Expected Input and Output\n",
        "- **Input**: `nums = [5,5,5]`\n",
        "- **Output**: `15` (Explanation: A polygon with sides of 5, 5, and 5 has a perimeter of 15.)\n",
        "\n",
        "- **Input**: `nums = [1,12,1,2,5,50,3]`\n",
        "- **Output**: `12` (Explanation: A polygon with sides 1, 1, 2, 3, and 5 has the largest perimeter that can be formed, which is 12.)\n",
        "\n",
        "- **Input**: `nums = [5,5,50]`\n",
        "- **Output**: `-1` (Explanation: It's not possible to form a polygon since 50 > 5 + 5.)\n",
        "\n",
        "### Conceptual Logic\n",
        "First, sort the array in descending order. Starting from the largest element, check if a polygon can be formed with the next two elements. A valid polygon exists if the sum of the two smaller sides is greater than the largest side. Continue this process until you find such a triplet or determine that forming a polygon is impossible.\n",
        "\n",
        "### Why This Approach?\n",
        "Sorting the numbers in descending order and checking triplets from the beginning maximizes the perimeter of the potential polygon. This method ensures that the first valid polygon found will have the largest possible perimeter given the condition for polygon formation.\n",
        "\n",
        "### Time and Space Complexity\n",
        "- **Time Complexity**: O(n log n), where `n` is the number of elements in `nums`. The complexity is dominated by the sorting operation.\n",
        "- **Space Complexity**: O(1), as the solution sorts the array in place and uses a fixed amount of additional space.\n",
        "\n",
        "### Approach Name\n",
        "\"Descending Sort with Triplet Check\" succinctly describes the strategy of sorting the numbers in descending order and checking consecutive triplets to find the largest perimeter of a valid polygon.\n",
        "\n"
      ],
      "metadata": {
        "id": "pcpgxnNHGl71"
      }
    },
    {
      "cell_type": "code",
      "source": [
        "class Solution:\n",
        "    def largestPerimeter(self, nums) -> int:\n",
        "        nums.sort(reverse=True)\n",
        "        total = sum(nums)\n",
        "        for i in range(len(nums) - 2):\n",
        "            total -= nums[i]\n",
        "            if nums[i] < total:\n",
        "                return total + nums[i]\n",
        "        return -1\n",
        "# Test cases\n",
        "solution = Solution()\n",
        "\n",
        "# Test case 1\n",
        "print(solution.largestPerimeter([5,5,5]))  # Output: 15\n",
        "\n",
        "# Test case 2\n",
        "print(solution.largestPerimeter([1,12,1,2,5,50,3]))  # Output: 12\n",
        "\n",
        "# Test case 3\n",
        "print(solution.largestPerimeter([5,5,50]))  # Output: -1\n"
      ],
      "metadata": {
        "id": "zOFke9-MF3sW",
        "outputId": "a1b92556-810c-4607-c4e0-46a79810413e",
        "colab": {
          "base_uri": "https://localhost:8080/"
        }
      },
      "execution_count": 11,
      "outputs": [
        {
          "output_type": "stream",
          "name": "stdout",
          "text": [
            "15\n",
            "12\n",
            "-1\n"
          ]
        }
      ]
    },
    {
      "cell_type": "markdown",
      "source": [
        "## 1481. Least Number of Unique Integers after K Removals\n",
        "\n",
        "### Problem Description\n",
        "Given an array `arr` and an integer `k`, the task is to find the least number of unique integers remaining after exactly `k` elements are removed.\n",
        "\n",
        "### Two Logical Approaches\n",
        "\n",
        "#### Approach 1: Using a Min Heap\n",
        "1. **Logic**:\n",
        "    - Use a frequency counter (`Counter`) to count occurrences of each integer in `arr`.\n",
        "    - Convert the frequency counter into a min-heap based on counts to prioritize removal of integers with lower frequencies.\n",
        "    - Remove elements from the heap, starting with those with the lowest frequency, decrementing `k` by the count of occurrences for each removed element.\n",
        "    - If `k` becomes negative after a removal, this indicates the last removal only partially counted towards `k`, hence, one unique integer is still partially present, leading to an adjustment in the final count.\n",
        "\n",
        "2. **Why This Approach?**:\n",
        "    - The min-heap ensures that integers with the lowest frequency are considered first for removal, minimizing the number of unique integers left.\n",
        "    - Efficiently handles scenarios where `k` does not exactly match the total occurrences of integers, requiring an adjustment in the count of unique integers left.\n",
        "\n",
        "#### Approach 2: Sorting the Frequencies\n",
        "1. **Logic**:\n",
        "    - Again, use a frequency counter (`Counter`) for occurrences.\n",
        "    - Sort the values of the frequency counter to prioritize integers with lower frequencies.\n",
        "    - Iterate over the sorted frequencies, decrementing `k` by the frequency of each integer, to simulate removal.\n",
        "    - If at any point, the exact value of `k` matches a frequency, all subsequent integers are unique and are counted towards the final total. If `k` is less than a frequency, it indicates partial removal, and all integers including and following the current are counted as remaining unique integers.\n",
        "\n",
        "2. **Why This Approach?**:\n",
        "    - Sorting frequencies allows for a simple, iterative approach to decrement `k` and determine how many unique integers can be removed.\n",
        "    - This method is straightforward and leverages sorted frequencies to efficiently identify the point at which further removals cannot be made without leaving partial integers.\n",
        "\n",
        "### Time and Space Complexity\n",
        "- **Approach 1 (Min Heap)**:\n",
        "    - **Time Complexity**: O(n log n) for heap operations, where `n` is the number of unique integers.\n",
        "    - **Space Complexity**: O(n) for storing the frequency counter and heap.\n",
        "- **Approach 2 (Sorting Frequencies)**:\n",
        "    - **Time Complexity**: O(n log n) for sorting the frequency values.\n",
        "    - **Space Complexity**: O(n) for the frequency counter and sorted list of frequencies.\n",
        "\n",
        "Both approaches offer a method to minimize the number of unique integers after `k` removals, with the choice between them depending on preferences for data structures (heap vs. sorted list) and the specific details of implementation efficiency in the given context."
      ],
      "metadata": {
        "id": "HwwSv5QwQB_D"
      }
    },
    {
      "cell_type": "code",
      "source": [
        "# from collections import Counter\n",
        "# import heapq\n",
        "class Solution:\n",
        "    def findLeastNumOfUniqueInts(self, arr, k):\n",
        "\n",
        "        freq = Counter(arr)\n",
        "\n",
        "        min_heap = [(count, num) for num, count in freq.items()]\n",
        "        heapq.heapify(min_heap)\n",
        "\n",
        "        while k > 0 and min_heap:\n",
        "            count, num = heapq.heappop(min_heap)\n",
        "            k -= count\n",
        "\n",
        "\n",
        "        if k < 0:\n",
        "            return len(min_heap) + 1\n",
        "        else:\n",
        "            return len(min_heap)\n",
        "\n",
        "\n",
        "from collections import Counter\n",
        "class Solution:\n",
        "    def findLeastNumOfUniqueInts(self, arr, k):\n",
        "        a = Counter(arr)\n",
        "        if k == 0:\n",
        "            return len(a)\n",
        "        # sortedA = sorted(a.items(),key = lambda item: item[1])\n",
        "        sortedA = sorted(a.values())\n",
        "\n",
        "        for freq in range(len(sortedA)):\n",
        "            if sortedA[freq] == k:\n",
        "                return len(sortedA) - freq - 1\n",
        "            elif sortedA[freq] - k > 0:\n",
        "                return len(sortedA) - freq\n",
        "            else:\n",
        "                k -= sortedA[freq]\n",
        "\n"
      ],
      "metadata": {
        "id": "zFvgKlWZGqD6"
      },
      "execution_count": 15,
      "outputs": []
    },
    {
      "cell_type": "markdown",
      "source": [
        "## 1642. Furthest Building You Can Reach\n",
        "\n",
        "### Problem Description\n",
        "Given an array `heights` representing the heights of buildings, along with a certain number of bricks and ladders, you start from building `0` and can move to the next building using bricks or ladders. Bricks can be used to overcome height differences between buildings, while ladders can be used to bypass any height difference. The goal is to find the furthest building you can reach using bricks and ladders optimally.\n",
        "\n",
        "### Logical Approach Using a Min Heap\n",
        "1. **Logic**:\n",
        "   - Iterate through each building, calculating the height difference (`diff`) to the next building.\n",
        "   - If moving up, push the negative of the height difference (`-diff`) onto a min-heap. This keeps track of all upward moves in a way that allows us to easily swap out the largest height differences for ladders later.\n",
        "   - Deduct the height difference from the bricks. If you run out of bricks (`bricks < 0`), use a ladder to replace the largest used bricks (the smallest value in the negative heap), effectively optimizing the use of ladders for the largest gaps.\n",
        "   - Continue until you run out of bricks and ladders or reach the end of the array.\n",
        "\n",
        "2. **Why This Approach?**:\n",
        "   - This approach ensures that ladders are reserved for the largest gaps, maximizing the distance that can be covered. It is an optimal strategy because using ladders for smaller gaps could prevent reaching further buildings that require overcoming larger gaps.\n",
        "   - The use of a min-heap to track height differences allows for efficient retrieval and replacement operations, crucial for dynamically deciding between using bricks and ladders as you progress.\n",
        "\n",
        "### Time and Space Complexity\n",
        "- **Time Complexity**: O(n log k), where `n` is the number of buildings and `k` is the number of ladders. The log factor comes from the heap operations for each of the `n` buildings.\n",
        "- **Space Complexity**: O(k), due to the heap storing at most `k` height differences (where `k` is the number of ladders).\n"
      ],
      "metadata": {
        "id": "N70MJr-cQO3A"
      }
    },
    {
      "cell_type": "code",
      "source": [
        "\n",
        "import heapq\n",
        "\n",
        "class Solution:\n",
        "    def furthestBuilding(self, heights, bricks, ladders):\n",
        "        heap = []\n",
        "\n",
        "        for i in range(len(heights) - 1):\n",
        "            diff = heights[i + 1] - heights[i]\n",
        "            if diff > 0:\n",
        "                heapq.heappush(heap, -diff)  # Push the negative difference\n",
        "                bricks -= diff\n",
        "                if bricks < 0:  # Out of bricks\n",
        "                    if ladders == 0:  # No ladders left\n",
        "                        return i\n",
        "                    bricks += -heapq.heappop(heap)  # Use ladder for the largest diff\n",
        "                    ladders -= 1\n",
        "\n",
        "        return len(heights) - 1\n",
        "\n",
        "# Example Usage\n",
        "solution = Solution()\n",
        "print(solution.furthestBuilding([4,2,7,6,9,14,12], 5, 1))  # Output: 4\n",
        "print(solution.furthestBuilding([1,5,1,2,3,4,10000], 4, 1))  # Output: 5\n"
      ],
      "metadata": {
        "id": "ijtM3BnyIiYX",
        "outputId": "64fc9aaf-4e32-418e-94b1-598c68ca22f3",
        "colab": {
          "base_uri": "https://localhost:8080/"
        }
      },
      "execution_count": 16,
      "outputs": [
        {
          "output_type": "stream",
          "name": "stdout",
          "text": [
            "4\n",
            "5\n"
          ]
        }
      ]
    },
    {
      "cell_type": "code",
      "source": [],
      "metadata": {
        "id": "qHJrWhpZRInf"
      },
      "execution_count": null,
      "outputs": []
    }
  ]
}