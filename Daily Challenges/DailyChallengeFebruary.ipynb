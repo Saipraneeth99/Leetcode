{
  "nbformat": 4,
  "nbformat_minor": 0,
  "metadata": {
    "colab": {
      "provenance": [],
      "include_colab_link": true
    },
    "kernelspec": {
      "name": "python3",
      "display_name": "Python 3"
    },
    "language_info": {
      "name": "python"
    }
  },
  "cells": [
    {
      "cell_type": "markdown",
      "metadata": {
        "id": "view-in-github",
        "colab_type": "text"
      },
      "source": [
        "<a href=\"https://colab.research.google.com/github/Saipraneeth99/Leetcode/blob/main/Daily%20Challenges/DailyChallengeFebruary.ipynb\" target=\"_parent\"><img src=\"https://colab.research.google.com/assets/colab-badge.svg\" alt=\"Open In Colab\"/></a>"
      ]
    },
    {
      "cell_type": "code",
      "execution_count": null,
      "metadata": {
        "id": "Q_GMZ40tvcT1"
      },
      "outputs": [],
      "source": []
    },
    {
      "cell_type": "markdown",
      "source": [
        "## 2966. [Divide Array Into Arrays With Max Difference](https://leetcode.com/problems/divide-array-into-arrays-with-max-difference/description/)\n",
        "\n",
        "### Conceptual Logic\n",
        "This method seeks to divide a sorted array into subarrays of size 3 such that the maximum difference between any two elements in each subarray is less than or equal to a given threshold `k`. If this condition can't be met for any subarray, an empty array is returned.\n",
        "\n",
        "### Why This Approach?\n",
        "The approach makes use of the sorted property of arrays to ensure that the maximum difference is checked only between the first and last elements of each potential subarray. This is efficient because sorting guarantees that these are the minimum and maximum values of the subarray.\n",
        "\n",
        "### Time and Space Complexity\n",
        "- **Time Complexity**: O(n), assuming the sort operation has already been done, where n is the number of elements in the array. The iteration through the array adds a linear term.\n",
        "- **Space Complexity**: O(n), where n is the number of elements in `nums`. This is for storing the `solution`, which in the worst case, will contain all elements of `nums` divided into subarrays.\n",
        "\n",
        "### Approach Name\n",
        "The algorithm used here could be described as a \"Sorted Array Partitioning\" approach since it involves partitioning a sorted array into valid subarrays based on a given difference condition.\n"
      ],
      "metadata": {
        "id": "clfGytQl1ZGt"
      }
    },
    {
      "cell_type": "code",
      "source": [
        "\n",
        "class Solution:\n",
        "    def divideArray(self, nums, k):\n",
        "        nums.sort()\n",
        "        solution = []\n",
        "        for i in range(0, len(nums), 3):\n",
        "            if (nums[i + 2] - nums[i]) > k:\n",
        "                return []\n",
        "            else:\n",
        "                solution.append(nums[i:i + 3])\n",
        "        return solution\n",
        "\n",
        "# Test cases\n",
        "solution = Solution()\n",
        "\n",
        "# Test case 1\n",
        "nums1 = [1, 3, 4, 8, 7, 9, 3, 5, 1]\n",
        "k1 = 2\n",
        "# Expected output: [[1, 1, 3], [3, 4, 5], [7, 8, 9]]\n",
        "result1 = solution.divideArray(nums1, k1)\n",
        "\n",
        "# Test case 2\n",
        "nums2 = [1, 2, 3, 4, 5, 6, 7, 8, 9]\n",
        "k2 = 10\n",
        "# Expected output: [[1, 2, 3], [4, 5, 6], [7, 8, 9]] since k is large enough to accommodate any differences\n",
        "result2 = solution.divideArray(nums2, k2)\n",
        "\n",
        "result1, result2\n"
      ],
      "metadata": {
        "colab": {
          "base_uri": "https://localhost:8080/"
        },
        "id": "doEo4zN91bn3",
        "outputId": "2fd55d2c-f19f-410d-c9e7-16d4d9c57fcd"
      },
      "execution_count": null,
      "outputs": [
        {
          "output_type": "execute_result",
          "data": {
            "text/plain": [
              "([[1, 1, 3], [3, 4, 5], [7, 8, 9]], [[1, 2, 3], [4, 5, 6], [7, 8, 9]])"
            ]
          },
          "metadata": {},
          "execution_count": 1
        }
      ]
    },
    {
      "cell_type": "markdown",
      "source": [
        "## 1291. [Sequential Digits](https://leetcode.com/problems/sequential-digits/description/)\n",
        "\n",
        "### Conceptual Logic\n",
        "The algorithm generates numbers with sequential digits that fall within a specified range. It forms these by selecting continuous subsequences of a string of sequential digits '123456789', fitting them within the given range.\n",
        "\n",
        "### Why This Approach?\n",
        "This method is akin to a sliding window that 'slides' over a string of sequential digits, taking substrings of increasing lengths, and checks if they lie within the specified range. It efficiently uses the inherent orderliness of the string to create the sequential numbers.\n",
        "\n",
        "### Time and Space Complexity\n",
        "- **Time Complexity**: O(1), because the number of sequential digit combinations is constant and does not scale with the input size.\n",
        "- **Space Complexity**: O(1), since the maximum size of the output list is limited by the number of sequential digit combinations available, which is also constant.\n",
        "\n",
        "### Approach Name\n",
        "The approach is reminiscent of a \"Sliding Window\" technique over a string, where the window size increases from the minimum length of a number within the range to the maximum length, inclusively. Each window 'slide' yields a potential sequential digit number to be checked against the range.\n"
      ],
      "metadata": {
        "id": "vHW0D5S43YAP"
      }
    },
    {
      "cell_type": "code",
      "source": [
        "\n",
        "class Solution:\n",
        "    def sequentialDigits(self, low, high):\n",
        "        sample = '123456789'\n",
        "        solution = []\n",
        "        for length in range(len(str(low)), len(str(high)) + 1):\n",
        "            for start in range(10 - length):\n",
        "                num = int(sample[start:start + length])\n",
        "                if low <= num <= high:\n",
        "                    solution.append(num)\n",
        "        return solution\n",
        "\n",
        "# Test cases\n",
        "solution = Solution()\n",
        "\n",
        "# Test case 1\n",
        "low1 = 100\n",
        "high1 = 300\n",
        "# Expected output: [123, 234]\n",
        "result1 = solution.sequentialDigits(low1, high1)\n",
        "\n",
        "# Test case 2\n",
        "low2 = 1000\n",
        "high2 = 13000\n",
        "# Expected output: [1234, 2345, 3456, 4567, 5678, 6789, 12345]\n",
        "result2 = solution.sequentialDigits(low2, high2)\n",
        "\n",
        "result1, result2\n"
      ],
      "metadata": {
        "colab": {
          "base_uri": "https://localhost:8080/"
        },
        "id": "69oK-K391fYC",
        "outputId": "ed10f976-95aa-429d-9a17-95fce2912473"
      },
      "execution_count": null,
      "outputs": [
        {
          "output_type": "execute_result",
          "data": {
            "text/plain": [
              "([123, 234], [1234, 2345, 3456, 4567, 5678, 6789, 12345])"
            ]
          },
          "metadata": {},
          "execution_count": 2
        }
      ]
    },
    {
      "cell_type": "markdown",
      "source": [
        "## 76. [Minimum Window Substring](https://leetcode.com/problems/minimum-window-substring/description/)\n",
        "\n",
        "### Conceptual Logic\n",
        "This solution finds the smallest substring of `s` that contains all the characters in `t` using a sliding window technique. It expands the window by moving the right pointer to include characters and contracts it by moving the left pointer to exclude characters, tracking the frequency of characters required from `t` in the current window.\n",
        "\n",
        "### Why This Approach?\n",
        "The sliding window technique is efficient for this problem because it allows for dynamic resizing of the search space based on the presence of required characters. It incrementally checks for the minimum length substring that satisfies the conditions without re-examining each substring from scratch.\n",
        "\n",
        "### Time and Space Complexity\n",
        "- **Time Complexity**: O(S+T), where S and T are the lengths of strings `s` and `t`, respectively. In the worst case, the algorithm might end up visiting each character in `s` twice, once by moving the right pointer and once by moving the left pointer.\n",
        "- **Space Complexity**: O(S+T) for the hash maps, which store the frequency of characters in `t` and the frequency of characters in the current window of `s`.\n",
        "\n",
        "### Approach Name\n",
        "This algorithm uses the \"Optimized Sliding Window\" approach with character frequency maps for dynamic window resizing based on the matching criteria of characters between `s` and `t`.\n"
      ],
      "metadata": {
        "id": "eg6E2HPfY2CW"
      }
    },
    {
      "cell_type": "code",
      "source": [
        "\n",
        "from collections import Counter\n",
        "\n",
        "class Solution:\n",
        "    def minWindow(self, s, t):\n",
        "        if not t or not s:\n",
        "            return \"\"\n",
        "\n",
        "        dict_t = Counter(t)\n",
        "        required = len(dict_t)\n",
        "\n",
        "        l, r = 0, 0\n",
        "        formed = 0\n",
        "        window_counts = {}\n",
        "\n",
        "        ans = float(\"inf\"), None, None\n",
        "\n",
        "        while r < len(s):\n",
        "            character = s[r]\n",
        "            window_counts[character] = window_counts.get(character, 0) + 1\n",
        "\n",
        "            if character in dict_t and window_counts[character] == dict_t[character]:\n",
        "                formed += 1\n",
        "\n",
        "            while l <= r and formed == required:\n",
        "                character = s[l]\n",
        "\n",
        "                if r - l + 1 < ans[0]:\n",
        "                    ans = (r - l + 1, l, r)\n",
        "\n",
        "                window_counts[character] -= 1\n",
        "                if character in dict_t and window_counts[character] < dict_t[character]:\n",
        "                    formed -= 1\n",
        "\n",
        "                l += 1\n",
        "\n",
        "            r += 1\n",
        "\n",
        "        return \"\" if ans[0] == float(\"inf\") else s[ans[1]:ans[2]+1]\n",
        "\n",
        "# Test cases\n",
        "solution = Solution()\n",
        "\n",
        "# Test case 1\n",
        "s1 = \"ADOBECODEBANC\"\n",
        "t1 = \"ABC\"\n",
        "# Expected output: \"BANC\"\n",
        "result1 = solution.minWindow(s1, t1)\n",
        "\n",
        "# Test case 2\n",
        "s2 = \"a\"\n",
        "t2 = \"a\"\n",
        "# Expected output: \"a\"\n",
        "result2 = solution.minWindow(s2, t2)\n",
        "\n",
        "result1, result2\n"
      ],
      "metadata": {
        "id": "dq-UIf2n3cIr",
        "outputId": "234beb6e-cde0-4ce9-9d8d-f2c87919eeb9",
        "colab": {
          "base_uri": "https://localhost:8080/"
        }
      },
      "execution_count": 1,
      "outputs": [
        {
          "output_type": "execute_result",
          "data": {
            "text/plain": [
              "('BANC', 'a')"
            ]
          },
          "metadata": {},
          "execution_count": 1
        }
      ]
    },
    {
      "cell_type": "code",
      "source": [],
      "metadata": {
        "id": "0eUl_6ykY7QB"
      },
      "execution_count": null,
      "outputs": []
    }
  ]
}