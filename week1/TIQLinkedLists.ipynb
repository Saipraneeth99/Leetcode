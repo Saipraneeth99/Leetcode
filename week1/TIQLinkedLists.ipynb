{
  "nbformat": 4,
  "nbformat_minor": 0,
  "metadata": {
    "colab": {
      "provenance": [],
      "authorship_tag": "ABX9TyON9TWNKhQhDHF8jpDVhOXz",
      "include_colab_link": true
    },
    "kernelspec": {
      "name": "python3",
      "display_name": "Python 3"
    },
    "language_info": {
      "name": "python"
    }
  },
  "cells": [
    {
      "cell_type": "markdown",
      "metadata": {
        "id": "view-in-github",
        "colab_type": "text"
      },
      "source": [
        "<a href=\"https://colab.research.google.com/github/Saipraneeth99/Leetcode/blob/main/week1/TIQLinkedLists.ipynb\" target=\"_parent\"><img src=\"https://colab.research.google.com/assets/colab-badge.svg\" alt=\"Open In Colab\"/></a>"
      ]
    },
    {
      "cell_type": "markdown",
      "source": [
        "## 237. [Delete Node in a Linked List](https://leetcode.com/problems/delete-node-in-a-linked-list/)\n",
        "\n",
        "### Conceptual Logic\n",
        "This method deletes a node from a singly linked list without being given access to the head of the list. It copies the value of the next node into the current node and then skips over the next node, effectively deleting it.\n",
        "\n",
        "### Time and Space Complexity\n",
        "- **Time Complexity**: O(1). The deletion process involves only a few constant-time operations.\n",
        "- **Space Complexity**: O(1). The space used is constant as it doesn't rely on the size of the linked list.\n"
      ],
      "metadata": {
        "id": "bFNPj-tayglw"
      }
    },
    {
      "cell_type": "code",
      "source": [
        "\n",
        "# Definition for singly-linked list.\n",
        "class ListNode:\n",
        "    def __init__(self, val=0, next=None):\n",
        "        self.val = val\n",
        "        self.next = next\n",
        "\n",
        "class Solution:\n",
        "    def deleteNode(self, node):\n",
        "        node.val = node.next.val\n",
        "        node.next = node.next.next\n",
        "\n",
        "# Test cases setup\n",
        "solution = Solution()\n",
        "\n",
        "# Creating a linked list for demonstration\n",
        "# List: 4 -> 5 -> 1 -> 9\n",
        "node1 = ListNode(4)\n",
        "node2 = ListNode(5)\n",
        "node3 = ListNode(1)\n",
        "node4 = ListNode(9)\n",
        "node1.next = node2\n",
        "node2.next = node3\n",
        "node3.next = node4\n",
        "\n",
        "# Deleting node with value 5\n",
        "solution.deleteNode(node2)\n",
        "\n",
        "# Function to print linked list\n",
        "def printList(node):\n",
        "    values = []\n",
        "    while node:\n",
        "        values.append(str(node.val))\n",
        "        node = node.next\n",
        "    return \" -> \".join(values)\n",
        "\n",
        "# Printing the list after deletion\n",
        "printList(node1)\n"
      ],
      "metadata": {
        "colab": {
          "base_uri": "https://localhost:8080/",
          "height": 35
        },
        "id": "z1TmMQTuytp7",
        "outputId": "4c6eee96-e90f-4e6c-e97e-d08327124f20"
      },
      "execution_count": 2,
      "outputs": [
        {
          "output_type": "execute_result",
          "data": {
            "text/plain": [
              "'4 -> 1 -> 9'"
            ],
            "application/vnd.google.colaboratory.intrinsic+json": {
              "type": "string"
            }
          },
          "metadata": {},
          "execution_count": 2
        }
      ]
    },
    {
      "cell_type": "markdown",
      "source": [
        "## 19. [Remove Nth Node From End of List](https://leetcode.com/problems/remove-nth-node-from-end-of-list/description/)\n",
        "\n",
        "### Conceptual Logic\n",
        "This method removes the nth node from the end of a linked list. It first calculates the length of the list, then traverses to the node before the one to be removed and adjusts pointers to skip the target node.\n",
        "\n",
        "### Time and Space Complexity\n",
        "- **Time Complexity**: O(L), where L is the length of the linked list. The list is traversed twice: once to find its length and once to find the node to remove.\n",
        "- **Space Complexity**: O(1). The method modifies the list in place and uses a constant amount of extra space.\n"
      ],
      "metadata": {
        "id": "ZwqQrYbNygn6"
      }
    },
    {
      "cell_type": "code",
      "source": [
        "\n",
        "# Definition for singly-linked list.\n",
        "class ListNode:\n",
        "    def __init__(self, val=0, next=None):\n",
        "        self.val = val\n",
        "        self.next = next\n",
        "\n",
        "class Solution:\n",
        "    def removeNthFromEnd(self, head, n):\n",
        "        dummy1 = ListNode(0, head)\n",
        "        length = 0\n",
        "        current = dummy1\n",
        "        while current.next:\n",
        "            current = current.next\n",
        "            length += 1\n",
        "\n",
        "        if length == n:\n",
        "            return head.next\n",
        "\n",
        "        current = ListNode(0, head)\n",
        "        for _ in range(length - n):\n",
        "            current = current.next\n",
        "        current.next = current.next.next\n",
        "        return dummy1.next\n",
        "\n",
        "# Test cases setup\n",
        "solution = Solution()\n",
        "\n",
        "# Creating a linked list for demonstration\n",
        "# List: 1 -> 2 -> 3 -> 4 -> 5\n",
        "node1 = ListNode(1)\n",
        "node2 = ListNode(2)\n",
        "node3 = ListNode(3)\n",
        "node4 = ListNode(4)\n",
        "node5 = ListNode(5)\n",
        "node1.next = node2\n",
        "node2.next = node3\n",
        "node3.next = node4\n",
        "node4.next = node5\n",
        "\n",
        "# Removing the 2nd node from the end (node with value 4)\n",
        "new_head = solution.removeNthFromEnd(node1, 2)\n",
        "\n",
        "# Function to print linked list\n",
        "def printList(node):\n",
        "    values = []\n",
        "    while node:\n",
        "        values.append(str(node.val))\n",
        "        node = node.next\n",
        "    return \" -> \".join(values)\n",
        "\n",
        "# Printing the list after removal\n",
        "printList(new_head)\n"
      ],
      "metadata": {
        "colab": {
          "base_uri": "https://localhost:8080/",
          "height": 35
        },
        "id": "66lvFKSay3oX",
        "outputId": "f3b636a1-d447-44e1-9832-284d9f2fa300"
      },
      "execution_count": 3,
      "outputs": [
        {
          "output_type": "execute_result",
          "data": {
            "text/plain": [
              "'1 -> 2 -> 3 -> 5'"
            ],
            "application/vnd.google.colaboratory.intrinsic+json": {
              "type": "string"
            }
          },
          "metadata": {},
          "execution_count": 3
        }
      ]
    },
    {
      "cell_type": "markdown",
      "source": [
        "## 206. [Reverse Linked List](https://leetcode.com/problems/reverse-linked-list/)\n",
        "\n",
        "### Conceptual Logic\n",
        "This method reverses a singly linked list. It iteratively changes the `next` pointer of each node to point to its previous node, effectively reversing the direction of the list.\n",
        "\n",
        "### Time and Space Complexity\n",
        "- **Time Complexity**: O(n), where n is the number of nodes in the linked list. Each node is visited once.\n",
        "- **Space Complexity**: O(1). The reversal is done in place, using a constant amount of extra space.\n"
      ],
      "metadata": {
        "id": "3oK3AvnDzDlG"
      }
    },
    {
      "cell_type": "code",
      "source": [
        "\n",
        "# Definition for singly-linked list.\n",
        "class ListNode:\n",
        "    def __init__(self, val=0, next=None):\n",
        "        self.val = val\n",
        "        self.next = next\n",
        "\n",
        "class Solution:\n",
        "    def reverseList(self, head):\n",
        "        prev, current = None, head\n",
        "\n",
        "        while current:\n",
        "            nextNode = current.next\n",
        "            current.next = prev\n",
        "            prev = current\n",
        "            current = nextNode\n",
        "\n",
        "        return prev\n",
        "\n",
        "# Test cases setup\n",
        "solution = Solution()\n",
        "\n",
        "# Creating a linked list for demonstration\n",
        "# List: 1 -> 2 -> 3 -> 4 -> 5\n",
        "node1 = ListNode(1)\n",
        "node2 = ListNode(2)\n",
        "node3 = ListNode(3)\n",
        "node4 = ListNode(4)\n",
        "node5 = ListNode(5)\n",
        "node1.next = node2\n",
        "node2.next = node3\n",
        "node3.next = node4\n",
        "node4.next = node5\n",
        "\n",
        "# Reversing the linked list\n",
        "reversed_head = solution.reverseList(node1)\n",
        "\n",
        "# Function to print linked list\n",
        "def printList(node):\n",
        "    values = []\n",
        "    while node:\n",
        "        values.append(str(node.val))\n",
        "        node = node.next\n",
        "    return \" -> \".join(values)\n",
        "\n",
        "# Printing the reversed list\n",
        "printList(reversed_head)\n"
      ],
      "metadata": {
        "colab": {
          "base_uri": "https://localhost:8080/",
          "height": 35
        },
        "id": "c4nTLqu6y9Js",
        "outputId": "644abbc4-a91d-4c00-a0ca-a9c021cb6911"
      },
      "execution_count": 6,
      "outputs": [
        {
          "output_type": "execute_result",
          "data": {
            "text/plain": [
              "'5 -> 4 -> 3 -> 2 -> 1'"
            ],
            "application/vnd.google.colaboratory.intrinsic+json": {
              "type": "string"
            }
          },
          "metadata": {},
          "execution_count": 6
        }
      ]
    },
    {
      "cell_type": "markdown",
      "source": [
        "## 21. [Merge Two Sorted Lists](https://leetcode.com/problems/merge-two-sorted-lists/description/)\n",
        "\n",
        "### Conceptual Logic\n",
        "This method merges two sorted linked lists into a single sorted linked list. It iteratively compares the nodes of the two lists, appending the smaller node to the merged list, and continues until all nodes from both lists are merged.\n",
        "\n",
        "### Time and Space Complexity\n",
        "- **Time Complexity**: O(n + m), where n and m are the lengths of `list1` and `list2`, respectively. Each node in both lists is visited at most once.\n",
        "- **Space Complexity**: O(1). The merging is done in place with a dummy head node, and no additional data structures are used.\n"
      ],
      "metadata": {
        "id": "ErIUtoMgzUG2"
      }
    },
    {
      "cell_type": "code",
      "source": [
        "\n",
        "# Definition for singly-linked list.\n",
        "class ListNode:\n",
        "    def __init__(self, val=0, next=None):\n",
        "        self.val = val\n",
        "        self.next = next\n",
        "\n",
        "class Solution:\n",
        "    def mergeTwoLists(self, list1, list2):\n",
        "        current = head = ListNode()  # Dummy head node\n",
        "\n",
        "        while list1 and list2:\n",
        "            if list1.val < list2.val:\n",
        "                current.next = list1\n",
        "                list1, current = list1.next, list1\n",
        "            else:\n",
        "                current.next = list2\n",
        "                list2, current = list2.next, list2\n",
        "\n",
        "        # Attach the remaining part of the longer list\n",
        "        current.next = list1 if list1 else list2\n",
        "\n",
        "        return head.next\n",
        "\n",
        "# Test cases setup\n",
        "solution = Solution()\n",
        "\n",
        "# Creating two sorted linked lists for demonstration\n",
        "# List1: 1 -> 2 -> 4\n",
        "list1_node1 = ListNode(1)\n",
        "list1_node2 = ListNode(2)\n",
        "list1_node3 = ListNode(4)\n",
        "list1_node1.next = list1_node2\n",
        "list1_node2.next = list1_node3\n",
        "\n",
        "# List2: 1 -> 3 -> 4\n",
        "list2_node1 = ListNode(1)\n",
        "list2_node2 = ListNode(3)\n",
        "list2_node3 = ListNode(4)\n",
        "list2_node1.next = list2_node2\n",
        "list2_node2.next = list2_node3\n",
        "\n",
        "# Merging the lists\n",
        "merged_head = solution.mergeTwoLists(list1_node1, list2_node1)\n",
        "\n",
        "# Function to print linked list\n",
        "def printList(node):\n",
        "    values = []\n",
        "    while node:\n",
        "        values.append(str(node.val))\n",
        "        node = node.next\n",
        "    return \" -> \".join(values)\n",
        "\n",
        "# Printing the merged list\n",
        "printList(merged_head)\n"
      ],
      "metadata": {
        "colab": {
          "base_uri": "https://localhost:8080/",
          "height": 35
        },
        "id": "J8gzPmZYzCvg",
        "outputId": "d259b5a8-70e6-4222-8d9c-a88507b22dea"
      },
      "execution_count": 7,
      "outputs": [
        {
          "output_type": "execute_result",
          "data": {
            "text/plain": [
              "'1 -> 1 -> 2 -> 3 -> 4 -> 4'"
            ],
            "application/vnd.google.colaboratory.intrinsic+json": {
              "type": "string"
            }
          },
          "metadata": {},
          "execution_count": 7
        }
      ]
    },
    {
      "cell_type": "markdown",
      "source": [
        "## 234. [Palindrome Linked List](https://leetcode.com/problems/palindrome-linked-list/)\n",
        "\n",
        "### Conceptual Logic\n",
        "This method checks if a singly linked list is a palindrome. It stores the values of the nodes in a list and compares it with its reverse to determine if the list is palindromic.\n",
        "\n",
        "### Time and Space Complexity\n",
        "- **Time Complexity**: O(n), where n is the number of nodes in the linked list. The method traverses the entire list to build the array of values.\n",
        "- **Space Complexity**: O(n). A list is used to store the values of all nodes, so the space complexity is linear with respect to the number of nodes in the linked list.\n"
      ],
      "metadata": {
        "id": "Xr8XPGzCzY_i"
      }
    },
    {
      "cell_type": "code",
      "source": [
        "\n",
        "# Definition for singly-linked list.\n",
        "class ListNode:\n",
        "    def __init__(self, val=0, next=None):\n",
        "        self.val = val\n",
        "        self.next = next\n",
        "\n",
        "class Solution:\n",
        "    def isPalindrome(self, head):\n",
        "        values = []\n",
        "        while head:\n",
        "            values.append(str(head.val))\n",
        "            head = head.next\n",
        "        return values == values[::-1]\n",
        "\n",
        "# Test cases setup\n",
        "solution = Solution()\n",
        "\n",
        "# Creating a linked list for demonstration\n",
        "# List: 1 -> 2 -> 2 -> 1 (Palindrome)\n",
        "node1 = ListNode(1)\n",
        "node2 = ListNode(2)\n",
        "node3 = ListNode(2)\n",
        "node4 = ListNode(1)\n",
        "node1.next = node2\n",
        "node2.next = node3\n",
        "node3.next = node4\n",
        "\n",
        "# Check if the list is a palindrome\n",
        "result1 = solution.isPalindrome(node1)\n",
        "\n",
        "# Creating another linked list for demonstration\n",
        "# List: 1 -> 2 (Not a palindrome)\n",
        "node5 = ListNode(1)\n",
        "node6 = ListNode(2)\n",
        "node5.next = node6\n",
        "\n",
        "# Check if the second list is a palindrome\n",
        "result2 = solution.isPalindrome(node5)\n",
        "\n",
        "result1, result2\n"
      ],
      "metadata": {
        "colab": {
          "base_uri": "https://localhost:8080/"
        },
        "id": "m0cr1sNZzYOY",
        "outputId": "e6e3b69c-ebe6-4c86-a638-bc402df0d661"
      },
      "execution_count": 8,
      "outputs": [
        {
          "output_type": "execute_result",
          "data": {
            "text/plain": [
              "(True, False)"
            ]
          },
          "metadata": {},
          "execution_count": 8
        }
      ]
    },
    {
      "cell_type": "code",
      "source": [],
      "metadata": {
        "id": "zzXAHrlyzgNT"
      },
      "execution_count": null,
      "outputs": []
    },
    {
      "cell_type": "markdown",
      "source": [
        "## 141. [Linked List Cycle](https://leetcode.com/problems/linked-list-cycle/description/)\n",
        "\n",
        "### Conceptual Logic\n",
        "This method checks if a singly linked list contains a cycle. It uses a hash table to track nodes that have been visited. If a node is encountered again, it indicates a cycle.\n",
        "\n",
        "### Time and Space Complexity\n",
        "- **Time Complexity**: O(n), where n is the number of nodes in the linked list. In the worst case, each node is visited once.\n",
        "- **Space Complexity**: O(n). The method requires space proportional to the number of nodes to store visited nodes in the hash table.\n"
      ],
      "metadata": {
        "id": "Wr2x_iMSzj0Y"
      }
    },
    {
      "cell_type": "code",
      "source": [
        "\n",
        "# Definition for singly-linked list.\n",
        "class ListNode:\n",
        "    def __init__(self, x):\n",
        "        self.val = x\n",
        "        self.next = None\n",
        "\n",
        "from collections import defaultdict\n",
        "\n",
        "class Solution:\n",
        "    def hasCycle(self, head):\n",
        "        passed = defaultdict(bool)\n",
        "        current = head\n",
        "        while current:\n",
        "            if passed[current]:\n",
        "                return True\n",
        "            passed[current] = True\n",
        "            current = current.next\n",
        "        return False\n",
        "\n",
        "# Test cases setup\n",
        "solution = Solution()\n",
        "\n",
        "# Creating a linked list for demonstration\n",
        "# List: 3 -> 2 -> 0 -> -4 (with a cycle back to node 2)\n",
        "node1 = ListNode(3)\n",
        "node2 = ListNode(2)\n",
        "node3 = ListNode(0)\n",
        "node4 = ListNode(-4)\n",
        "node1.next = node2\n",
        "node2.next = node3\n",
        "node3.next = node4\n",
        "node4.next = node2  # Creating a cycle\n",
        "\n",
        "# Check if the list has a cycle\n",
        "result1 = solution.hasCycle(node1)\n",
        "\n",
        "# Creating another linked list for demonstration\n",
        "# List: 1 -> 2 (No cycle)\n",
        "node5 = ListNode(1)\n",
        "node6 = ListNode(2)\n",
        "node5.next = node6\n",
        "\n",
        "# Check if the second list has a cycle\n",
        "result2 = solution.hasCycle(node5)\n",
        "\n",
        "result1, result2\n"
      ],
      "metadata": {
        "colab": {
          "base_uri": "https://localhost:8080/"
        },
        "id": "kd12feO_zlwA",
        "outputId": "38714d64-32a3-404a-d99a-4283fa16d0e5"
      },
      "execution_count": 9,
      "outputs": [
        {
          "output_type": "execute_result",
          "data": {
            "text/plain": [
              "(True, False)"
            ]
          },
          "metadata": {},
          "execution_count": 9
        }
      ]
    },
    {
      "cell_type": "code",
      "source": [],
      "metadata": {
        "id": "zb81CbdUzo4h"
      },
      "execution_count": null,
      "outputs": []
    }
  ]
}