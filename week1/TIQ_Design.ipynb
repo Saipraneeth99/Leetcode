{
  "nbformat": 4,
  "nbformat_minor": 0,
  "metadata": {
    "colab": {
      "provenance": [],
      "authorship_tag": "ABX9TyOR7bd/YholSR1COPpsdVnY",
      "include_colab_link": true
    },
    "kernelspec": {
      "name": "python3",
      "display_name": "Python 3"
    },
    "language_info": {
      "name": "python"
    }
  },
  "cells": [
    {
      "cell_type": "markdown",
      "metadata": {
        "id": "view-in-github",
        "colab_type": "text"
      },
      "source": [
        "<a href=\"https://colab.research.google.com/github/Saipraneeth99/Leetcode/blob/main/week1/TIQ_Design.ipynb\" target=\"_parent\"><img src=\"https://colab.research.google.com/assets/colab-badge.svg\" alt=\"Open In Colab\"/></a>"
      ]
    },
    {
      "cell_type": "markdown",
      "source": [
        "## 384. [Shuffle an Array](https://leetcode.com/problems/shuffle-an-array/)\n",
        "\n",
        "### Conceptual Logic\n",
        "The solution defines a class to shuffle an array or reset it to its original configuration. The `shuffle` method implements the Fisher-Yates algorithm for an unbiased shuffle, ensuring each permutation is equally likely.\n",
        "\n",
        "### Why This Approach?\n",
        "The Fisher-Yates shuffle algorithm is efficient and guarantees a uniform shuffle in linear time. By iterating through the array and swapping each element with another randomly selected element that has not been shuffled yet, it avoids biases associated with simpler, less rigorous shuffle methods.\n",
        "\n",
        "### Time and Space Complexity\n",
        "- **Time Complexity**:\n",
        "  - For `reset()`: O(n), where n is the number of elements in the array, due to the need to copy the original list.\n",
        "  - For `shuffle()`: O(n), since each element is considered exactly once for swapping.\n",
        "- **Space Complexity**: O(n), to store a copy of the original array. This space is used to reset the array back to its original state.\n",
        "\n",
        "### Approach Name\n",
        "The algorithm employs the \"Fisher-Yates Shuffle\" for the `shuffle` method and straightforward list copying for the `reset` method.\n",
        "\n",
        "----------\n",
        "This example demonstrates initializing the `Solution` class with an array, shuffling it, and then resetting it to its original state. The `reset` method returns the array to its initial configuration, while `shuffle` randomly rearranges the elements, showcasing the effectiveness and efficiency of the Fisher-Yates algorithm for this purpose."
      ],
      "metadata": {
        "id": "LAyYSh9t91g4"
      }
    },
    {
      "cell_type": "code",
      "source": [
        "class MinStack:\n",
        "\n",
        "    def __init__(self):\n",
        "        self.stack = []\n",
        "        self.minStack = []\n",
        "\n",
        "    def push(self, val):\n",
        "        self.stack.append(val)\n",
        "        if not self.minStack or val <= self.minStack[-1]:\n",
        "            self.minStack.append(val)\n",
        "\n",
        "    def pop(self):\n",
        "        val = self.stack.pop()\n",
        "        if val == self.minStack[-1]:\n",
        "            self.minStack.pop()\n",
        "\n",
        "    def top(self):\n",
        "        return self.stack[-1]\n",
        "\n",
        "    def getMin(self):\n",
        "        return self.minStack[-1]\n",
        "\n",
        "# Usage example\n",
        "minStack = MinStack()\n",
        "operations = [\"push\", \"push\", \"push\", \"getMin\", \"pop\", \"top\", \"getMin\"]\n",
        "values = [[-2], [0], [-3], [], [], [], []]\n",
        "\n",
        "for op, val in zip(operations, values):\n",
        "    if op == \"push\":\n",
        "        minStack.push(*val)\n",
        "    elif op == \"pop\":\n",
        "        minStack.pop()\n",
        "    elif op == \"top\":\n",
        "        print(\"Top:\", minStack.top())\n",
        "    elif op == \"getMin\":\n",
        "        print(\"Min:\", minStack.getMin())\n"
      ],
      "metadata": {
        "colab": {
          "base_uri": "https://localhost:8080/"
        },
        "id": "lLQ2xhNL934s",
        "outputId": "7dbbe287-57a8-4d8f-bf3a-112e851d9bf6"
      },
      "execution_count": 2,
      "outputs": [
        {
          "output_type": "stream",
          "name": "stdout",
          "text": [
            "Min: -3\n",
            "Top: 0\n",
            "Min: -2\n"
          ]
        }
      ]
    },
    {
      "cell_type": "code",
      "source": [],
      "metadata": {
        "id": "CivxS1CH99je"
      },
      "execution_count": null,
      "outputs": []
    }
  ]
}