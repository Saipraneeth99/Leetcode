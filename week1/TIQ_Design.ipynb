{
  "nbformat": 4,
  "nbformat_minor": 0,
  "metadata": {
    "colab": {
      "provenance": [],
      "include_colab_link": true
    },
    "kernelspec": {
      "name": "python3",
      "display_name": "Python 3"
    },
    "language_info": {
      "name": "python"
    }
  },
  "cells": [
    {
      "cell_type": "markdown",
      "metadata": {
        "id": "view-in-github",
        "colab_type": "text"
      },
      "source": [
        "<a href=\"https://colab.research.google.com/github/Saipraneeth99/Leetcode/blob/main/week1/TIQ_Design.ipynb\" target=\"_parent\"><img src=\"https://colab.research.google.com/assets/colab-badge.svg\" alt=\"Open In Colab\"/></a>"
      ]
    },
    {
      "cell_type": "markdown",
      "source": [
        "## 384. [Shuffle an Array](https://leetcode.com/problems/shuffle-an-array/)\n",
        "\n",
        "### Conceptual Logic\n",
        "The solution defines a class to shuffle an array or reset it to its original configuration. The `shuffle` method implements the Fisher-Yates algorithm for an unbiased shuffle, ensuring each permutation is equally likely.\n",
        "\n",
        "### Why This Approach?\n",
        "The Fisher-Yates shuffle algorithm is efficient and guarantees a uniform shuffle in linear time. By iterating through the array and swapping each element with another randomly selected element that has not been shuffled yet, it avoids biases associated with simpler, less rigorous shuffle methods.\n",
        "\n",
        "### Time and Space Complexity\n",
        "- **Time Complexity**:\n",
        "  - For `reset()`: O(n), where n is the number of elements in the array, due to the need to copy the original list.\n",
        "  - For `shuffle()`: O(n), since each element is considered exactly once for swapping.\n",
        "- **Space Complexity**: O(n), to store a copy of the original array. This space is used to reset the array back to its original state.\n",
        "\n",
        "### Approach Name\n",
        "The algorithm employs the \"Fisher-Yates Shuffle\" for the `shuffle` method and straightforward list copying for the `reset` method.\n",
        "\n",
        "----------\n",
        "This example demonstrates initializing the `Solution` class with an array, shuffling it, and then resetting it to its original state. The `reset` method returns the array to its initial configuration, while `shuffle` randomly rearranges the elements, showcasing the effectiveness and efficiency of the Fisher-Yates algorithm for this purpose."
      ],
      "metadata": {
        "id": "LAyYSh9t91g4"
      }
    },
    {
      "cell_type": "code",
      "source": [
        "import random\n",
        "\n",
        "class Solution:\n",
        "    def __init__(self, nums):\n",
        "        self.original = list(nums)\n",
        "        self.array = list(nums)\n",
        "\n",
        "    def reset(self):\n",
        "        self.array = self.original[:]\n",
        "        return self.array\n",
        "\n",
        "    def shuffle(self):\n",
        "        for i in range(len(self.array)):\n",
        "            swap_idx = random.randrange(i, len(self.array))\n",
        "            self.array[i], self.array[swap_idx] = self.array[swap_idx], self.array[i]\n",
        "        return self.array\n",
        "\n",
        "# Usage example\n",
        "solution = Solution([1, 2, 3, 4, 5])\n",
        "\n",
        "# Expected Interaction:\n",
        "#   solution.shuffle() -> The array [1, 2, 3, 4, 5] is shuffled randomly.\n",
        "#   solution.reset() -> Resets the array back to its original configuration [1, 2, 3, 4, 5].\n",
        "#   solution.shuffle() -> Returns a new random shuffling of the array.\n"
      ],
      "metadata": {
        "id": "eruGFxawKtN0"
      },
      "execution_count": 1,
      "outputs": []
    },
    {
      "cell_type": "markdown",
      "source": [
        "## 155. [Min Stack](https://leetcode.com/problems/min-stack/description/)\n",
        "\n",
        "### Problem Description\n",
        "Design a stack that supports push, pop, top, and retrieving the minimum element in constant time. Implement the MinStack class with the following operations:\n",
        "- `MinStack()` initializes the stack object.\n",
        "- `void push(int val)` pushes the element `val` onto the stack.\n",
        "- `void pop()` removes the element on the top of the stack.\n",
        "- `int top()` gets the top element of the stack.\n",
        "- `int getMin()` retrieves the minimum element in the stack.\n",
        "\n",
        "The solution must achieve O(1) time complexity for each function.\n",
        "\n",
        "### Expected Input and Output\n",
        "\n",
        "- **Input**\n",
        "```\n",
        "[\"MinStack\",\"push\",\"push\",\"push\",\"getMin\",\"pop\",\"top\",\"getMin\"]\n",
        "[[],[-2],[0],[-3],[],[],[],[]]\n",
        "```\n",
        "\n",
        "- **Output**\n",
        "```\n",
        "[null,null,null,null,-3,null,0,-2]\n",
        "```\n",
        "\n",
        "### Conceptual Logic\n",
        "The class maintains two stacks: one for the elements (`self.stack`) and another to track the minimum elements (`self.min`). Each push operation adds the value to the stack and potentially to the min stack if it's less than or equal to the current minimum. Pop operations synchronize both stacks to ensure the minimum values reflect the current state of the main stack.\n",
        "\n",
        "### Why This Approach?\n",
        "Using two stacks allows for constant time operations for all required functionalities, including retrieving the minimum element. This design efficiently parallels the main stack's operations with a dedicated min stack that tracks the minimum values, adhering to the O(1) time complexity requirement.\n",
        "\n",
        "### Time and Space Complexity\n",
        "- **Time Complexity**: O(1) for each operation (`push`, `pop`, `top`, `getMin`), as each operation performs a constant amount of work.\n",
        "- **Space Complexity**: O(n), where n is the number of elements pushed onto the stack. This accounts for the space needed for both the main stack and the min stack.\n",
        "\n",
        "### Approach Name\n",
        "The \"Dual Stack\" approach, where one stack is used for storing all elements and a secondary stack is used for tracking minimum values.\n",
        "\n"
      ],
      "metadata": {
        "id": "afsqLs80REkh"
      }
    },
    {
      "cell_type": "code",
      "source": [
        "class MinStack:\n",
        "\n",
        "    def __init__(self):\n",
        "        self.stack = []\n",
        "        self.minStack = []\n",
        "\n",
        "    def push(self, val):\n",
        "        self.stack.append(val)\n",
        "        if not self.minStack or val <= self.minStack[-1]:\n",
        "            self.minStack.append(val)\n",
        "\n",
        "    def pop(self):\n",
        "        val = self.stack.pop()\n",
        "        if val == self.minStack[-1]:\n",
        "            self.minStack.pop()\n",
        "\n",
        "    def top(self):\n",
        "        return self.stack[-1]\n",
        "\n",
        "    def getMin(self):\n",
        "        return self.minStack[-1]\n",
        "\n",
        "# Usage example\n",
        "minStack = MinStack()\n",
        "operations = [\"push\", \"push\", \"push\", \"getMin\", \"pop\", \"top\", \"getMin\"]\n",
        "values = [[-2], [0], [-3], [], [], [], []]\n",
        "\n",
        "for op, val in zip(operations, values):\n",
        "    if op == \"push\":\n",
        "        minStack.push(*val)\n",
        "    elif op == \"pop\":\n",
        "        minStack.pop()\n",
        "    elif op == \"top\":\n",
        "        print(\"Top:\", minStack.top())\n",
        "    elif op == \"getMin\":\n",
        "        print(\"Min:\", minStack.getMin())\n"
      ],
      "metadata": {
        "colab": {
          "base_uri": "https://localhost:8080/"
        },
        "id": "lLQ2xhNL934s",
        "outputId": "7dbbe287-57a8-4d8f-bf3a-112e851d9bf6"
      },
      "execution_count": null,
      "outputs": [
        {
          "output_type": "stream",
          "name": "stdout",
          "text": [
            "Min: -3\n",
            "Top: 0\n",
            "Min: -2\n"
          ]
        }
      ]
    },
    {
      "cell_type": "code",
      "source": [],
      "metadata": {
        "id": "CivxS1CH99je"
      },
      "execution_count": null,
      "outputs": []
    }
  ]
}