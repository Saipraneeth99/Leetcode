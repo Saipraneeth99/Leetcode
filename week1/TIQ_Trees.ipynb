{
  "nbformat": 4,
  "nbformat_minor": 0,
  "metadata": {
    "colab": {
      "provenance": [],
      "authorship_tag": "ABX9TyO1bPGcQIk5qpAiYpy2nMAz",
      "include_colab_link": true
    },
    "kernelspec": {
      "name": "python3",
      "display_name": "Python 3"
    },
    "language_info": {
      "name": "python"
    }
  },
  "cells": [
    {
      "cell_type": "markdown",
      "metadata": {
        "id": "view-in-github",
        "colab_type": "text"
      },
      "source": [
        "<a href=\"https://colab.research.google.com/github/Saipraneeth99/Leetcode/blob/main/week1/TIQ_Trees.ipynb\" target=\"_parent\"><img src=\"https://colab.research.google.com/assets/colab-badge.svg\" alt=\"Open In Colab\"/></a>"
      ]
    },
    {
      "cell_type": "code",
      "source": [],
      "metadata": {
        "id": "mLmLJcdSvJjM"
      },
      "execution_count": null,
      "outputs": []
    },
    {
      "cell_type": "markdown",
      "source": [
        "## 104. [Maximum Depth of Binary Tree](https://leetcode.com/problems/maximum-depth-of-binary-tree/description/)\n",
        "\n",
        "### Conceptual Logic\n",
        "This iterative solution calculates the maximum depth of a binary tree using a stack for DFS (Depth-First Search) traversal, keeping track of the depth for each node.\n",
        "\n",
        "### Time and Space Complexity\n",
        "- **Time Complexity**: O(n), where n is the number of nodes in the binary tree. Each node is visited once during the DFS traversal.\n",
        "- **Space Complexity**: O(n). In the worst case, the stack will hold all nodes on the path from the root to a leaf node, which corresponds to the height of the tree. For a skewed tree, this could be all nodes.\n"
      ],
      "metadata": {
        "id": "VHDRSqpnmA_n"
      }
    },
    {
      "cell_type": "code",
      "source": [
        "# Definition for a binary tree node.\n",
        "class TreeNode:\n",
        "    def __init__(self, val=0, left=None, right=None):\n",
        "        self.val = val\n",
        "        self.left = left\n",
        "        self.right = right\n",
        "\n",
        "class Solution:\n",
        "    def maxDepth(self, root):\n",
        "        stack = []\n",
        "        depth = 0\n",
        "        if root is not None:\n",
        "            stack.append((1, root))\n",
        "        while stack:\n",
        "            currentDepth, node = stack.pop()\n",
        "            if node:\n",
        "                depth = max(depth, currentDepth)\n",
        "                stack.append((currentDepth + 1, node.right))\n",
        "                stack.append((currentDepth + 1, node.left))\n",
        "        return depth\n",
        "\n",
        "# Test cases setup\n",
        "solution = Solution()\n",
        "\n",
        "# Creating a binary tree for demonstration\n",
        "# Tree:      3\n",
        "#           / \\\n",
        "#          9  20\n",
        "#            /  \\\n",
        "#           15   7\n",
        "node1 = TreeNode(3)\n",
        "node2 = TreeNode(9)\n",
        "node3 = TreeNode(20)\n",
        "node4 = TreeNode(15)\n",
        "node5 = TreeNode(7)\n",
        "node1.left = node2\n",
        "node1.right = node3\n",
        "node3.left = node4\n",
        "node3.right = node5\n",
        "\n",
        "# Finding the maximum depth of the binary tree\n",
        "result = solution.maxDepth(node1)\n",
        "\n",
        "result\n"
      ],
      "metadata": {
        "colab": {
          "base_uri": "https://localhost:8080/"
        },
        "id": "RNqpEv3CmCha",
        "outputId": "ba70a52b-d329-4c7d-8825-1b0aa4391a70"
      },
      "execution_count": 3,
      "outputs": [
        {
          "output_type": "execute_result",
          "data": {
            "text/plain": [
              "3"
            ]
          },
          "metadata": {},
          "execution_count": 3
        }
      ]
    },
    {
      "cell_type": "markdown",
      "source": [
        "Certainly! Adding a rationale for choosing a specific traversal type enhances the explanation. Here's the updated version with the additional paragraph:\n",
        "\n",
        "## 98. [Validate Binary Search Tree](https://leetcode.com/problems/validate-binary-search-tree/description/)\n",
        "\n",
        "### Conceptual Logic\n",
        "This method validates a binary search tree (BST) using an iterative in-order traversal. It checks for proper BST ordering by ensuring that each node's value is greater than the previously visited node's value.\n",
        "\n",
        "### Time and Space Complexity\n",
        "- **Time Complexity**: O(n), where n is the number of nodes in the tree.\n",
        "- **Space Complexity**: O(n) for the worst case; O(log n) on average.\n",
        "\n",
        "### Traversal Type\n",
        "- **In-order DFS**. This approach performs an in-order traversal iteratively, visiting nodes in non-decreasing order, which is a natural fit for BST validation.\n",
        "\n",
        "### Why In-order DFS?\n",
        "In-order DFS is particularly suited for validating BSTs because it naturally processes the nodes in ascending order if the tree is a valid BST. This property allows us to compare each node with its immediate predecessor to ensure the current node's value is greater, adhering to the BST property. An iterative approach, as opposed to a recursive one, was chosen to control the traversal more finely and potentially reduce the stack space usage compared to the system call stack in a deeply recursive approach.\n"
      ],
      "metadata": {
        "id": "1D0hGah1uxz2"
      }
    },
    {
      "cell_type": "code",
      "source": [
        "\n",
        "# Definition for a binary tree node.\n",
        "class TreeNode:\n",
        "    def __init__(self, val=0, left=None, right=None):\n",
        "        self.val = val\n",
        "        self.left = left\n",
        "        self.right = right\n",
        "\n",
        "class Solution:\n",
        "    def isValidBST(self, root):\n",
        "        stack, inorder = [], -float('inf')\n",
        "\n",
        "        while stack or root:\n",
        "            while root:\n",
        "                stack.append(root)\n",
        "                root = root.left\n",
        "\n",
        "            root = stack.pop()\n",
        "            if root.val <= inorder:\n",
        "                return False\n",
        "            inorder = root.val\n",
        "            root = root.right\n",
        "\n",
        "        return True\n",
        "\n",
        "# Test cases setup\n",
        "solution = Solution()\n",
        "\n",
        "# Creating a valid BST\n",
        "#       2\n",
        "#      / \\\n",
        "#     1   3\n",
        "valid_bst = TreeNode(2)\n",
        "valid_bst.left = TreeNode(1)\n",
        "valid_bst.right = TreeNode(3)\n",
        "\n",
        "# Creating an invalid BST\n",
        "#       5\n",
        "#      / \\\n",
        "#     1   4\n",
        "#        / \\\n",
        "#       3   6\n",
        "invalid_bst = TreeNode(5)\n",
        "invalid_bst.left = TreeNode(1)\n",
        "invalid_bst.right = TreeNode(4, TreeNode(3), TreeNode(6))\n",
        "\n",
        "# Test cases\n",
        "test_case_1 = solution.isValidBST(valid_bst)  # Expected: True\n",
        "test_case_2 = solution.isValidBST(invalid_bst)  # Expected: False\n",
        "\n",
        "test_case_1, test_case_2\n"
      ],
      "metadata": {
        "colab": {
          "base_uri": "https://localhost:8080/"
        },
        "id": "AFAyLe1emC-F",
        "outputId": "7b32ae75-5f33-458c-b546-d593f396f4e0"
      },
      "execution_count": 4,
      "outputs": [
        {
          "output_type": "execute_result",
          "data": {
            "text/plain": [
              "(True, False)"
            ]
          },
          "metadata": {},
          "execution_count": 4
        }
      ]
    },
    {
      "cell_type": "markdown",
      "source": [
        "## 101. [Symmetric Tree](https://leetcode.com/problems/symmetric-tree/description/)\n",
        "\n",
        "### Conceptual Logic\n",
        "This solution checks if a binary tree is symmetric around its center. It uses an iterative approach with a stack to compare corresponding nodes on the left and right sides of the tree simultaneously.\n",
        "\n",
        "### Time and Space Complexity\n",
        "- **Time Complexity**: O(n), where n is the number of nodes in the tree. Each node is visited once.\n",
        "- **Space Complexity**: O(n) in the worst case, due to the stack storage. This occurs in a completely balanced tree.\n",
        "\n",
        "### Traversal Type\n",
        "- **Level Order BFS-like**. Although this is not a direct traversal like preorder or inorder, the method compares nodes in pairs across the tree's symmetry, akin to a breadth-first search (BFS) by level, ensuring mirrored structure and values.\n",
        "\n",
        "### Why This Approach?\n",
        "The iterative approach with a stack facilitates simultaneous comparison of symmetrical nodes, allowing for early termination if asymmetry is detected. This method efficiently utilizes memory and processing time by avoiding recursion, which can be particularly advantageous for trees with large depths, minimizing the risk of stack overflow and redundant comparisons.\n"
      ],
      "metadata": {
        "id": "pfewhqLtu3A0"
      }
    },
    {
      "cell_type": "code",
      "source": [
        "\n",
        "# Definition for a binary tree node.\n",
        "class TreeNode:\n",
        "    def __init__(self, val=0, left=None, right=None):\n",
        "        self.val = val\n",
        "        self.left = left\n",
        "        self.right = right\n",
        "\n",
        "class Solution:\n",
        "    def isSymmetric(self, root):\n",
        "        if not root:\n",
        "            return True  # An empty tree is symmetric\n",
        "\n",
        "        stack = [(root.left, root.right)]\n",
        "        while stack:\n",
        "            left, right = stack.pop()\n",
        "            if not left and not right:\n",
        "                continue\n",
        "            if not left or not right or left.val != right.val:\n",
        "                return False\n",
        "            stack.append((left.right, right.left))\n",
        "            stack.append((left.left, right.right))\n",
        "        return True\n",
        "\n",
        "# Test cases setup\n",
        "solution = Solution()\n",
        "\n",
        "# Creating a symmetric tree\n",
        "#         1\n",
        "#        / \\\n",
        "#       2   2\n",
        "#      / \\ / \\\n",
        "#     3  4 4  3\n",
        "node1 = TreeNode(1)\n",
        "node2 = TreeNode(2)\n",
        "node3 = TreeNode(2)\n",
        "node4 = TreeNode(3)\n",
        "node5 = TreeNode(4)\n",
        "node6 = TreeNode(4)\n",
        "node7 = TreeNode(3)\n",
        "node1.left = node2\n",
        "node1.right = node3\n",
        "node2.left = node4\n",
        "node2.right = node5\n",
        "node3.left = node6\n",
        "node3.right = node7\n",
        "\n",
        "# Test case: Symmetric tree\n",
        "result1 = solution.isSymmetric(node1)\n",
        "\n",
        "# Creating an asymmetric tree\n",
        "#         1\n",
        "#        / \\\n",
        "#       2   2\n",
        "#        \\   \\\n",
        "#         3   3\n",
        "node8 = TreeNode(1)\n",
        "node9 = TreeNode(2)\n",
        "node10 = TreeNode(2)\n",
        "node11 = TreeNode(3)\n",
        "node12 = TreeNode(3)\n",
        "node8.left = node9\n",
        "node8.right = node10\n",
        "node9.right = node11\n",
        "node10.right = node12\n",
        "\n",
        "# Test case: Asymmetric tree\n",
        "result2 = solution.isSymmetric(node8)\n",
        "\n",
        "result1, result2"
      ],
      "metadata": {
        "colab": {
          "base_uri": "https://localhost:8080/"
        },
        "id": "qb2DJ9E_u2aj",
        "outputId": "34521e91-bff6-4e60-8938-abeebfe4bea8"
      },
      "execution_count": 5,
      "outputs": [
        {
          "output_type": "execute_result",
          "data": {
            "text/plain": [
              "(True, False)"
            ]
          },
          "metadata": {},
          "execution_count": 5
        }
      ]
    },
    {
      "cell_type": "markdown",
      "source": [
        "## 102. [Binary Tree Level Order Traversal](https://leetcode.com/problems/binary-tree-level-order-traversal/description/)\n",
        "\n",
        "### Conceptual Logic\n",
        "This method performs a level order traversal on a binary tree, collecting nodes' values at each level. It uses a queue to track nodes and their level, ensuring nodes are processed in order from top to bottom and left to right.\n",
        "\n",
        "### Time and Space Complexity\n",
        "- **Time Complexity**: O(n), where n is the number of nodes in the binary tree. Each node is processed exactly once.\n",
        "- **Space Complexity**: O(n), as the queue can hold all nodes in the worst case, particularly the last level of a complete binary tree.\n",
        "\n",
        "### Traversal Type\n",
        "- **BFS (Breadth-First Search)** or **Level Order**. This approach systematically explores the tree level by level, making it ideal for collecting nodes in their level order appearance.\n",
        "\n",
        "### Why This Approach?\n",
        "Using a queue for BFS is a natural fit for level order traversal because it processes nodes in a FIFO (First In, First Out) manner, aligning perfectly with the goal of visiting each level of the tree in sequence. This method is straightforward and ensures that all nodes on the same level are visited before moving to the next level, facilitating easy grouping of nodes by their depth in the tree.\n"
      ],
      "metadata": {
        "id": "7eQrKJI6vIey"
      }
    },
    {
      "cell_type": "code",
      "source": [
        "\n",
        "# Definition for a binary tree node.\n",
        "class TreeNode:\n",
        "    def __init__(self, val=0, left=None, right=None):\n",
        "        self.val = val\n",
        "        self.left = left\n",
        "        self.right = right\n",
        "\n",
        "from collections import deque\n",
        "\n",
        "class Solution:\n",
        "    def levelOrder(self, root):\n",
        "        if not root:\n",
        "            return []\n",
        "        queue = deque([(root, 0)])\n",
        "        solution = []\n",
        "\n",
        "        while queue:\n",
        "            node, level = queue.popleft()\n",
        "            if level == len(solution):\n",
        "                solution.append([])\n",
        "            solution[level].append(node.val)\n",
        "\n",
        "            if node.left:\n",
        "                queue.append((node.left, level + 1))\n",
        "            if node.right:\n",
        "                queue.append((node.right, level + 1))\n",
        "        return solution\n",
        "\n",
        "# Test cases setup\n",
        "solution = Solution()\n",
        "\n",
        "# Creating a binary tree for demonstration\n",
        "#       3\n",
        "#      / \\\n",
        "#     9  20\n",
        "#       /  \\\n",
        "#      15   7\n",
        "node1 = TreeNode(3)\n",
        "node2 = TreeNode(9)\n",
        "node3 = TreeNode(20)\n",
        "node4 = TreeNode(15)\n",
        "node5 = TreeNode(7)\n",
        "node1.left = node2\n",
        "node1.right = node3\n",
        "node3.left = node4\n",
        "node3.right = node5\n",
        "\n",
        "# Test case: Binary tree level order traversal\n",
        "result = solution.levelOrder(node1)\n",
        "\n",
        "result\n"
      ],
      "metadata": {
        "colab": {
          "base_uri": "https://localhost:8080/"
        },
        "id": "F9nPNiv7vHw1",
        "outputId": "848d8c16-0a67-4dac-8da3-82a538a26838"
      },
      "execution_count": 6,
      "outputs": [
        {
          "output_type": "execute_result",
          "data": {
            "text/plain": [
              "[[3], [9, 20], [15, 7]]"
            ]
          },
          "metadata": {},
          "execution_count": 6
        }
      ]
    },
    {
      "cell_type": "markdown",
      "source": [
        "## 108. [Convert Sorted Array to Binary Search Tree](https://leetcode.com/problems/convert-sorted-array-to-binary-search-tree/description/)\n",
        "\n",
        "### Conceptual Logic\n",
        "This method constructs a height-balanced binary search tree (BST) from a sorted array by recursively selecting the middle element as the root and applying the same process to the subarrays for creating left and right subtrees, ensuring minimal height.\n",
        "\n",
        "### Time and Space Complexity\n",
        "- **Time Complexity**: O(n), where n is the number of elements in the array. Each element is visited once to create a corresponding node.\n",
        "- **Space Complexity**: O(log n) for the recursive stack space (not considering the output tree space), which corresponds to the height of the tree. In the case of a balanced BST, the height is log n.\n",
        "\n",
        "### Traversal Type\n",
        "- **DFS (Depth-First Search)**. This approach employs a divide-and-conquer strategy, akin to DFS, where each recursive call handles a portion of the array and constructs part of the tree.\n",
        "\n",
        "### Why This Approach?\n",
        "Selecting the middle element of the sorted array as the root at each step ensures the resulting BST is balanced. This recursive strategy divides the problem into smaller subproblems, each responsible for constructing a part of the tree, effectively utilizing the sorted property of the array to satisfy BST conditions while also maintaining balance to minimize the tree's height.\n"
      ],
      "metadata": {
        "id": "y-k7QPKevRmh"
      }
    },
    {
      "cell_type": "code",
      "source": [
        "\n",
        "# Definition for a binary tree node.\n",
        "class TreeNode:\n",
        "    def __init__(self, val=0, left=None, right=None):\n",
        "        self.val = val\n",
        "        self.left = left\n",
        "        self.right = right\n",
        "\n",
        "class Solution:\n",
        "    def sortedArrayToBST(self, nums):\n",
        "        def helper(left, right):\n",
        "            if left > right:\n",
        "                return None\n",
        "            mid = left + (right - left) // 2  # Avoid potential overflow\n",
        "\n",
        "            root = TreeNode(nums[mid])\n",
        "            root.left = helper(left, mid - 1)\n",
        "            root.right = helper(mid + 1, right)\n",
        "            return root\n",
        "\n",
        "        return helper(0, len(nums) - 1)\n",
        "\n",
        "# Test cases setup\n",
        "solution = Solution()\n",
        "\n",
        "# Test case: Convert sorted array to BST\n",
        "nums = [-10, -3, 0, 5, 9]\n",
        "result_tree = solution.sortedArrayToBST(nums)\n",
        "\n",
        "# Function to print tree in inorder (for validation)\n",
        "def inorderTraversal(root):\n",
        "    return inorderTraversal(root.left) + [root.val] + inorderTraversal(root.right) if root else []\n",
        "\n",
        "# Validating the BST structure through inorder traversal\n",
        "inorder_result = inorderTraversal(result_tree)\n",
        "\n",
        "inorder_result\n"
      ],
      "metadata": {
        "colab": {
          "base_uri": "https://localhost:8080/"
        },
        "id": "G36PDK1RvPtr",
        "outputId": "f61abf24-39a9-4a84-f4af-cb7c6d3245fc"
      },
      "execution_count": 7,
      "outputs": [
        {
          "output_type": "execute_result",
          "data": {
            "text/plain": [
              "[-10, -3, 0, 5, 9]"
            ]
          },
          "metadata": {},
          "execution_count": 7
        }
      ]
    },
    {
      "cell_type": "code",
      "source": [],
      "metadata": {
        "id": "fLH3GKuqvWyT"
      },
      "execution_count": null,
      "outputs": []
    }
  ]
}