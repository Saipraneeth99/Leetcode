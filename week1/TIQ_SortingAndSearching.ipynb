{
  "nbformat": 4,
  "nbformat_minor": 0,
  "metadata": {
    "colab": {
      "provenance": [],
      "authorship_tag": "ABX9TyMz+G2yxOLdpQeuSHjFKw8t",
      "include_colab_link": true
    },
    "kernelspec": {
      "name": "python3",
      "display_name": "Python 3"
    },
    "language_info": {
      "name": "python"
    }
  },
  "cells": [
    {
      "cell_type": "markdown",
      "metadata": {
        "id": "view-in-github",
        "colab_type": "text"
      },
      "source": [
        "<a href=\"https://colab.research.google.com/github/Saipraneeth99/Leetcode/blob/main/week1/TIQ_SortingAndSearching.ipynb\" target=\"_parent\"><img src=\"https://colab.research.google.com/assets/colab-badge.svg\" alt=\"Open In Colab\"/></a>"
      ]
    },
    {
      "cell_type": "markdown",
      "source": [
        "## 278. [First Bad Version](https://leetcode.com/problems/first-bad-version/)\n",
        "\n",
        "### Conceptual Logic\n",
        "The method identifies the first bad version in a sequence of versions using a binary search approach. It narrows down the range by repeatedly checking the midpoint version until it finds the transition from good to bad versions.\n",
        "\n",
        "### Why This Approach?\n",
        "Binary search is optimal for this problem because it reduces the search space exponentially at each step, offering a much faster solution than a linear search. Since versions are sorted by number, binary search can be applied effectively.\n",
        "\n",
        "### Time and Space Complexity\n",
        "- **Time Complexity**: O(log n), where n is the number of versions. Binary search cuts the search space in half with each iteration.\n",
        "- **Space Complexity**: O(1). The space used is constant as the operation only requires a few integer variables.\n",
        "\n",
        "### Approach Name\n",
        "This algorithm is a \"Modified Binary Search\" as it tweaks the standard binary search to accommodate the specific condition of finding the first occurrence of a bad version."
      ],
      "metadata": {
        "id": "VaLSbuia96v9"
      }
    },
    {
      "cell_type": "markdown",
      "source": [],
      "metadata": {
        "id": "_HP1Qhu0-h30"
      }
    },
    {
      "cell_type": "code",
      "source": [
        "\n",
        "# The isBadVersion API is already defined for you.\n",
        "# def isBadVersion(version: int) -> bool:\n",
        "\n",
        "class Solution:\n",
        "    def firstBadVersion(self, n):\n",
        "        left, right = 1, n\n",
        "        while left < right:\n",
        "            mid = left + (right - left) // 2\n",
        "\n",
        "            if isBadVersion(mid):\n",
        "                right = mid\n",
        "            else:\n",
        "                left = mid + 1\n",
        "\n",
        "        # left is now the first bad version\n",
        "        return left\n",
        "\n",
        "# Test cases\n",
        "solution = Solution()\n",
        "\n",
        "# Let's assume versions 1 to 3 are good and versions 4 to 5 are bad\n",
        "# isBadVersion API mockup\n",
        "def isBadVersion(version):\n",
        "    return version >= 4\n",
        "\n",
        "# Test case: first bad version out of 5 versions\n",
        "n = 5\n",
        "# Expected output: 4\n",
        "result = solution.firstBadVersion(n)\n",
        "\n",
        "result\n"
      ],
      "metadata": {
        "colab": {
          "base_uri": "https://localhost:8080/"
        },
        "id": "Ee3ZISZF98kI",
        "outputId": "49fef7ea-03a1-4a5b-805e-02fbe15f362f"
      },
      "execution_count": 1,
      "outputs": [
        {
          "output_type": "execute_result",
          "data": {
            "text/plain": [
              "4"
            ]
          },
          "metadata": {},
          "execution_count": 1
        }
      ]
    },
    {
      "cell_type": "markdown",
      "source": [
        "## 88. [Merge Sorted Array](https://leetcode.com/problems/merge-sorted-array/description/)\n",
        "\n",
        "### Conceptual Logic\n",
        "The method merges two sorted arrays (`nums1` and `nums2`) into a single sorted array in place. Starting from the end, it compares elements of both arrays and places the larger one into the correct position from the back of `nums1`.\n",
        "\n",
        "### Why This Approach?\n",
        "Using a reverse iteration approach allows for in-place merging without additional space for `nums1`, as it fills from the end where there is unused space. This technique avoids overwriting elements in `nums1` that have not been processed yet.\n",
        "\n",
        "### Time and Space Complexity\n",
        "- **Time Complexity**: O(m + n), where m and n are the lengths of `nums1` and `nums2`, respectively. Each element from both arrays is considered exactly once.\n",
        "- **Space Complexity**: O(1). The merge is done in place, and no additional space is allocated.\n",
        "\n",
        "### Approach Name\n",
        "The algorithm is known as the \"Two-Pointer Approach\" for merging two sorted arrays from the end. This ensures that the merge process does not overwrite any values in `nums1` that still need to be placed.\n"
      ],
      "metadata": {
        "id": "Uj1OH7Yh-iqF"
      }
    },
    {
      "cell_type": "code",
      "source": [
        "\n",
        "class Solution:\n",
        "    def merge(self, nums1, m, nums2, n):\n",
        "        mainPointer = m + n - 1\n",
        "        pointer1 = m - 1\n",
        "        pointer2 = n - 1\n",
        "\n",
        "        while pointer1 >= 0 and pointer2 >= 0:\n",
        "            if nums1[pointer1] > nums2[pointer2]:\n",
        "                nums1[mainPointer] = nums1[pointer1]\n",
        "                pointer1 -= 1\n",
        "            else:\n",
        "                nums1[mainPointer] = nums2[pointer2]\n",
        "                pointer2 -= 1\n",
        "            mainPointer -= 1\n",
        "\n",
        "        # Copy any remaining elements from nums2 into nums1\n",
        "        nums1[:pointer2 + 1] = nums2[:pointer2 + 1]\n",
        "\n",
        "# Test cases\n",
        "solution = Solution()\n",
        "\n",
        "# Test case 1\n",
        "nums1 = [1,2,3,0,0,0]\n",
        "m = 3\n",
        "nums2 = [2,5,6]\n",
        "n = 3\n",
        "solution.merge(nums1, m, nums2, n)\n",
        "# Expected output: [1,2,2,3,5,6]\n",
        "result1 = nums1\n",
        "\n",
        "# Test case 2\n",
        "nums1 = [4,5,6,0,0,0]\n",
        "m = 3\n",
        "nums2 = [1,2,3]\n",
        "n = 3\n",
        "solution.merge(nums1, m, nums2, n)\n",
        "# Expected output: [1,2,3,4,5,6]\n",
        "result2 = nums1\n",
        "\n",
        "result1, result2\n"
      ],
      "metadata": {
        "colab": {
          "base_uri": "https://localhost:8080/"
        },
        "id": "xQzMB64Z9_jH",
        "outputId": "9e8f1dd7-0f1a-4968-f6f9-ed8f5145522b"
      },
      "execution_count": 2,
      "outputs": [
        {
          "output_type": "execute_result",
          "data": {
            "text/plain": [
              "([1, 2, 2, 3, 5, 6], [1, 2, 3, 4, 5, 6])"
            ]
          },
          "metadata": {},
          "execution_count": 2
        }
      ]
    },
    {
      "cell_type": "code",
      "source": [],
      "metadata": {
        "id": "x4-_1A-l-m-Z"
      },
      "execution_count": null,
      "outputs": []
    }
  ]
}