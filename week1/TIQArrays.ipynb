{
  "nbformat": 4,
  "nbformat_minor": 0,
  "metadata": {
    "colab": {
      "provenance": [],
      "authorship_tag": "ABX9TyN3UrmT4xgY3MfGdKBic66f",
      "include_colab_link": true
    },
    "kernelspec": {
      "name": "python3",
      "display_name": "Python 3"
    },
    "language_info": {
      "name": "python"
    }
  },
  "cells": [
    {
      "cell_type": "markdown",
      "metadata": {
        "id": "view-in-github",
        "colab_type": "text"
      },
      "source": [
        "<a href=\"https://colab.research.google.com/github/Saipraneeth99/Leetcode/blob/main/week1/Top_Interview_Questions.ipynb\" target=\"_parent\"><img src=\"https://colab.research.google.com/assets/colab-badge.svg\" alt=\"Open In Colab\"/></a>"
      ]
    },
    {
      "cell_type": "markdown",
      "source": [],
      "metadata": {
        "id": "UQ1zaGkrkZ0-"
      }
    },
    {
      "cell_type": "markdown",
      "source": [
        "26. Remove Duplicates from Sorted Array\n",
        "https://leetcode.com/problems/remove-duplicates-from-sorted-array/description/"
      ],
      "metadata": {
        "id": "PJoHfkyHkbzU"
      }
    },
    {
      "cell_type": "code",
      "source": [
        "class Solution:\n",
        "    def removeDuplicates(self, nums):\n",
        "        insertingIndex = 1\n",
        "        for i in range(1, len(nums)):\n",
        "            if nums[i - 1] != nums[i]:\n",
        "                nums[insertingIndex] = nums[i]\n",
        "                insertingIndex += 1\n",
        "        return insertingIndex\n",
        "\n",
        "# Test cases\n",
        "solution = Solution()\n",
        "\n",
        "# Test case 1\n",
        "nums1 = [1, 1, 2]\n",
        "length1 = solution.removeDuplicates(nums1)\n",
        "result1 = nums1[:length1]\n",
        "\n",
        "# Test case 2\n",
        "nums2 = [0, 0, 1, 1, 1, 2, 2, 3, 3, 4]\n",
        "length2 = solution.removeDuplicates(nums2)\n",
        "result2 = nums2[:length2]\n",
        "\n",
        "# Test case 3\n",
        "nums3 = [1, 2, 2, 3, 3, 3, 4, 4, 4, 4]\n",
        "length3 = solution.removeDuplicates(nums3)\n",
        "result3 = nums3[:length3]\n",
        "\n",
        "result1, result2, result3\n"
      ],
      "metadata": {
        "colab": {
          "base_uri": "https://localhost:8080/"
        },
        "id": "YD4mRTjNkg0d",
        "outputId": "842640f3-b5ae-47f0-e3e2-796aae0164e9"
      },
      "execution_count": 1,
      "outputs": [
        {
          "output_type": "execute_result",
          "data": {
            "text/plain": [
              "([1, 2], [0, 1, 2, 3, 4], [1, 2, 3, 4])"
            ]
          },
          "metadata": {},
          "execution_count": 1
        }
      ]
    },
    {
      "cell_type": "markdown",
      "source": [
        "122. Best Time to Buy and Sell Stock II https://leetcode.com/problems/best-time-to-buy-and-sell-stock-ii/"
      ],
      "metadata": {
        "id": "oHXKQqPOnAek"
      }
    },
    {
      "cell_type": "code",
      "source": [
        "class Solution:\n",
        "    def maxProfit(self, prices):\n",
        "        total = 0\n",
        "        for index in range(1, len(prices)):\n",
        "            if prices[index] > prices[index - 1]:\n",
        "                total += prices[index] - prices[index - 1]\n",
        "        return total\n",
        "\n",
        "# Test cases\n",
        "solution = Solution()\n",
        "\n",
        "# Test case 1: Increasing prices\n",
        "prices1 = [1, 2, 3, 4, 5]\n",
        "profit1 = solution.maxProfit(prices1)\n",
        "\n",
        "# Test case 2: Decreasing prices\n",
        "prices2 = [5, 4, 3, 2, 1]\n",
        "profit2 = solution.maxProfit(prices2)\n",
        "\n",
        "# Test case 3: Mixed prices\n",
        "prices3 = [7, 1, 5, 3, 6, 4]\n",
        "profit3 = solution.maxProfit(prices3)\n",
        "\n",
        "# Test case 4: Another mixed scenario\n",
        "prices4 = [1, 2, 3, 4, 3, 2, 1, 2, 3, 4, 3, 2]\n",
        "profit4 = solution.maxProfit(prices4)\n",
        "\n",
        "profit1, profit2, profit3, profit4\n"
      ],
      "metadata": {
        "colab": {
          "base_uri": "https://localhost:8080/"
        },
        "id": "QWarDibHnIDg",
        "outputId": "336cf35a-f923-4240-af64-0ace03349115"
      },
      "execution_count": 2,
      "outputs": [
        {
          "output_type": "execute_result",
          "data": {
            "text/plain": [
              "(4, 0, 7, 6)"
            ]
          },
          "metadata": {},
          "execution_count": 2
        }
      ]
    },
    {
      "cell_type": "markdown",
      "source": [
        "##189. [Rotate Array](https://leetcode.com/problems/rotate-array/description/)\n",
        "\n",
        "\n",
        "\n",
        "### Time and Space Complexity\n",
        "Time Complexity: O(nk), where n is the number of elements in nums and k is the number of rotation steps. This is because the pop() operation is O(1), but the insert() operation is O(n) as it requires shifting elements. Since this is done k times, the overall time complexity is O(nk).\n",
        "### Space Complexity: O(1).\n",
        "The space complexity is constant as the operation modifies the array in place and does not require any additional significant space."
      ],
      "metadata": {
        "id": "E1WNVWVeqlOV"
      }
    },
    {
      "cell_type": "code",
      "source": [
        "class Solution:\n",
        "    def rotate(self, nums, k):\n",
        "        \"\"\"\n",
        "        Do not return anything, modify nums in-place instead.\n",
        "        \"\"\"\n",
        "        k %= len(nums)\n",
        "        for i in range(k):\n",
        "            a = nums.pop()\n",
        "            nums.insert(0, a)\n",
        "\n",
        "# Test cases\n",
        "solution = Solution()\n",
        "\n",
        "# Test case 1\n",
        "nums1 = [1, 2, 3, 4, 5, 6, 7]\n",
        "k1 = 3\n",
        "solution.rotate(nums1, k1)\n",
        "\n",
        "# Test case 2\n",
        "nums2 = [1, 2, 3, 4, 5]\n",
        "k2 = 2\n",
        "solution.rotate(nums2, k2)\n",
        "\n",
        "# Test case 3\n",
        "nums3 = [1]\n",
        "k3 = 1\n",
        "solution.rotate(nums3, k3)\n",
        "\n",
        "nums1, nums2, nums3\n"
      ],
      "metadata": {
        "colab": {
          "base_uri": "https://localhost:8080/"
        },
        "id": "2MbGnN_J6u5c",
        "outputId": "dfa4e5e3-9cfb-40a7-f775-eee090b52555"
      },
      "execution_count": 16,
      "outputs": [
        {
          "output_type": "execute_result",
          "data": {
            "text/plain": [
              "([5, 6, 7, 1, 2, 3, 4], [4, 5, 1, 2, 3], [1])"
            ]
          },
          "metadata": {},
          "execution_count": 16
        }
      ]
    },
    {
      "cell_type": "code",
      "source": [],
      "metadata": {
        "id": "KSrUWwzR8Czc"
      },
      "execution_count": null,
      "outputs": []
    },
    {
      "cell_type": "markdown",
      "source": [
        "\n",
        "[217. Contains Duplicate](https://leetcode.com/problems/contains-duplicate/description/)\n",
        "\n",
        "Conceptual Logic\n",
        "\n",
        "The method converts nums into a set, which removes duplicates, and compares its length with the original list. If lengths differ, there are duplicates.\n",
        "\n",
        "Time and Space Complexity\n",
        "\n",
        "Time Complexity: O(n) - Converting a list to a set requires iterating over all elements.\n",
        "Space Complexity: O(n) - Storing the elements of nums in a set requires space proportional to the number of unique elements."
      ],
      "metadata": {
        "id": "N9pGZlFc9DFg"
      }
    },
    {
      "cell_type": "code",
      "source": [
        "class Solution:\n",
        "    def containsDuplicate(self, nums):\n",
        "        return len(set(nums)) != len(nums)\n",
        "\n",
        "# Test cases\n",
        "solution = Solution()\n",
        "\n",
        "# Test case 1: No duplicates\n",
        "nums1 = [1, 2, 3, 4]\n",
        "result1 = solution.containsDuplicate(nums1)\n",
        "\n",
        "# Test case 2: Contains duplicates\n",
        "nums2 = [1, 2, 2, 3, 4]\n",
        "result2 = solution.containsDuplicate(nums2)\n",
        "\n",
        "# Test case 3: Empty list\n",
        "nums3 = []\n",
        "result3 = solution.containsDuplicate(nums3)\n",
        "\n",
        "result1, result2, result3\n"
      ],
      "metadata": {
        "colab": {
          "base_uri": "https://localhost:8080/"
        },
        "id": "r_bhN7GP9DXI",
        "outputId": "35f48d9d-8781-4b76-af5c-ea915653539a"
      },
      "execution_count": 17,
      "outputs": [
        {
          "output_type": "execute_result",
          "data": {
            "text/plain": [
              "(False, True, False)"
            ]
          },
          "metadata": {},
          "execution_count": 17
        }
      ]
    },
    {
      "cell_type": "markdown",
      "source": [
        "Understood, let's proceed with the complete response for \"Prompt 2\" using the \"Single Number\" problem from LeetCode as an example.\n",
        "\n",
        "### Text Cell:\n",
        "\n",
        "## 136. [Single Number](https://leetcode.com/problems/single-number/description/)\n",
        "\n",
        "### Conceptual Logic\n",
        "This method identifies the unique number in a list where every other number appears exactly twice. It uses a hash table to count the occurrences of each number and then finds the number that appears exactly once.\n",
        "\n",
        "### Time and Space Complexity\n",
        "- **Time Complexity**: O(n), where n is the number of elements in `nums`. The code iterates through all elements in `nums` once to populate the hashtable and then potentially iterates through all keys in the hashtable.\n",
        "- **Space Complexity**: O(n). The space complexity is O(n) as the hashtable may, in the worst case, contain an entry for every unique element in `nums`.\n",
        "\n"
      ],
      "metadata": {
        "id": "9gCSrPBO_BuH"
      }
    },
    {
      "cell_type": "code",
      "source": [
        "\n",
        "from collections import defaultdict\n",
        "\n",
        "class Solution:\n",
        "    def singleNumber(self, nums):\n",
        "        hashtable = defaultdict(int)\n",
        "        for i in nums:\n",
        "            hashtable[i] += 1\n",
        "\n",
        "        for i in hashtable:\n",
        "            if hashtable[i] == 1:\n",
        "                return i\n",
        "\n",
        "# Test cases\n",
        "solution = Solution()\n",
        "\n",
        "# Test case 1\n",
        "nums1 = [2, 2, 1]\n",
        "result1 = solution.singleNumber(nums1)\n",
        "\n",
        "# Test case 2\n",
        "nums2 = [4, 1, 2, 1, 2]\n",
        "result2 = solution.singleNumber(nums2)\n",
        "\n",
        "# Test case 3\n",
        "nums3 = [1]\n",
        "result3 = solution.singleNumber(nums3)\n",
        "\n",
        "result1, result2, result3\n"
      ],
      "metadata": {
        "colab": {
          "base_uri": "https://localhost:8080/"
        },
        "id": "UnfX_z04-Duw",
        "outputId": "38c66193-d5e1-49af-cd89-e54da2d20dba"
      },
      "execution_count": 18,
      "outputs": [
        {
          "output_type": "execute_result",
          "data": {
            "text/plain": [
              "(1, 4, 1)"
            ]
          },
          "metadata": {},
          "execution_count": 18
        }
      ]
    },
    {
      "cell_type": "markdown",
      "source": [
        "## 350. [Intersection of Two Arrays II](https://leetcode.com/problems/intersection-of-two-arrays-ii/description/)\n",
        "\n",
        "### Conceptual Logic\n",
        "This method finds the intersection of two arrays, where each element in the result appears as many times as it shows in both arrays. It iterates through `nums1` and, for each element also found in `nums2`, removes it from `nums2` and adds it to the solution.\n",
        "\n",
        "### Time and Space Complexity\n",
        "- **Time Complexity**: O(n*m), where n is the length of `nums1` and m is the length of `nums2`. The complexity arises because for each element in `nums1`, the code checks for its presence and removes it in `nums2`, which is an O(m) operation.\n",
        "- **Space Complexity**: O(min(n, m)). The space complexity is proportional to the size of the smaller array since, in the worst case, the intersection array `solution` could contain every element from the smaller array.\n"
      ],
      "metadata": {
        "id": "DBSGF-ro--yl"
      }
    },
    {
      "cell_type": "code",
      "source": [
        "\n",
        "class Solution:\n",
        "    def intersect(self, nums1, nums2):\n",
        "        solution = []\n",
        "        for i in nums1:\n",
        "            if i in nums2:\n",
        "                nums2.remove(i)\n",
        "                solution.append(i)\n",
        "        return solution\n",
        "\n",
        "# Test cases\n",
        "solution = Solution()\n",
        "\n",
        "# Test case 1\n",
        "nums1_1 = [1, 2, 2, 1]\n",
        "nums2_1 = [2, 2]\n",
        "result1 = solution.intersect(nums1_1, nums2_1)\n",
        "\n",
        "# Test case 2\n",
        "nums1_2 = [4, 9, 5]\n",
        "nums2_2 = [9, 4, 9, 8, 4]\n",
        "result2 = solution.intersect(nums1_2, nums2_2)\n",
        "\n",
        "# Test case 3\n",
        "nums1_3 = [1, 2]\n",
        "nums2_3 = [1, 1]\n",
        "result3 = solution.intersect(nums1_3, nums2_3)\n",
        "\n",
        "result1, result2, result3\n"
      ],
      "metadata": {
        "colab": {
          "base_uri": "https://localhost:8080/"
        },
        "id": "VCzhCWUh_xBq",
        "outputId": "544e06d7-192c-4b45-afb0-0f076bf51a57"
      },
      "execution_count": 19,
      "outputs": [
        {
          "output_type": "execute_result",
          "data": {
            "text/plain": [
              "([2, 2], [4, 9], [1])"
            ]
          },
          "metadata": {},
          "execution_count": 19
        }
      ]
    },
    {
      "cell_type": "code",
      "source": [],
      "metadata": {
        "id": "CMwvD17a_yuC"
      },
      "execution_count": null,
      "outputs": []
    },
    {
      "cell_type": "markdown",
      "source": [
        "## 66. [Plus One](https://leetcode.com/problems/plus-one/)\n",
        "\n",
        "### Conceptual Logic\n",
        "This method converts a list of digits representing a number into an integer, increments it by one, and then converts it back into a list of digits. It's used to simulate adding one to a number represented in array form.\n",
        "\n",
        "### Time and Space Complexity\n",
        "- **Time Complexity**: O(n), where n is the number of digits. The complexity comes from joining the digits into a string and then converting the string back to a list of digits.\n",
        "- **Space Complexity**: O(n). The space needed is proportional to the number of digits in the incremented number, which in the worst case can be one digit longer than the input (e.g., 999 + 1 = 1000).\n"
      ],
      "metadata": {
        "id": "Ug6yOCfQAQ3_"
      }
    },
    {
      "cell_type": "code",
      "source": [
        "\n",
        "class Solution:\n",
        "    def plusOne(self, digits):\n",
        "        # Convert the list of digits into an integer, add one, and convert back to a list\n",
        "        number = int(\"\".join(str(i) for i in digits)) + 1\n",
        "        return [int(digit) for digit in str(number)]\n",
        "\n",
        "# Test cases\n",
        "solution = Solution()\n",
        "\n",
        "# Test case 1\n",
        "digits1 = [1, 2, 3]\n",
        "result1 = solution.plusOne(digits1)\n",
        "\n",
        "# Test case 2\n",
        "digits2 = [4, 3, 2, 1]\n",
        "result2 = solution.plusOne(digits2)\n",
        "\n",
        "# Test case 3\n",
        "digits3 = [9, 9, 9]\n",
        "result3 = solution.plusOne(digits3)\n",
        "\n",
        "result1, result2, result3\n"
      ],
      "metadata": {
        "colab": {
          "base_uri": "https://localhost:8080/"
        },
        "id": "Bd57goFsASh3",
        "outputId": "a03563c4-455d-488d-8da6-4927b5afdca7"
      },
      "execution_count": 20,
      "outputs": [
        {
          "output_type": "execute_result",
          "data": {
            "text/plain": [
              "([1, 2, 4], [4, 3, 2, 2], [1, 0, 0, 0])"
            ]
          },
          "metadata": {},
          "execution_count": 20
        }
      ]
    },
    {
      "cell_type": "code",
      "source": [],
      "metadata": {
        "id": "qcocn5N2AVTU"
      },
      "execution_count": null,
      "outputs": []
    },
    {
      "cell_type": "markdown",
      "source": [
        "## 283. [Move Zeroes](https://leetcode.com/problems/move-zeroes/description/)\n",
        "\n",
        "### Conceptual Logic\n",
        "This method moves all zeros in an array to the end while maintaining the order of non-zero elements. It counts zeros, removes them, and then appends the same number of zeros to the end.\n",
        "\n",
        "### Time and Space Complexity\n",
        "- **Time Complexity**: O(n), where n is the length of `nums`. The code iterates through the array once to remove zeros and then appends zeros at the end.\n",
        "- **Space Complexity**: O(1). The operation is done in place with no need for additional space, apart from temporary variables.\n"
      ],
      "metadata": {
        "id": "CfvBipr3AyYN"
      }
    },
    {
      "cell_type": "code",
      "source": [
        "\n",
        "class Solution:\n",
        "    def moveZeroes(self, nums):\n",
        "        count = 0\n",
        "        # Iterate in reverse to avoid index out of range errors after deletion\n",
        "        for i in range(len(nums)-1, -1, -1):\n",
        "            if nums[i] == 0:\n",
        "                del nums[i]\n",
        "                count += 1\n",
        "        nums.extend([0] * count)\n",
        "\n",
        "# Test cases\n",
        "solution = Solution()\n",
        "\n",
        "# Test case 1\n",
        "nums1 = [0, 1, 0, 3, 12]\n",
        "solution.moveZeroes(nums1)\n",
        "\n",
        "# Test case 2\n",
        "nums2 = [0, 0, 1]\n",
        "solution.moveZeroes(nums2)\n",
        "\n",
        "# Test case 3\n",
        "nums3 = [4, 2, 4, 0, 0, 3, 0, 5, 1, 0]\n",
        "solution.moveZeroes(nums3)\n",
        "\n",
        "nums1, nums2, nums3\n"
      ],
      "metadata": {
        "colab": {
          "base_uri": "https://localhost:8080/"
        },
        "id": "DRshVb4DA1yw",
        "outputId": "0ec1b36b-54af-4af9-8a39-bd0ffa0c0626"
      },
      "execution_count": 21,
      "outputs": [
        {
          "output_type": "execute_result",
          "data": {
            "text/plain": [
              "([1, 3, 12, 0, 0], [1, 0, 0], [4, 2, 4, 3, 5, 1, 0, 0, 0, 0])"
            ]
          },
          "metadata": {},
          "execution_count": 21
        }
      ]
    },
    {
      "cell_type": "markdown",
      "source": [
        "## 1. [Two Sum](https://leetcode.com/problems/two-sum/description/)\n",
        "\n",
        "### Conceptual Logic\n",
        "This method finds two numbers in the array that add up to a specific target. It uses a hash table to store and quickly access previous numbers and their indices, checking if the complement of each number (target - number) is already in the table.\n",
        "\n",
        "### Time and Space Complexity\n",
        "- **Time Complexity**: O(n), where n is the number of elements in `nums`. Each element is processed exactly once.\n",
        "- **Space Complexity**: O(n). The hash table can potentially store one entry for every element in `nums`.\n",
        "\n",
        "### Code Cell:\n"
      ],
      "metadata": {
        "id": "MaAWwXoMAw9M"
      }
    },
    {
      "cell_type": "code",
      "source": [
        "\n",
        "class Solution:\n",
        "    def twoSum(self, nums, target):\n",
        "        hash_table = {}\n",
        "        for index, value in enumerate(nums):\n",
        "            complement = target - value\n",
        "            if complement in hash_table:\n",
        "                return [index, hash_table[complement]]\n",
        "            else:\n",
        "                hash_table[value] = index\n",
        "\n",
        "# Test cases\n",
        "solution = Solution()\n",
        "\n",
        "# Test case 1\n",
        "nums1 = [2, 7, 11, 15]\n",
        "target1 = 9\n",
        "result1 = solution.twoSum(nums1, target1)\n",
        "\n",
        "# Test case 2\n",
        "nums2 = [3, 2, 4]\n",
        "target2 = 6\n",
        "result2 = solution.twoSum(nums2, target2)\n",
        "\n",
        "# Test case 3\n",
        "nums3 = [3, 3]\n",
        "target3 = 6\n",
        "result3 = solution.twoSum(nums3, target3)\n",
        "\n",
        "result1, result2, result3\n"
      ],
      "metadata": {
        "colab": {
          "base_uri": "https://localhost:8080/"
        },
        "id": "mKGzc2FXBL02",
        "outputId": "f3ed0204-95f5-4226-a51e-1fb36953b595"
      },
      "execution_count": 22,
      "outputs": [
        {
          "output_type": "execute_result",
          "data": {
            "text/plain": [
              "([1, 0], [2, 1], [1, 0])"
            ]
          },
          "metadata": {},
          "execution_count": 22
        }
      ]
    },
    {
      "cell_type": "markdown",
      "source": [
        "## 36. [Valid Sudoku](https://leetcode.com/problems/valid-sudoku/description/)\n",
        "\n",
        "### Conceptual Logic\n",
        "This method checks if a 9x9 Sudoku board is valid. It ensures each number appears only once in each row, column, and 3x3 sub-box. It uses hash sets to track the numbers seen in each row, column, and box.\n",
        "\n",
        "### Time and Space Complexity\n",
        "- **Time Complexity**: O(1), since the board size is fixed (9x9), the function always performs the same number of operations.\n",
        "- **Space Complexity**: O(1), as the extra space used is also fixed regardless of the board content, due to the limited size (9x9) and fixed number of rows, columns, and boxes.\n"
      ],
      "metadata": {
        "id": "33tjyeb0BiJh"
      }
    },
    {
      "cell_type": "code",
      "source": [
        "\n",
        "from collections import defaultdict\n",
        "\n",
        "class Solution:\n",
        "    def isValidSudoku(self, board):\n",
        "        rows = defaultdict(set)\n",
        "        columns = defaultdict(set)\n",
        "        boxes = defaultdict(set)\n",
        "\n",
        "        for i in range(9):\n",
        "            for j in range(9):\n",
        "                value = board[i][j]\n",
        "                if value == '.':\n",
        "                    continue\n",
        "                if (value in rows[i] or\n",
        "                    value in columns[j] or\n",
        "                    value in boxes[(i//3, j//3)]):\n",
        "                    return False\n",
        "\n",
        "                rows[i].add(value)\n",
        "                columns[j].add(value)\n",
        "                boxes[(i//3, j//3)].add(value)\n",
        "        return True\n",
        "\n",
        "# Test cases\n",
        "solution = Solution()\n",
        "\n",
        "# Test case 1: Valid Sudoku\n",
        "board1 = [\n",
        "    [\"5\",\"3\",\".\",\".\",\"7\",\".\",\".\",\".\",\".\"],\n",
        "    [\"6\",\".\",\".\",\"1\",\"9\",\"5\",\".\",\".\",\".\"],\n",
        "    [\".\",\"9\",\"8\",\".\",\".\",\".\",\".\",\"6\",\".\"],\n",
        "    [\"8\",\".\",\".\",\".\",\"6\",\".\",\".\",\".\",\"3\"],\n",
        "    [\"4\",\".\",\".\",\"8\",\".\",\"3\",\".\",\".\",\"1\"],\n",
        "    [\"7\",\".\",\".\",\".\",\"2\",\".\",\".\",\".\",\"6\"],\n",
        "    [\".\",\"6\",\".\",\".\",\".\",\".\",\"2\",\"8\",\".\"],\n",
        "    [\".\",\".\",\".\",\"4\",\"1\",\"9\",\".\",\".\",\"5\"],\n",
        "    [\".\",\".\",\".\",\".\",\"8\",\".\",\".\",\"7\",\"9\"]\n",
        "]\n",
        "result1 = solution.isValidSudoku(board1)\n",
        "\n",
        "# Test case 2: Invalid Sudoku (duplicate in a row)\n",
        "board2 = [\n",
        "    [\"8\",\"3\",\".\",\".\",\"7\",\".\",\".\",\".\",\".\"],\n",
        "    [\"6\",\".\",\".\",\"1\",\"9\",\"5\",\".\",\".\",\".\"],\n",
        "    [\".\",\"9\",\"8\",\".\",\".\",\".\",\".\",\"6\",\".\"],\n",
        "    [\"8\",\".\",\".\",\".\",\"6\",\".\",\".\",\".\",\"3\"],\n",
        "    [\"4\",\".\",\".\",\"8\",\".\",\"3\",\".\",\".\",\"1\"],\n",
        "    [\"7\",\".\",\".\",\".\",\"2\",\".\",\".\",\".\",\"6\"],\n",
        "    [\".\",\"6\",\".\",\".\",\".\",\".\",\"2\",\"8\",\".\"],\n",
        "    [\".\",\".\",\".\",\"4\",\"1\",\"9\",\".\",\".\",\"5\"],\n",
        "    [\".\",\".\",\".\",\".\",\"8\",\".\",\".\",\"7\",\"9\"]\n",
        "]\n",
        "result2 = solution.isValidSudoku(board2)\n",
        "\n",
        "result1, result2\n"
      ],
      "metadata": {
        "colab": {
          "base_uri": "https://localhost:8080/"
        },
        "id": "AZG79dchBNgj",
        "outputId": "0f35aead-c963-4f46-f9fa-c8dbff6fc0d8"
      },
      "execution_count": 23,
      "outputs": [
        {
          "output_type": "execute_result",
          "data": {
            "text/plain": [
              "(True, False)"
            ]
          },
          "metadata": {},
          "execution_count": 23
        }
      ]
    },
    {
      "cell_type": "markdown",
      "source": [
        "## 48. [Rotate Image](https://leetcode.com/problems/rotate-image/description/)\n",
        "\n",
        "### Conceptual Logic\n",
        "This method rotates a given matrix (image) by 90 degrees clockwise in place. It first transposes the matrix (swaps rows and columns) and then reverses each row, resulting in a rotated image.\n",
        "\n",
        "### Time and Space Complexity\n",
        "- **Time Complexity**: O(n^2), where n is the number of rows (or columns) in the matrix. The code iterates over each element for transposition and then over each row for reversal.\n",
        "- **Space Complexity**: O(1). The operation is done in place, using constant extra space.\n"
      ],
      "metadata": {
        "id": "CauQi-o0BtgQ"
      }
    },
    {
      "cell_type": "code",
      "source": [
        "\n",
        "class Solution:\n",
        "    def rotate(self, matrix):\n",
        "        # Transpose the matrix\n",
        "        for i in range(len(matrix)):\n",
        "            for j in range(i + 1, len(matrix)):\n",
        "                matrix[i][j], matrix[j][i] = matrix[j][i], matrix[i][j]\n",
        "\n",
        "        # Reverse each row\n",
        "        for i in range(len(matrix)):\n",
        "            matrix[i] = matrix[i][::-1]\n",
        "\n",
        "# Test cases\n",
        "solution = Solution()\n",
        "\n",
        "# Test case 1\n",
        "matrix1 = [\n",
        "    [1, 2, 3],\n",
        "    [4, 5, 6],\n",
        "    [7, 8, 9]\n",
        "]\n",
        "solution.rotate(matrix1)\n",
        "\n",
        "# Test case 2\n",
        "matrix2 = [\n",
        "    [5, 1, 9, 11],\n",
        "    [2, 4, 8, 10],\n",
        "    [13, 3, 6, 7],\n",
        "    [15, 14, 12, 16]\n",
        "]\n",
        "solution.rotate(matrix2)\n",
        "\n",
        "matrix1, matrix2\n"
      ],
      "metadata": {
        "colab": {
          "base_uri": "https://localhost:8080/"
        },
        "id": "zP3hKMkpBqoe",
        "outputId": "50458733-4e75-44de-c51f-7db270b5817c"
      },
      "execution_count": 24,
      "outputs": [
        {
          "output_type": "execute_result",
          "data": {
            "text/plain": [
              "([[7, 4, 1], [8, 5, 2], [9, 6, 3]],\n",
              " [[15, 13, 2, 5], [14, 3, 4, 1], [12, 6, 8, 9], [16, 7, 10, 11]])"
            ]
          },
          "metadata": {},
          "execution_count": 24
        }
      ]
    },
    {
      "cell_type": "markdown",
      "source": [],
      "metadata": {
        "id": "AUb0GbSNBs1j"
      }
    }
  ]
}
