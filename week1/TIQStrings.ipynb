{
  "nbformat": 4,
  "nbformat_minor": 0,
  "metadata": {
    "colab": {
      "provenance": [],
      "authorship_tag": "ABX9TyPmG/fiFuX2mrOGuyPtHosw",
      "include_colab_link": true
    },
    "kernelspec": {
      "name": "python3",
      "display_name": "Python 3"
    },
    "language_info": {
      "name": "python"
    }
  },
  "cells": [
    {
      "cell_type": "markdown",
      "metadata": {
        "id": "view-in-github",
        "colab_type": "text"
      },
      "source": [
        "<a href=\"https://colab.research.google.com/github/Saipraneeth99/Leetcode/blob/main/week1/TIQStrings.ipynb\" target=\"_parent\"><img src=\"https://colab.research.google.com/assets/colab-badge.svg\" alt=\"Open In Colab\"/></a>"
      ]
    },
    {
      "cell_type": "markdown",
      "source": [
        "## 344. [Reverse String](https://leetcode.com/problems/reverse-string/description/)\n",
        "\n",
        "### Conceptual Logic\n",
        "This method reverses a string in place. It uses two pointers, one starting from the beginning and the other from the end of the string, and swaps characters until they meet in the middle.\n",
        "\n",
        "### Time and Space Complexity\n",
        "- **Time Complexity**: O(n), where n is the length of the string `s`. Each character is swapped only once.\n",
        "- **Space Complexity**: O(1). The reversal is done in place, using constant extra space.\n"
      ],
      "metadata": {
        "id": "ZyEXxWkP92VI"
      }
    },
    {
      "cell_type": "code",
      "source": [
        "\n",
        "class Solution:\n",
        "    def reverseString(self, s):\n",
        "        left, right = 0, len(s) - 1\n",
        "        while left <= right:\n",
        "            s[left], s[right] = s[right], s[left]\n",
        "            left += 1\n",
        "            right -= 1\n",
        "\n",
        "# Test cases\n",
        "solution = Solution()\n",
        "\n",
        "# Test case 1\n",
        "s1 = [\"h\", \"e\", \"l\", \"l\", \"o\"]\n",
        "solution.reverseString(s1)\n",
        "\n",
        "# Test case 2\n",
        "s2 = [\"H\", \"a\", \"n\", \"n\", \"a\", \"h\"]\n",
        "solution.reverseString(s2)\n",
        "\n",
        "s1, s2\n"
      ],
      "metadata": {
        "id": "Qyy-vXBNJtgN",
        "colab": {
          "base_uri": "https://localhost:8080/"
        },
        "outputId": "17d83719-717f-42e0-b22c-42792f27558c"
      },
      "execution_count": 4,
      "outputs": [
        {
          "output_type": "execute_result",
          "data": {
            "text/plain": [
              "(['o', 'l', 'l', 'e', 'h'], ['h', 'a', 'n', 'n', 'a', 'H'])"
            ]
          },
          "metadata": {},
          "execution_count": 4
        }
      ]
    },
    {
      "cell_type": "markdown",
      "source": [
        "## 8. [String to Integer (atoi)](https://leetcode.com/problems/string-to-integer-atoi/description/)\n",
        "\n",
        "### Conceptual Logic\n",
        "This method converts a string to an integer, following the rules of the C/C++ 'atoi' function. It handles optional leading white spaces, an optional sign, and integer overflow/underflow.\n",
        "\n",
        "### Time and Space Complexity\n",
        "- **Time Complexity**: O(n), where n is the length of the string `s`. The method iterates through the string once.\n",
        "- **Space Complexity**: O(1). The conversion uses a fixed amount of space, independent of the input size.\n"
      ],
      "metadata": {
        "id": "91HxSN8599gF"
      }
    },
    {
      "cell_type": "code",
      "source": [
        "\n",
        "class Solution:\n",
        "    def myAtoi(self, s):\n",
        "        a, index, sign = 0, 0, 1\n",
        "        s = s.lstrip()  # remove leading whitespace\n",
        "\n",
        "        # Check for sign\n",
        "        if index < len(s) and s[index] in ('+', '-'):\n",
        "            sign = -1 if s[index] == '-' else 1\n",
        "            index += 1\n",
        "\n",
        "        # Convert characters to integer\n",
        "        while index < len(s) and s[index].isdigit():\n",
        "            digit = int(s[index])\n",
        "            a = a * 10 + digit\n",
        "            index += 1\n",
        "\n",
        "        # Handle integer overflow/underflow\n",
        "        INT_MAX, INT_MIN = 2**31 - 1, -2**31\n",
        "        if sign == 1:\n",
        "            return min(a, INT_MAX)\n",
        "        else:\n",
        "            return max(sign * a, INT_MIN)\n",
        "\n",
        "# Test cases\n",
        "solution = Solution()\n",
        "\n",
        "# Test case 1\n",
        "s1 = \"42\"\n",
        "result1 = solution.myAtoi(s1)\n",
        "\n",
        "# Test case 2\n",
        "s2 = \"   -42\"\n",
        "result2 = solution.myAtoi(s2)\n",
        "\n",
        "# Test case 3\n",
        "s3 = \"4193 with words\"\n",
        "result3 = solution.myAtoi(s3)\n",
        "\n",
        "result1, result2, result3\n"
      ],
      "metadata": {
        "colab": {
          "base_uri": "https://localhost:8080/"
        },
        "id": "vM_9MMJ3J4bS",
        "outputId": "ab1a75c6-f907-47fd-8c3c-d50d2f4f2dda"
      },
      "execution_count": 5,
      "outputs": [
        {
          "output_type": "execute_result",
          "data": {
            "text/plain": [
              "(42, -42, 4193)"
            ]
          },
          "metadata": {},
          "execution_count": 5
        }
      ]
    },
    {
      "cell_type": "markdown",
      "source": [
        "## 28. [Find the Index of the First Occurrence in a String](https://leetcode.com/problems/find-the-index-of-the-first-occurrence-in-a-string/description/)\n",
        "\n",
        "### Conceptual Logic\n",
        "This method searches for the first occurrence of `needle` in `haystack` and returns its index. If `needle` is not in `haystack`, it returns -1. It iterates over `haystack` and checks substrings of the same length as `needle`.\n",
        "\n",
        "### Time and Space Complexity\n",
        "- **Time Complexity**: O(n*m), where n is the length of `haystack` and m is the length of `needle`. In the worst case, each substring of `haystack` of length `m` is compared with `needle`.\n",
        "- **Space Complexity**: O(1). The search is performed in place without using extra space for storage.\n"
      ],
      "metadata": {
        "id": "LtvUoypX-EYu"
      }
    },
    {
      "cell_type": "code",
      "source": [
        "\n",
        "class Solution:\n",
        "    def strStr(self, haystack, needle):\n",
        "        for i in range(len(haystack) - len(needle) + 1):\n",
        "            if haystack[i:i+len(needle)] == needle:\n",
        "                return i\n",
        "        return -1\n",
        "\n",
        "# Test cases\n",
        "solution = Solution()\n",
        "\n",
        "# Test case 1\n",
        "haystack1 = \"hello\"\n",
        "needle1 = \"ll\"\n",
        "result1 = solution.strStr(haystack1, needle1)\n",
        "\n",
        "# Test case 2\n",
        "haystack2 = \"aaaaa\"\n",
        "needle2 = \"bba\"\n",
        "result2 = solution.strStr(haystack2, needle2)\n",
        "\n",
        "# Test case 3\n",
        "haystack3 = \"\"\n",
        "needle3 = \"\"\n",
        "result3 = solution.strStr(haystack3, needle3)\n",
        "\n",
        "result1, result2, result3\n"
      ],
      "metadata": {
        "id": "iLEItu-mKEEU",
        "colab": {
          "base_uri": "https://localhost:8080/"
        },
        "outputId": "3ac84620-7890-4125-8d78-eabf0a3ebf77"
      },
      "execution_count": 6,
      "outputs": [
        {
          "output_type": "execute_result",
          "data": {
            "text/plain": [
              "(2, -1, 0)"
            ]
          },
          "metadata": {},
          "execution_count": 6
        }
      ]
    },
    {
      "cell_type": "code",
      "source": [],
      "metadata": {
        "id": "76A5NsNb3KEc"
      },
      "execution_count": null,
      "outputs": []
    },
    {
      "cell_type": "markdown",
      "source": [
        "## 14. [Longest Common Prefix](https://leetcode.com/problems/longest-common-prefix/description/)\n",
        "\n",
        "### Conceptual Logic\n",
        "This method finds the longest common prefix among a list of strings. It iteratively shortens a potential prefix until it's a prefix of all strings or becomes empty.\n",
        "\n",
        "### Time and Space Complexity\n",
        "- **Time Complexity**: O(S), where S is the sum of all characters in all strings. In the worst case, all comparisons will be made.\n",
        "- **Space Complexity**: O(1). The space used is constant as it only involves a single prefix string variable.\n"
      ],
      "metadata": {
        "id": "wUHdly6x_btM"
      }
    },
    {
      "cell_type": "code",
      "source": [
        "\n",
        "class Solution:\n",
        "    def longestCommonPrefix(self, strs):\n",
        "        if not strs:\n",
        "            return \"\"\n",
        "\n",
        "        prefix = strs[0]\n",
        "        for s in strs[1:]:\n",
        "            while not s.startswith(prefix):\n",
        "                prefix = prefix[:-1]\n",
        "                if not prefix:\n",
        "                    return \"\"\n",
        "        return prefix\n",
        "\n",
        "# Test cases\n",
        "solution = Solution()\n",
        "\n",
        "# Test case 1\n",
        "strs1 = [\"flower\", \"flow\", \"flight\"]\n",
        "result1 = solution.longestCommonPrefix(strs1)\n",
        "\n",
        "# Test case 2\n",
        "strs2 = [\"dog\", \"racecar\", \"car\"]\n",
        "result2 = solution.longestCommonPrefix(strs2)\n",
        "\n",
        "# Test case 3\n",
        "strs3 = [\"interspecies\", \"interstellar\", \"interstate\"]\n",
        "result3 = solution.longestCommonPrefix(strs3)\n",
        "\n",
        "result1, result2, result3\n"
      ],
      "metadata": {
        "colab": {
          "base_uri": "https://localhost:8080/"
        },
        "id": "YdJBWLoe_dLv",
        "outputId": "0a7a93b9-1aa6-4556-b99f-7602df083ace"
      },
      "execution_count": 7,
      "outputs": [
        {
          "output_type": "execute_result",
          "data": {
            "text/plain": [
              "('fl', '', 'inters')"
            ]
          },
          "metadata": {},
          "execution_count": 7
        }
      ]
    },
    {
      "cell_type": "markdown",
      "source": [
        "## 7. [Reverse Integer](https://leetcode.com/problems/reverse-integer/)\n",
        "\n",
        "### Conceptual Logic\n",
        "This method reverses an integer, handling positive and negative numbers, and returns 0 if the reversed integer overflows 32-bit signed integer range.\n",
        "\n",
        "### Time and Space Complexity\n",
        "- **Time Complexity**: O(n), where n is the number of digits in `x`. The time complexity is linear with respect to the number of digits in the integer.\n",
        "- **Space Complexity**: O(1). The space used is constant as the operation involves only a few integer and string variables.\n"
      ],
      "metadata": {
        "id": "hH2HJUal_fVK"
      }
    },
    {
      "cell_type": "code",
      "source": [
        "\n",
        "class Solution:\n",
        "    def reverse(self, x):\n",
        "        # Check sign and make x positive\n",
        "        flag = 1 if x >= 0 else -1\n",
        "        x = abs(x)\n",
        "\n",
        "        # Reverse the integer\n",
        "        b = int(str(x)[::-1]) * flag\n",
        "\n",
        "        # Check for 32-bit integer overflow\n",
        "        if b > (2**31 - 1) or b < -(2**31):\n",
        "            return 0\n",
        "        return b\n",
        "\n",
        "# Test cases\n",
        "solution = Solution()\n",
        "\n",
        "# Test case 1\n",
        "x1 = 123\n",
        "result1 = solution.reverse(x1)\n",
        "\n",
        "# Test case 2\n",
        "x2 = -123\n",
        "result2 = solution.reverse(x2)\n",
        "\n",
        "# Test case 3\n",
        "x3 = 120\n",
        "result3 = solution.reverse(x3)\n",
        "\n",
        "result1, result2, result3\n"
      ],
      "metadata": {
        "colab": {
          "base_uri": "https://localhost:8080/"
        },
        "id": "Vdtog6ld_vu3",
        "outputId": "cdee556c-7611-4f69-a51d-e2b79d309a95"
      },
      "execution_count": 8,
      "outputs": [
        {
          "output_type": "execute_result",
          "data": {
            "text/plain": [
              "(321, -321, 21)"
            ]
          },
          "metadata": {},
          "execution_count": 8
        }
      ]
    },
    {
      "cell_type": "markdown",
      "source": [
        "## 387. [First Unique Character in a String](https://leetcode.com/problems/first-unique-character-in-a-string/description/)\n",
        "\n",
        "### Conceptual Logic\n",
        "This method finds the first non-repeating character in a string and returns its index. It utilizes `Counter` from the `collections` module to count occurrences of each character and then iterates through the string to find the first unique character.\n",
        "\n",
        "### Time and Space Complexity\n",
        "- **Time Complexity**: O(n), where n is the length of the string `s`. The method iterates through the string twice - once to build the counter and once to find the unique character.\n",
        "- **Space Complexity**: O(1). The space used by the counter is limited to the number of distinct characters, which is constant (at most 26 for English alphabet) and does not grow with the size of the input string.\n"
      ],
      "metadata": {
        "id": "Jeho6GL5_lFP"
      }
    },
    {
      "cell_type": "code",
      "source": [
        "\n",
        "import collections\n",
        "\n",
        "class Solution:\n",
        "    def firstUniqChar(self, s):\n",
        "        count = collections.Counter(s)\n",
        "\n",
        "        for index, value in enumerate(s):\n",
        "            if count[value] == 1:\n",
        "                return index\n",
        "        return -1\n",
        "\n",
        "# Test cases\n",
        "solution = Solution()\n",
        "\n",
        "# Test case 1\n",
        "s1 = \"leetcode\"\n",
        "result1 = solution.firstUniqChar(s1)\n",
        "\n",
        "# Test case 2\n",
        "s2 = \"loveleetcode\"\n",
        "result2 = solution.firstUniqChar(s2)\n",
        "\n",
        "# Test case 3\n",
        "s3 = \"aabb\"\n",
        "result3 = solution.firstUniqChar(s3)\n",
        "\n",
        "result1, result2, result3\n"
      ],
      "metadata": {
        "colab": {
          "base_uri": "https://localhost:8080/"
        },
        "id": "pzmelZlL_zJo",
        "outputId": "77cecf65-4c77-4bdc-9235-c20e3febe990"
      },
      "execution_count": 9,
      "outputs": [
        {
          "output_type": "execute_result",
          "data": {
            "text/plain": [
              "(0, 2, -1)"
            ]
          },
          "metadata": {},
          "execution_count": 9
        }
      ]
    },
    {
      "cell_type": "markdown",
      "source": [],
      "metadata": {
        "id": "aneeXDuW_l3A"
      }
    },
    {
      "cell_type": "markdown",
      "source": [
        "## 242. [Valid Anagram](https://leetcode.com/problems/valid-anagram/description/)\n",
        "\n",
        "### Conceptual Logic\n",
        "This method checks if two strings are anagrams of each other. Anagrams have the same number of each character, so it compares the count of each character in both strings after confirming they are of equal length.\n",
        "\n",
        "### Time and Space Complexity\n",
        "- **Time Complexity**: O(n*m), where n is the length of string `s` and m is the number of unique characters in `s`. This is because `count()` iterates over the entire string for each unique character.\n",
        "- **Space Complexity**: O(1). The space used is constant as it involves only comparisons and does not depend on the size of the input strings.\n"
      ],
      "metadata": {
        "id": "NEDl0BbS_on2"
      }
    },
    {
      "cell_type": "markdown",
      "source": [
        "## 125. [Valid Palindrome](https://leetcode.com/problems/valid-palindrome/description/)\n",
        "\n",
        "### Conceptual Logic\n",
        "This method checks if a string is a palindrome, considering only alphanumeric characters and ignoring cases. It cleans the string by removing non-alphanumeric characters and then compares the cleaned string with its reverse.\n",
        "\n",
        "### Time and Space Complexity\n",
        "- **Time Complexity**: O(n), where n is the length of the string `s`. The method involves cleaning the string and then comparing it to its reverse.\n",
        "- **Space Complexity**: O(n). A new string `cleanedString` is created, which in the worst case can be as long as the original string `s`.\n",
        "\n",
        "### Code Cell:\n",
        "\n",
        "```python\n",
        "import re\n",
        "\n",
        "class Solution:\n",
        "    def isPalindrome(self, s):\n",
        "        # Clean the string and check if it's equal to its reverse\n",
        "        cleanedString = re.sub(r\"[^a-zA-Z0-9]\", \"\", s.lower())\n",
        "        return cleanedString == cleanedString[::-1]\n",
        "\n",
        "# Test cases\n",
        "solution = Solution()\n",
        "\n",
        "# Test case 1\n",
        "s1 = \"A man, a plan, a canal: Panama\"\n",
        "result1 = solution.isPalindrome(s1)\n",
        "\n",
        "# Test case 2\n",
        "s2 = \"race a car\"\n",
        "result2 = solution.isPalindrome(s2)\n",
        "\n",
        "result1, result2\n",
        "```"
      ],
      "metadata": {
        "id": "n4p_YfEr_ppH"
      }
    },
    {
      "cell_type": "code",
      "source": [
        "\n",
        "class Solution:\n",
        "    def isAnagram(self, s, t):\n",
        "        # Check if lengths are different\n",
        "        if len(s) != len(t):\n",
        "            return False\n",
        "\n",
        "        # Compare character counts\n",
        "        for i in set(s):\n",
        "            if s.count(i) != t.count(i):\n",
        "                return False\n",
        "        return True\n",
        "\n",
        "# Test cases\n",
        "solution = Solution()\n",
        "\n",
        "# Test case 1\n",
        "s1, t1 = \"anagram\", \"nagaram\"\n",
        "result1 = solution.isAnagram(s1, t1)\n",
        "\n",
        "# Test case 2\n",
        "s2, t2 = \"rat\", \"car\"\n",
        "result2 = solution.isAnagram(s2, t2)\n",
        "\n",
        "result1, result2\n"
      ],
      "metadata": {
        "colab": {
          "base_uri": "https://localhost:8080/"
        },
        "id": "4I588T6m_e0-",
        "outputId": "527f941b-6a7f-4aed-cea1-513290271681"
      },
      "execution_count": 10,
      "outputs": [
        {
          "output_type": "execute_result",
          "data": {
            "text/plain": [
              "(True, False)"
            ]
          },
          "metadata": {},
          "execution_count": 10
        }
      ]
    },
    {
      "cell_type": "code",
      "source": [],
      "metadata": {
        "id": "ko_LASB2_396"
      },
      "execution_count": null,
      "outputs": []
    }
  ]
}