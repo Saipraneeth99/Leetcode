{
  "nbformat": 4,
  "nbformat_minor": 0,
  "metadata": {
    "colab": {
      "provenance": [],
      "authorship_tag": "ABX9TyPFV4VgPdt6G5fEKRb1Ji1u",
      "include_colab_link": true
    },
    "kernelspec": {
      "name": "python3",
      "display_name": "Python 3"
    },
    "language_info": {
      "name": "python"
    }
  },
  "cells": [
    {
      "cell_type": "markdown",
      "metadata": {
        "id": "view-in-github",
        "colab_type": "text"
      },
      "source": [
        "<a href=\"https://colab.research.google.com/github/Saipraneeth99/Leetcode/blob/main/week1/TIQ_DP.ipynb\" target=\"_parent\"><img src=\"https://colab.research.google.com/assets/colab-badge.svg\" alt=\"Open In Colab\"/></a>"
      ]
    },
    {
      "cell_type": "markdown",
      "source": [
        "## 70. [Climbing Stairs](https://leetcode.com/problems/climbing-stairs/)\n",
        "\n",
        "### Conceptual Logic\n",
        "The method calculates the number of distinct ways to climb to the top of the staircase with `n` steps. It recognizes that the number of ways to reach a particular step is the sum of ways to reach the two preceding steps, reflecting the Fibonacci sequence.\n",
        "\n",
        "### Why This Approach?\n",
        "Dynamic programming (DP) is used because the problem has overlapping subproblems and optimal substructure properties. The DP approach efficiently computes the unique ways to reach each step only once and stores them for future reference, avoiding redundant calculations.\n",
        "\n",
        "### Time and Space Complexity\n",
        "- **Time Complexity**: O(n), where n is the number of steps. The method iterates through the staircase steps once.\n",
        "- **Space Complexity**: O(n), for storing the number of ways to reach each step up to `n`.\n",
        "\n",
        "### Approach Name\n",
        "The algorithm utilizes a \"Bottom-Up Dynamic Programming\" or \"Tabulation\" approach, iteratively building up the solution for larger problems based on the solutions to smaller subproblems.\n"
      ],
      "metadata": {
        "id": "SBburOJ8MwXL"
      }
    },
    {
      "cell_type": "code",
      "source": [
        "\n",
        "class Solution:\n",
        "    def climbStairs(self, n):\n",
        "        if n == 1:\n",
        "            return 1\n",
        "        dp = [0] * n\n",
        "        dp[0] = 1\n",
        "        dp[1] = 2\n",
        "        for i in range(2, n):\n",
        "            dp[i] = dp[i - 1] + dp[i - 2]\n",
        "        return dp[-1]\n",
        "\n",
        "# Test cases\n",
        "solution = Solution()\n",
        "\n",
        "# Test case 1: 2 steps\n",
        "# Expected output: 2\n",
        "result1 = solution.climbStairs(2)\n",
        "\n",
        "# Test case 2: 3 steps\n",
        "# Expected output: 3\n",
        "result2 = solution.climbStairs(3)\n",
        "\n",
        "# Test case 3: 5 steps\n",
        "# Expected output: 8\n",
        "result3 = solution.climbStairs(5)\n",
        "\n",
        "result1, result2, result3\n"
      ],
      "metadata": {
        "colab": {
          "base_uri": "https://localhost:8080/"
        },
        "id": "lRGduZQaM2qE",
        "outputId": "ae78e093-9c89-40c2-e128-bd944c22ebc3"
      },
      "execution_count": 1,
      "outputs": [
        {
          "output_type": "execute_result",
          "data": {
            "text/plain": [
              "(2, 3, 8)"
            ]
          },
          "metadata": {},
          "execution_count": 1
        }
      ]
    },
    {
      "cell_type": "markdown",
      "source": [
        "## 121. [Best Time to Buy and Sell Stock](https://leetcode.com/problems/best-time-to-buy-and-sell-stock/description/)\n",
        "\n",
        "### Conceptual Logic\n",
        "This method calculates the maximum profit that can be achieved from a single stock trade (buy one and sell one share of the stock), given the stock price for each day. It iterates through the array of prices, updating the minimum purchase price and the maximum profit at each step.\n",
        "\n",
        "### Why This Approach?\n",
        "The approach uses dynamic programming to track the maximum profit at each day, comparing it with the maximum profit of the previous day. This avoids re-calculating the maximum profit for previous days, making the algorithm efficient for this problem.\n",
        "\n",
        "### Time and Space Complexity\n",
        "- **Time Complexity**: O(n), where n is the number of days. The algorithm requires a single pass through the array of prices.\n",
        "- **Space Complexity**: O(n), due to the DP array storing the maximum profit at each day. This can be optimized to O(1) by only keeping track of the minimum price and maximum profit without using a DP array.\n",
        "\n",
        "### Approach Name\n",
        "The algorithm is a \"One-Pass Dynamic Programming\" approach, as it only requires one pass through the price data to determine the maximum profit.\n"
      ],
      "metadata": {
        "id": "miUb0nvDPvL9"
      }
    },
    {
      "cell_type": "code",
      "source": [
        "\n",
        "class Solution:\n",
        "    def maxProfit(self, prices):\n",
        "        if not prices:\n",
        "            return 0\n",
        "\n",
        "        n = len(prices)\n",
        "        max_profit = 0\n",
        "        min_price = prices[0]\n",
        "\n",
        "        for i in range(1, n):\n",
        "            max_profit = max(max_profit, prices[i] - min_price)\n",
        "            min_price = min(min_price, prices[i])\n",
        "\n",
        "        return max_profit\n",
        "\n",
        "# Test cases\n",
        "solution = Solution()\n",
        "\n",
        "# Test case 1: Prices rise and fall across the week\n",
        "# Expected output: 5\n",
        "result1 = solution.maxProfit([7, 1, 5, 3, 6, 4])\n",
        "\n",
        "# Test case 2: Prices only fall\n",
        "# Expected output: 0 (no profit is possible)\n",
        "result2 = solution.maxProfit([7, 6, 4, 3, 1])\n",
        "\n",
        "result1, result2\n"
      ],
      "metadata": {
        "colab": {
          "base_uri": "https://localhost:8080/"
        },
        "id": "j2DZZ65qM7Ya",
        "outputId": "871f8d33-5f77-484b-c06e-4bcb47599b89"
      },
      "execution_count": 2,
      "outputs": [
        {
          "output_type": "execute_result",
          "data": {
            "text/plain": [
              "(5, 0)"
            ]
          },
          "metadata": {},
          "execution_count": 2
        }
      ]
    },
    {
      "cell_type": "markdown",
      "source": [
        "## 53. [Maximum Subarray](https://leetcode.com/problems/maximum-subarray/description/)\n",
        "\n",
        "### Conceptual Logic\n",
        "The method finds the contiguous subarray (containing at least one number) which has the largest sum. It utilizes dynamic programming to keep track of the maximum subarray sum ending at each index by comparing the current element with the sum of the current element and the maximum subarray sum up to the previous element.\n",
        "\n",
        "### Why This Approach?\n",
        "Dynamic programming is ideal for this problem as it breaks the problem down into subproblems of finding the maximum subarray sum up to each index. The overlapping subproblems property is evident as the maximum sum at each index depends on the maximum sum up to the previous index, enabling us to build up the solution incrementally.\n",
        "\n",
        "### Time and Space Complexity\n",
        "- **Time Complexity**: O(n), where n is the number of elements in the array. The solution requires a single pass through the array to compute the maximum sum at each index.\n",
        "- **Space Complexity**: O(n), due to the DP array storing the maximum subarray sum at each index. This can be optimized to O(1) by only tracking the current maximum sum and the overall maximum sum without using a DP array.\n",
        "\n",
        "### Approach Name\n",
        "The algorithm is known as \"Kadane's Algorithm\" for finding the maximum sum subarray in a one-dimensional array.\n"
      ],
      "metadata": {
        "id": "KBkQL9OMR6Or"
      }
    },
    {
      "cell_type": "code",
      "source": [
        "\n",
        "class Solution:\n",
        "    def maxSubArray(self, nums):\n",
        "        n = len(nums)\n",
        "        if n == 0:\n",
        "            return 0\n",
        "        if n == 1:\n",
        "            return nums[0]\n",
        "\n",
        "        max_sum = dp = nums[0]\n",
        "        for i in range(1, n):\n",
        "            dp = max(nums[i], nums[i] + dp)\n",
        "            max_sum = max(max_sum, dp)\n",
        "        return max_sum\n",
        "\n",
        "# Test cases\n",
        "solution = Solution()\n",
        "\n",
        "# Test case 1: Mixed positive and negative numbers\n",
        "# Expected output: 6 (subarray [4, -1, 2, 1])\n",
        "result1 = solution.maxSubArray([-2, 1, -3, 4, -1, 2, 1, -5, 4])\n",
        "\n",
        "# Test case 2: All negative numbers\n",
        "# Expected output: -1 (subarray [-1])\n",
        "result2 = solution.maxSubArray([-4, -1, -2, -3])\n",
        "\n",
        "result1, result2\n"
      ],
      "metadata": {
        "colab": {
          "base_uri": "https://localhost:8080/"
        },
        "id": "QVx4MttxPzJb",
        "outputId": "899a8b57-79fc-4a94-d0cc-e7f8cf22441b"
      },
      "execution_count": 3,
      "outputs": [
        {
          "output_type": "execute_result",
          "data": {
            "text/plain": [
              "(6, -1)"
            ]
          },
          "metadata": {},
          "execution_count": 3
        }
      ]
    },
    {
      "cell_type": "markdown",
      "source": [
        "## 198. [House Robber](https://leetcode.com/problems/house-robber/description/)\n",
        "\n",
        "### Conceptual Logic\n",
        "The method calculates the maximum amount of money that can be robbed from non-adjacent houses. It iteratively determines the maximum profit that can be obtained up to each house, considering whether to rob the current house based on the profit from previous decisions.\n",
        "\n",
        "### Why This Approach?\n",
        "This dynamic programming approach efficiently solves the problem by breaking it down into simpler subproblems: the maximum profit that can be obtained by robbing up to the current house. It avoids re-computation by storing intermediate results, leading to an optimal solution.\n",
        "\n",
        "### Time and Space Complexity\n",
        "- **Time Complexity**: O(n), where n is the number of houses. The algorithm requires a single pass through the array of house values.\n",
        "- **Space Complexity**: O(1), as it uses only a constant amount of space to store intermediate results, regardless of the input size.\n",
        "\n",
        "### Approach Name\n",
        "This solution applies the \"Iterative Dynamic Programming\" approach, specifically optimizing space usage by storing only the last two states needed to calculate the current state.\n"
      ],
      "metadata": {
        "id": "-mTSR1wOTvNV"
      }
    },
    {
      "cell_type": "code",
      "source": [
        "\n",
        "class Solution:\n",
        "    def rob(self, nums):\n",
        "        if not nums:\n",
        "            return 0\n",
        "        if len(nums) == 1:\n",
        "            return nums[0]\n",
        "\n",
        "        prev2 = 0  # Maximum profit up to two houses back\n",
        "        prev1 = nums[0]  # Maximum profit up to the first house\n",
        "\n",
        "        for i in range(1, len(nums)):\n",
        "            current = max(prev1, prev2 + nums[i])  # Decide whether to rob current house\n",
        "            prev2, prev1 = prev1, current  # Update for next iteration\n",
        "\n",
        "        return prev1  # Maximum profit up to the last house\n",
        "\n",
        "# Test cases\n",
        "solution = Solution()\n",
        "\n",
        "# Test case 1\n",
        "nums1 = [1, 2, 3, 1]\n",
        "# Expected output: 4\n",
        "result1 = solution.rob(nums1)\n",
        "\n",
        "# Test case 2\n",
        "nums2 = [2, 7, 9, 3, 1]\n",
        "# Expected output: 12\n",
        "result2 = solution.rob(nums2)\n",
        "\n",
        "result1, result2\n"
      ],
      "metadata": {
        "colab": {
          "base_uri": "https://localhost:8080/"
        },
        "id": "bTz2dw-uR9xE",
        "outputId": "ae6eab19-e5aa-4e7e-bf2e-96c6ee77edf4"
      },
      "execution_count": 4,
      "outputs": [
        {
          "output_type": "execute_result",
          "data": {
            "text/plain": [
              "(4, 12)"
            ]
          },
          "metadata": {},
          "execution_count": 4
        }
      ]
    },
    {
      "cell_type": "markdown",
      "source": [
        "## 76. [Minimum Window Substring](https://leetcode.com/problems/minimum-window-substring/description/)\n",
        "\n",
        "### Conceptual Logic\n",
        "This solution finds the smallest substring of `s` that contains all the characters in `t` using a sliding window technique. It expands the window by moving the right pointer to include characters and contracts it by moving the left pointer to exclude characters, tracking the frequency of characters required from `t` in the current window.\n",
        "\n",
        "### Why This Approach?\n",
        "The sliding window technique is efficient for this problem because it allows for dynamic resizing of the search space based on the presence of required characters. It incrementally checks for the minimum length substring that satisfies the conditions without re-examining each substring from scratch.\n",
        "\n",
        "### Time and Space Complexity\n",
        "- **Time Complexity**: O(S+T), where S and T are the lengths of strings `s` and `t`, respectively. In the worst case, the algorithm might end up visiting each character in `s` twice, once by moving the right pointer and once by moving the left pointer.\n",
        "- **Space Complexity**: O(S+T) for the hash maps, which store the frequency of characters in `t` and the frequency of characters in the current window of `s`.\n",
        "\n",
        "### Approach Name\n",
        "This algorithm uses the \"Optimized Sliding Window\" approach with character frequency maps for dynamic window resizing based on the matching criteria of characters between `s` and `t`.\n"
      ],
      "metadata": {
        "id": "MR9s2ZMhYU0Q"
      }
    },
    {
      "cell_type": "code",
      "source": [
        "\n",
        "from collections import Counter\n",
        "\n",
        "class Solution:\n",
        "    def minWindow(self, s, t):\n",
        "        if not t or not s:\n",
        "            return \"\"\n",
        "\n",
        "        dict_t = Counter(t)\n",
        "        required = len(dict_t)\n",
        "\n",
        "        l, r = 0, 0\n",
        "        formed = 0\n",
        "        window_counts = {}\n",
        "\n",
        "        ans = float(\"inf\"), None, None\n",
        "\n",
        "        while r < len(s):\n",
        "            character = s[r]\n",
        "            window_counts[character] = window_counts.get(character, 0) + 1\n",
        "\n",
        "            if character in dict_t and window_counts[character] == dict_t[character]:\n",
        "                formed += 1\n",
        "\n",
        "            while l <= r and formed == required:\n",
        "                character = s[l]\n",
        "\n",
        "                if r - l + 1 < ans[0]:\n",
        "                    ans = (r - l + 1, l, r)\n",
        "\n",
        "                window_counts[character] -= 1\n",
        "                if character in dict_t and window_counts[character] < dict_t[character]:\n",
        "                    formed -= 1\n",
        "\n",
        "                l += 1\n",
        "\n",
        "            r += 1\n",
        "\n",
        "        return \"\" if ans[0] == float(\"inf\") else s[ans[1]:ans[2]+1]\n",
        "\n",
        "# Test cases\n",
        "solution = Solution()\n",
        "\n",
        "# Test case 1\n",
        "s1 = \"ADOBECODEBANC\"\n",
        "t1 = \"ABC\"\n",
        "# Expected output: \"BANC\"\n",
        "result1 = solution.minWindow(s1, t1)\n",
        "\n",
        "# Test case 2\n",
        "s2 = \"a\"\n",
        "t2 = \"a\"\n",
        "# Expected output: \"a\"\n",
        "result2 = solution.minWindow(s2, t2)\n",
        "\n",
        "result1, result2\n"
      ],
      "metadata": {
        "colab": {
          "base_uri": "https://localhost:8080/"
        },
        "id": "9s8w7pAhT1Fj",
        "outputId": "61845947-733f-4f49-db07-d8205a5bb6d4"
      },
      "execution_count": 7,
      "outputs": [
        {
          "output_type": "execute_result",
          "data": {
            "text/plain": [
              "('BANC', 'a')"
            ]
          },
          "metadata": {},
          "execution_count": 7
        }
      ]
    },
    {
      "cell_type": "code",
      "source": [],
      "metadata": {
        "id": "OEhJ18WwYY8b"
      },
      "execution_count": null,
      "outputs": []
    }
  ]
}