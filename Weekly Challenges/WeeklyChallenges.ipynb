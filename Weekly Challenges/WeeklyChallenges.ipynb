{
  "nbformat": 4,
  "nbformat_minor": 0,
  "metadata": {
    "colab": {
      "provenance": [],
      "include_colab_link": true
    },
    "kernelspec": {
      "name": "python3",
      "display_name": "Python 3"
    },
    "language_info": {
      "name": "python"
    }
  },
  "cells": [
    {
      "cell_type": "markdown",
      "metadata": {
        "id": "view-in-github",
        "colab_type": "text"
      },
      "source": [
        "<a href=\"https://colab.research.google.com/github/Saipraneeth99/Leetcode/blob/main/Weekly%20Challenges/WeeklyChallenges.ipynb\" target=\"_parent\"><img src=\"https://colab.research.google.com/assets/colab-badge.svg\" alt=\"Open In Colab\"/></a>"
      ]
    },
    {
      "cell_type": "markdown",
      "source": [
        "## 293. [Flip Game](https://leetcode.com/problems/flip-game/)\n",
        "\n",
        "### Conceptual Logic\n",
        "This method generates all possible states of a string representing a row of dominoes by flipping any two adjacent \"++\" into \"--\". It scans through the current state string and applies the flip transformation whenever the condition is met.\n",
        "\n",
        "### Why This Approach?\n",
        "The approach is essentially scanning through the string with a window of size two (the \"++\" pattern). When a match is found, the string is altered to produce a new state, which is a classic case of string manipulation based on pattern matching.\n",
        "\n",
        "### Time and Space Complexity\n",
        "- **Time Complexity**: O(n), where n is the length of the `currentState` string. Each character (except the last one) is visited once.\n",
        "- **Space Complexity**: O(m * n), where m is the number of possible moves, and n is the length of the string. This is because each solution is a new string of length n.\n",
        "\n",
        "### Approach Name\n",
        "Approach: Linear Iteration\" as it involves Linearly Iterating over the given string. # From Editorial\n"
      ],
      "metadata": {
        "id": "c6XV82YA4bHR"
      }
    },
    {
      "cell_type": "code",
      "source": [
        "\n",
        "class Solution:\n",
        "    def generatePossibleNextMoves(self, currentState):\n",
        "        solutions = []\n",
        "        for i in range(len(currentState) - 1):\n",
        "            if currentState[i:i+2] == '++':\n",
        "                solutions.append(currentState[:i] + \"--\" + currentState[i+2:])\n",
        "        return solutions\n",
        "\n",
        "# Test cases\n",
        "solution = Solution()\n",
        "\n",
        "# Test case 1\n",
        "currentState1 = \"++++\"\n",
        "# Expected output: [\"--++\", \"+--+\", \"++--\"]\n",
        "result1 = solution.generatePossibleNextMoves(currentState1)\n",
        "\n",
        "# Test case 2\n",
        "currentState2 = \"+-++-\"\n",
        "# Expected output: [\"+--+-\"]\n",
        "result2 = solution.generatePossibleNextMoves(currentState2)\n",
        "\n",
        "result1, result2\n"
      ],
      "metadata": {
        "id": "9XHL9KHM4d5E"
      },
      "execution_count": null,
      "outputs": []
    }
  ]
}