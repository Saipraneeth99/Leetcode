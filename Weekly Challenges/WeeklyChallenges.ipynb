{
  "nbformat": 4,
  "nbformat_minor": 0,
  "metadata": {
    "colab": {
      "provenance": [],
      "include_colab_link": true
    },
    "kernelspec": {
      "name": "python3",
      "display_name": "Python 3"
    },
    "language_info": {
      "name": "python"
    }
  },
  "cells": [
    {
      "cell_type": "markdown",
      "metadata": {
        "id": "view-in-github",
        "colab_type": "text"
      },
      "source": [
        "<a href=\"https://colab.research.google.com/github/Saipraneeth99/Leetcode/blob/main/Weekly%20Challenges/WeeklyChallenges.ipynb\" target=\"_parent\"><img src=\"https://colab.research.google.com/assets/colab-badge.svg\" alt=\"Open In Colab\"/></a>"
      ]
    },
    {
      "cell_type": "markdown",
      "source": [
        "## 293. [Flip Game](https://leetcode.com/problems/flip-game/)\n",
        "\n",
        "### Conceptual Logic\n",
        "This method generates all possible states of a string representing a row of dominoes by flipping any two adjacent \"++\" into \"--\". It scans through the current state string and applies the flip transformation whenever the condition is met.\n",
        "\n",
        "### Why This Approach?\n",
        "The approach is essentially scanning through the string with a window of size two (the \"++\" pattern). When a match is found, the string is altered to produce a new state, which is a classic case of string manipulation based on pattern matching.\n",
        "\n",
        "### Time and Space Complexity\n",
        "- **Time Complexity**: O(n), where n is the length of the `currentState` string. Each character (except the last one) is visited once.\n",
        "- **Space Complexity**: O(m * n), where m is the number of possible moves, and n is the length of the string. This is because each solution is a new string of length n.\n",
        "\n",
        "### Approach Name\n",
        "Approach: Linear Iteration\" as it involves Linearly Iterating over the given string. # From Editorial\n"
      ],
      "metadata": {
        "id": "c6XV82YA4bHR"
      }
    },
    {
      "cell_type": "code",
      "source": [
        "\n",
        "class Solution:\n",
        "    def generatePossibleNextMoves(self, currentState):\n",
        "        solutions = []\n",
        "        for i in range(len(currentState) - 1):\n",
        "            if currentState[i:i+2] == '++':\n",
        "                solutions.append(currentState[:i] + \"--\" + currentState[i+2:])\n",
        "        return solutions\n",
        "\n",
        "# Test cases\n",
        "solution = Solution()\n",
        "\n",
        "# Test case 1\n",
        "currentState1 = \"++++\"\n",
        "# Expected output: [\"--++\", \"+--+\", \"++--\"]\n",
        "result1 = solution.generatePossibleNextMoves(currentState1)\n",
        "\n",
        "# Test case 2\n",
        "currentState2 = \"+-++-\"\n",
        "# Expected output: [\"+--+-\"]\n",
        "result2 = solution.generatePossibleNextMoves(currentState2)\n",
        "\n",
        "result1, result2\n"
      ],
      "metadata": {
        "id": "9XHL9KHM4d5E"
      },
      "execution_count": null,
      "outputs": []
    },
    {
      "cell_type": "markdown",
      "source": [
        "## 276. Paint Fence\n",
        "\n",
        "### Problem Description\n",
        "Given `n` fence posts and `k` colors, find the number of ways to paint all the posts such that no more than two consecutive posts have the same color.\n",
        "\n",
        "### Logical Approach\n",
        "To solve this problem, a dynamic programming approach is used. The key insight is that for any post `i`, you can either paint it the same color as the previous one (with certain restrictions) or a different color. The total ways to paint `i` posts depend on the decisions made for the previous two posts due to the constraint of not having more than two consecutive posts with the same color.\n",
        "\n",
        "### Dynamic Programming Formula\n",
        "- If `i == 1`, there are `k` ways to paint the post (since there are no restrictions).\n",
        "- If `i == 2`, each post can be painted in `k` ways, resulting in `k * k` total combinations.\n",
        "- For `i > 2`, the number of ways to paint the `i`th post is:\n",
        "  - `(k - 1) * total_ways(i - 1)`: Painting the `i`th post a different color than the `(i-1)`th post.\n",
        "  - `(k - 1) * total_ways(i - 2)`: Painting the `i`th post the same color as the `(i-1)`th post but ensuring `(i-2)`th post is a different color to avoid three consecutive same colors.\n",
        "\n",
        "These cases are combined because, for any post, you're choosing between `k-1` colors different from the immediate previous post, accounting for both the scenarios where the last two were the same or different.\n",
        "\n",
        "### Implementation\n",
        "Memoization is used to store the results of subproblems to avoid recalculating them, optimizing the solution.\n",
        "\n",
        "### Time and Space Complexity\n",
        "- **Time Complexity**: O(n), where `n` is the number of posts. Each post calculation is done once due to memoization.\n",
        "- **Space Complexity**: O(n) for the memoization storage.\n",
        "\n",
        "\n",
        "\n",
        "\n",
        "### Explanation\n",
        "This solution methodically calculates the number of ways to paint the fence while adhering to the given constraints, using a bottom-up dynamic programming approach facilitated by memoization to ensure efficiency and avoid recalculations of the same subproblems."
      ],
      "metadata": {
        "id": "nh_ONfocIIJV"
      }
    },
    {
      "cell_type": "code",
      "source": [
        "class Solution:\n",
        "    def numWays(self, n: int, k: int) -> int:\n",
        "        memo = {1: k, 2: k * k}\n",
        "\n",
        "        def total_ways(i):\n",
        "            if i in memo:\n",
        "                return memo[i]\n",
        "            memo[i] = (k - 1) * (total_ways(i - 1) + total_ways(i - 2))\n",
        "            return memo[i]\n",
        "\n",
        "        return total_ways(n)\n",
        "\n",
        "# Example Usage\n",
        "solution = Solution()\n",
        "print(solution.numWays(3, 2))  # Output: 6\n",
        "print(solution.numWays(1, 1))  # Output: 1\n",
        "print(solution.numWays(7, 2))  # Output: 42\n"
      ],
      "metadata": {
        "colab": {
          "base_uri": "https://localhost:8080/"
        },
        "id": "4TjLwCwdIHa4",
        "outputId": "22608d7b-9c2c-4166-d8f8-f75339973ef3"
      },
      "execution_count": 1,
      "outputs": [
        {
          "output_type": "stream",
          "name": "stdout",
          "text": [
            "6\n",
            "1\n",
            "42\n"
          ]
        }
      ]
    },
    {
      "cell_type": "markdown",
      "source": [
        "## 1272. Remove Interval\n",
        "\n",
        "### Problem Description\n",
        "Given a sorted list of disjoint intervals and another interval `toBeRemoved`, the task is to return the set of real numbers from the original intervals with `toBeRemoved` excluded. The answer should be a sorted list of disjoint intervals.\n",
        "\n",
        "### Logical Approach\n",
        "This problem is approached by iterating through each interval in the given list and comparing it with the interval to be removed. The key is to handle three main scenarios:\n",
        "1. **Non-Overlapping Before `toBeRemoved`**: If an interval ends before `toBeRemoved` starts, or starts after `toBeRemoved` ends, it remains unaffected and is added to the result.\n",
        "2. **Partial Overlap**: If an interval overlaps partially with `toBeRemoved`, only the non-overlapping part(s) of the interval are added to the result.\n",
        "3. **Complete Overlap**: If an interval is completely overlapped by `toBeRemoved`, it is excluded from the result.\n",
        "\n",
        "### Implementation Details\n",
        "- **Non-Overlapping Intervals**: Directly added to the result.\n",
        "- **Overlapping Intervals**: Sub-intervals created from the non-overlapping sections are added to the result. This may involve splitting an interval into two parts if `toBeRemoved` lies within it.\n",
        "- **Sorting**: Given intervals are already sorted, and the approach maintains this order.\n",
        "\n",
        "### Time and Space Complexity\n",
        "- **Time Complexity**: O(n), where `n` is the number of intervals. Each interval is processed exactly once.\n",
        "- **Space Complexity**: O(n) for the output list. In the worst case, the number of intervals in the result list matches the input list.\n",
        "\n",
        "\n",
        "\n",
        "\n",
        "\n",
        "### Explanation\n",
        "This solution efficiently processes each interval relative to `toBeRemoved`, adding to the result any sections of intervals that don't overlap with `toBeRemoved`. It ensures that the resulting set of intervals excludes `toBeRemoved` while preserving the order and disjoint nature of the original intervals."
      ],
      "metadata": {
        "id": "r1MhNfOpIt8-"
      }
    },
    {
      "cell_type": "code",
      "source": [
        "\n",
        "class Solution:\n",
        "    def removeInterval(self, intervals, toBeRemoved):\n",
        "        result = []\n",
        "        removedStart, removedEnd = toBeRemoved\n",
        "\n",
        "        for start, end in intervals:\n",
        "            # Non-overlapping interval before or after the interval to be removed\n",
        "            if start >= removedEnd or end <= removedStart:\n",
        "                result.append([start, end])\n",
        "            else:\n",
        "                # For partially overlapping intervals, add the non-overlapping parts\n",
        "                if start < removedStart:\n",
        "                    result.append([start, removedStart])\n",
        "                if end > removedEnd:\n",
        "                    result.append([removedEnd, end])\n",
        "\n",
        "        return result\n",
        "\n",
        "# Example Usage\n",
        "solution = Solution()\n",
        "print(solution.removeInterval([[0,2],[3,4],[5,7]], [1,6]))  # Output: [[0,1],[6,7]]\n",
        "print(solution.removeInterval([[0,5]], [2,3]))  # Output: [[0,2],[3,5]]\n",
        "print(solution.removeInterval([[-5,-4],[-3,-2],[1,2],[3,5],[8,9]], [-1,4]))  # Output: [[-5,-4],[-3,-2],[4,5],[8,9]]\n"
      ],
      "metadata": {
        "colab": {
          "base_uri": "https://localhost:8080/"
        },
        "id": "SVtdrGVeIPZJ",
        "outputId": "4aabb8e5-fd89-4e56-cc4c-67e381e6968c"
      },
      "execution_count": 2,
      "outputs": [
        {
          "output_type": "stream",
          "name": "stdout",
          "text": [
            "[[0, 1], [6, 7]]\n",
            "[[0, 2], [3, 5]]\n",
            "[[-5, -4], [-3, -2], [4, 5], [8, 9]]\n"
          ]
        }
      ]
    },
    {
      "cell_type": "code",
      "source": [],
      "metadata": {
        "id": "Fg0W1Uu4Iypf"
      },
      "execution_count": null,
      "outputs": []
    }
  ]
}